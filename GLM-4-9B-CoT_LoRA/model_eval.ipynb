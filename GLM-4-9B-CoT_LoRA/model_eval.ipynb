{
 "cells": [
  {
   "cell_type": "code",
   "execution_count": 1,
   "metadata": {},
   "outputs": [],
   "source": [
    "from pathlib import Path\n",
    "from typing import Annotated, Union\n",
    "\n",
    "import typer\n",
    "from peft import AutoPeftModelForCausalLM, PeftModelForCausalLM\n",
    "from transformers import (\n",
    "    AutoModelForCausalLM,\n",
    "    AutoTokenizer,\n",
    "    PreTrainedModel,\n",
    "    PreTrainedTokenizer,\n",
    "    PreTrainedTokenizerFast\n",
    ")\n",
    "\n",
    "ModelType = Union[PreTrainedModel, PeftModelForCausalLM]\n",
    "TokenizerType = Union[PreTrainedTokenizer, PreTrainedTokenizerFast]\n",
    "\n",
    "def load_model_and_tokenizer(\n",
    "        model_dir: Union[str, Path], trust_remote_code: bool = True\n",
    ") -> tuple[ModelType, TokenizerType]:\n",
    "    model_dir = Path(model_dir).expanduser().resolve()\n",
    "    if (model_dir / 'adapter_config.json').exists():\n",
    "        model = AutoPeftModelForCausalLM.from_pretrained(\n",
    "            model_dir, trust_remote_code=trust_remote_code, device_map='auto'\n",
    "        )\n",
    "        tokenizer_dir = model.peft_config['default'].base_model_name_or_path\n",
    "    else:\n",
    "        model = AutoModelForCausalLM.from_pretrained(\n",
    "            model_dir, trust_remote_code=trust_remote_code, device_map='auto'\n",
    "        )\n",
    "        tokenizer_dir = model_dir\n",
    "    tokenizer = AutoTokenizer.from_pretrained(\n",
    "        tokenizer_dir, trust_remote_code=trust_remote_code, encode_special_tokens=True, use_fast=False\n",
    "    )\n",
    "    return model, tokenizer"
   ]
  },
  {
   "cell_type": "code",
   "execution_count": 2,
   "metadata": {},
   "outputs": [
    {
     "data": {
      "application/vnd.jupyter.widget-view+json": {
       "model_id": "537705d9ea8742d993c27c4131e6fd44",
       "version_major": 2,
       "version_minor": 0
      },
      "text/plain": [
       "Loading checkpoint shards:   0%|          | 0/10 [00:00<?, ?it/s]"
      ]
     },
     "metadata": {},
     "output_type": "display_data"
    },
    {
     "name": "stderr",
     "output_type": "stream",
     "text": [
      "Special tokens have been added in the vocabulary, make sure the associated word embeddings are fine-tuned or trained.\n"
     ]
    }
   ],
   "source": [
    "model_dir = \"../../output/checkpoint-1000\"\n",
    "model, tokenizer = load_model_and_tokenizer(model_dir)"
   ]
  },
  {
   "cell_type": "code",
   "execution_count": 3,
   "metadata": {},
   "outputs": [
    {
     "data": {
      "text/html": [
       "<div>\n",
       "<style scoped>\n",
       "    .dataframe tbody tr th:only-of-type {\n",
       "        vertical-align: middle;\n",
       "    }\n",
       "\n",
       "    .dataframe tbody tr th {\n",
       "        vertical-align: top;\n",
       "    }\n",
       "\n",
       "    .dataframe thead th {\n",
       "        text-align: right;\n",
       "    }\n",
       "</style>\n",
       "<table border=\"1\" class=\"dataframe\">\n",
       "  <thead>\n",
       "    <tr style=\"text-align: right;\">\n",
       "      <th></th>\n",
       "      <th>messages</th>\n",
       "    </tr>\n",
       "  </thead>\n",
       "  <tbody>\n",
       "    <tr>\n",
       "      <th>0</th>\n",
       "      <td>[{'role': 'user', 'content': '\n",
       "&lt;任务&gt;\n",
       "    你现在是一个...</td>\n",
       "    </tr>\n",
       "    <tr>\n",
       "      <th>1</th>\n",
       "      <td>[{'role': 'user', 'content': '\n",
       "&lt;任务&gt;\n",
       "    你现在是一个...</td>\n",
       "    </tr>\n",
       "    <tr>\n",
       "      <th>2</th>\n",
       "      <td>[{'role': 'user', 'content': '\n",
       "&lt;任务&gt;\n",
       "    你现在是一个...</td>\n",
       "    </tr>\n",
       "    <tr>\n",
       "      <th>3</th>\n",
       "      <td>[{'role': 'user', 'content': '\n",
       "&lt;任务&gt;\n",
       "    你现在是一个...</td>\n",
       "    </tr>\n",
       "    <tr>\n",
       "      <th>4</th>\n",
       "      <td>[{'role': 'user', 'content': '\n",
       "&lt;任务&gt;\n",
       "    你现在是一个...</td>\n",
       "    </tr>\n",
       "  </tbody>\n",
       "</table>\n",
       "</div>"
      ],
      "text/plain": [
       "                                            messages\n",
       "0  [{'role': 'user', 'content': '\n",
       "<任务>\n",
       "    你现在是一个...\n",
       "1  [{'role': 'user', 'content': '\n",
       "<任务>\n",
       "    你现在是一个...\n",
       "2  [{'role': 'user', 'content': '\n",
       "<任务>\n",
       "    你现在是一个...\n",
       "3  [{'role': 'user', 'content': '\n",
       "<任务>\n",
       "    你现在是一个...\n",
       "4  [{'role': 'user', 'content': '\n",
       "<任务>\n",
       "    你现在是一个..."
      ]
     },
     "execution_count": 3,
     "metadata": {},
     "output_type": "execute_result"
    }
   ],
   "source": [
    "from tools.utils import post_process,read_jsonl\n",
    "\n",
    "json_file_path = 'data/dev.jsonl'\n",
    "df = read_jsonl(json_file_path)\n",
    "df.head()"
   ]
  },
  {
   "cell_type": "code",
   "execution_count": 20,
   "metadata": {},
   "outputs": [
    {
     "name": "stdout",
     "output_type": "stream",
     "text": [
      "\n",
      "<任务>\n",
      "    你现在是一个金融领域专家，负责在接收用户的**股票查询**相关的提问(query)后，通过详细分析问题，编排api来得到用户query的答案，为了保证逻辑的严谨性，你需要将问题一步步拆解，写出思考过程，最后给出json格式的标准答案。\n",
      "    API描述：\n",
      "        所有可用的api名称（共有三类，分别为：股票查询、数值计算和逻辑运算）：\n",
      "            股票查询类api:\n",
      "                名称：\n",
      "                    代码,开盘价,最高价,最低价,当前价,收盘价,成交量,成交额,涨停价,跌停价,涨跌额,涨跌幅,主力资金流入,主力资金流出,主力资金净流入,总流入,总流出,\n",
      "                    换手率,每股收益,静态市盈率,总市值,振幅,流通市值,每股收益ttm,市盈率ttm,净资产收益率,每股净资产,每股经营性现金流,毛利率,净利率,净利润,\n",
      "                    净利润同比增长,营业收入,营收同比增长,投资收入,营业利润,营业利润同比增长,扣非净利润,流动资产,总资产,短期负债,总负债,股东权益,净经营性现金流,净投资性现金流,净融资性现金流,银行资本充足率,流通股本,总股本,高管名称\n",
      "                说明：\n",
      "                    其中第一行除了\"代码\"以外的api（从“开盘价”到“总流出”），有第二参数：时间。其余api均只有1个参数。\n",
      "            数值计算类(4个)：\n",
      "                名称：加法计算,减法计算,乘法计算,除法计算\n",
      "                说明：输入两个数值，做相应计算\n",
      "            逻辑运算类(2个)：\n",
      "                名称：与运算,或运算\n",
      "                说明：输入两个列表，分别是做交集和并集\n",
      "    行业背景知识&Tips（可以辅助你分析解决问题）：\n",
      "        1. 如无特殊说明，计算收益(率)统一使用收盘价计算\n",
      "        2. 涉及到市盈率，一般指的是静态市盈率；动态市盈率指的是市盈率ttm\n",
      "        3. 只能选用上文中\"所有可用的api\"中的api，不能捏造\n",
      "        4. 切题，避免无关的api调用\n",
      "    最终答案中的json格式为（其中tool_name为api类别，api_id从0开始依次递增）：\n",
      "        {\"relevant APIs\": [{\"api_id\": \"0\", \"api_name\": \"...\", \"required_parameters\": [...], \"rely_apis\": [...], \"tool_name\": \"...\"},...],\"result\": [\"api_5的结果\"]}\n",
      "</任务>\n",
      "\n",
      "<示例>\n",
      "    <query>\n",
      "        我打算用100万元买三羊马的股票，如果按照三羊马的最高价来计算，我能买多少股呢？问题中提到的产品标准名可能是：三羊马、万马股份\n",
      "    </query>\n",
      "    <output>\n",
      "        思考过程：\n",
      "            对于这个股票查询类任务，我们可以分为以下步骤：\n",
      "            1. 根据问题中提到的股票名称“三羊马”，我们需要将其转换为股票代码，以便后续查询。\n",
      "            2. 调用 股票查询-代码(api_0) 获取“三羊马”的股票代码。\n",
      "            3. 获取股票代码后，调用 股票查询-最高价(api_1) 获取今日“三羊马”的最高价。\n",
      "            4. 根据问题，用户打算用100万元购买股票，我们需要计算在最高价下能购买多少股。\n",
      "            5. 调用 数值计算-除法计算(api_2)，将100万元除以最高价，计算出能购买的股票数量。\n",
      "            6. 最终输出能购买的股票数量，即 api_2 的结果。\n",
      "        于是最终标准的json格式结果为:\n",
      "            {\"relevant APIs\": [{\"api_id\": \"0\", \"api_name\": \"代码\", \"required_parameters\": [[\"三羊马\"]], \"rely_apis\": [], \"tool_name\": \"股票查询\"}, {\"api_id\": \"1\", \"api_name\": \"最高价\", \"required_parameters\": [\"api_0的结果\", \"今日\"], \"rely_apis\": [\"0\"], \"tool_name\": \"股票查询\"}, {\"api_id\": \"2\", \"api_name\": \"除法计算\", \"required_parameters\": [\"1000000\", \"api_1的结果\"], \"rely_apis\": [\"1\"], \"tool_name\": \"数值计算\"}], \"result\": [\"api_2的结果\"]}\n",
      "    </output>\n",
      "</示例>\n",
      "\n",
      "<query>\n",
      "    我想知道敏芯今天收盘价和开盘价的差值是多少?\n",
      "    query中提到的产品标准名可能是：敏芯股份、天和防务、今天国际、道道全、赤天化、赛福天、英集芯、芯瑞达、芯源微、芯朋微、美芯晟、纳芯微、瑞芯微、溢多利、泸天化、楚天龙、新开源、新开普、新天地、开普云、广和通、好想你、太和水、天融信、天纺标、天目湖、天津港、天汽模、天智航、天德钰、天士力、天地源、天亿马、天下秀、多浦乐、多氟多、和而泰、味知香、力芯微、利和兴、值得买、今世缘、亿嘉和、云天化、中巨芯、龙芯中科、麦加芯彩、香农芯创、首开股份、飞天诚信\n",
      "</query>\n",
      "\n"
     ]
    }
   ],
   "source": [
    "print(df.iloc[80,0][0]['content'])"
   ]
  },
  {
   "cell_type": "code",
   "execution_count": 12,
   "metadata": {},
   "outputs": [
    {
     "name": "stdout",
     "output_type": "stream",
     "text": [
      "-----data index-----\n",
      "6\n",
      "-----query input-----\n",
      "-----output diff-----\n",
      "{\"relevant APIs\": [{\"api_id\": \"0\", \"api_name\": \"查询代码\", \"required_parameters\": [[\"金鹰稳进配置六个月持有期混合型发起式基金中基金(FOF)C类\"]], \"rely_apis\": [], \"tool_name\": \"基金查询\"}, {\"api_id\": \"1\", \"api_name\": \"查询申购费率\", \"required_parameters\": [\"api_0的结果\"], \"rely_apis\": [\"0\"], \"tool_name\": \"基金查询\"}, {\"api_id\": \"2\", \"api_name\": \"乘法计算\", \"required_parameters\": [\"\u001b[31ma\u001b[0m\u001b[31mp\u001b[0m\u001b[31mi\u001b[0m\u001b[31m_\u001b[0m\u001b[31m1\u001b[0m\u001b[31m的\u001b[0m\u001b[31m结\u001b[0m\u001b[31m果\u001b[0m\"\u001b[31m,\u001b[0m\u001b[31m \u001b[0m\u001b[31m\"\u001b[0m\u001b[31m1\u001b[0m\u001b[31m0\u001b[0m\u001b[31m0\u001b[0m\u001b[31m0\u001b[0m\u001b[31m0\u001b[0m\"], \"rely_apis\": [\"1\"], \"tool_name\": \"数值计算\"}], \"result\": [\"api_2的结果\"]}\n",
      "{\"relevant APIs\": [{\"api_id\": \"0\", \"api_name\": \"查询代码\", \"required_parameters\": [[\"金鹰稳进配置六个月持有期混合型发起式基金中基金(FOF)C类\"]], \"rely_apis\": [], \"tool_name\": \"基金查询\"}, {\"api_id\": \"1\", \"api_name\": \"查询申购费率\", \"required_parameters\": [\"api_0的结果\"], \"rely_apis\": [\"0\"], \"tool_name\": \"基金查询\"}, {\"api_id\": \"2\", \"api_name\": \"乘法计算\", \"required_parameters\": [\"10000\", \"api_1的结果\"], \"rely_apis\": [\"1\"], \"tool_name\": \"数值计算\"}], \"result\": [\"api_2的结果\"]}\n",
      "\n",
      "-----data index-----\n",
      "30\n",
      "-----query input-----\n",
      "-----output diff-----\n",
      "{\"relevant APIs\": [{\"api_id\": \"0\", \"api_name\": \"查询代码\", \"required_parameters\": [[\"中信建投中证500指数增强型证券投资基金A类\"]], \"rely_apis\": [], \"tool_name\": \"基金查询\"}, {\"api_id\": \"1\", \"api_name\": \"查询近期收益率\", \"required_parameters\": [\"api_0的结果\", \"1年\"], \"rely_apis\": [\"0\"], \"tool_name\": \"基金查询\"}, {\"api_id\": \"2\", \"api_name\": \"乘法计算\", \"required_parameters\": [\"api_1的结果\", \"5000\"], \"rely_apis\": [\"1\"], \"tool_name\": \"数值计算\"}, {\"api_id\": \"3\", \"api_name\": \"\u001b[31m加\u001b[0m\u001b[31m法\u001b[0m\u001b[31m计\u001b[0m\u001b[31m算\u001b[0m\u001b[31m\"\u001b[0m\u001b[31m,\u001b[0m\u001b[31m \u001b[0m\u001b[31m\"\u001b[0m\u001b[31mr\u001b[0m\u001b[31me\u001b[0m\u001b[31mq\u001b[0m\u001b[31mu\u001b[0m\u001b[31mi\u001b[0m\u001b[31mr\u001b[0m\u001b[31me\u001b[0m\u001b[31md\u001b[0m\u001b[31m_\u001b[0m\u001b[31mp\u001b[0m\u001b[31ma\u001b[0m\u001b[31mr\u001b[0ma\u001b[31mm\u001b[0m\u001b[31me\u001b[0m\u001b[31mt\u001b[0me\u001b[31mr\u001b[0m\u001b[31ms\u001b[0m\u001b[31m\"\u001b[0m\u001b[31m:\u001b[0m\u001b[31m \u001b[0m\u001b[31m[\u001b[0m\u001b[31m\"\u001b[0m\u001b[31ma\u001b[0m\u001b[31mp\u001b[0m\u001b[31mi\u001b[0m\u001b[31m_\u001b[0m\u001b[31m2\u001b[0m\u001b[31m的\u001b[0m\u001b[31m结\u001b[0m\u001b[31m果\u001b[0m\u001b[31m\"\u001b[0m\u001b[31m,\u001b[0m\u001b[31m \u001b[0m\u001b[31m\"\u001b[0m\u001b[31m5\u001b[0m\u001b[31m0\u001b[0m\u001b[31m0\u001b[0m\u001b[31m0\u001b[0m\u001b[31m\"\u001b[0m\u001b[31m]\u001b[0m\u001b[31m,\u001b[0m\u001b[31m \u001b[0m\u001b[31m\"\u001b[0m\u001b[31mr\u001b[0m\u001b[31me\u001b[0m\u001b[31ml\u001b[0m\u001b[31my\u001b[0m\u001b[31m_\u001b[0m\u001b[31ma\u001b[0m\u001b[31mp\u001b[0m\u001b[31mi\u001b[0m\u001b[31ms\u001b[0m\"\u001b[31m:\u001b[0m\u001b[31m \u001b[0m\u001b[31m[\u001b[0m\"\u001b[31m2\u001b[0m\u001b[31m\"\u001b[0m\u001b[31m]\u001b[0m\u001b[31m,\u001b[0m\u001b[31m \u001b[0m\u001b[31m\"\u001b[0m\u001b[31mt\u001b[0m\u001b[31mo\u001b[0m\u001b[31mo\u001b[0m\u001b[31ml\u001b[0m\u001b[31m_\u001b[0m\u001b[31mn\u001b[0m\u001b[31ma\u001b[0m\u001b[31mm\u001b[0m\u001b[31me\u001b[0m\u001b[31m\"\u001b[0m\u001b[31m:\u001b[0m\u001b[31m \u001b[0m\u001b[31m\"\u001b[0m\u001b[31m数\u001b[0m\u001b[31m值\u001b[0m\u001b[31m计\u001b[0m\u001b[31m算\u001b[0m\u001b[31m\"\u001b[0m\u001b[31m}\u001b[0m\u001b[31m,\u001b[0m\u001b[31m \u001b[0m\u001b[31m{\u001b[0m\u001b[31m\"\u001b[0m\u001b[31ma\u001b[0m\u001b[31mp\u001b[0m\u001b[31mi\u001b[0m\u001b[31m_\u001b[0m\u001b[31mi\u001b[0m\u001b[31md\u001b[0m\u001b[31m\"\u001b[0m\u001b[31m:\u001b[0m\u001b[31m \u001b[0m\u001b[31m\"\u001b[0m\u001b[31m4\u001b[0m\u001b[31m\"\u001b[0m\u001b[31m,\u001b[0m\u001b[31m \u001b[0m\u001b[31m\"\u001b[0m\u001b[31ma\u001b[0m\u001b[31mp\u001b[0m\u001b[31mi\u001b[0m\u001b[31m_\u001b[0m\u001b[31mn\u001b[0m\u001b[31ma\u001b[0m\u001b[31mm\u001b[0m\u001b[31me\u001b[0m\u001b[31m\"\u001b[0m\u001b[31m:\u001b[0m\u001b[31m \u001b[0m\u001b[31m\"\u001b[0m\u001b[31m乘\u001b[0m\u001b[31m法\u001b[0m\u001b[31m计\u001b[0m\u001b[31m算\u001b[0m\u001b[31m\"\u001b[0m\u001b[31m,\u001b[0m\u001b[31m \u001b[0m\u001b[31m\"\u001b[0m\u001b[31mr\u001b[0m\u001b[31me\u001b[0m\u001b[31mq\u001b[0m\u001b[31mu\u001b[0m\u001b[31mi\u001b[0mr\u001b[31me\u001b[0m\u001b[31md\u001b[0m\u001b[31m_\u001b[0m\u001b[31mp\u001b[0m\u001b[31ma\u001b[0mr\u001b[31ma\u001b[0m\u001b[31mm\u001b[0m\u001b[31me\u001b[0m\u001b[31mt\u001b[0m\u001b[31me\u001b[0m\u001b[31mr\u001b[0m\u001b[31ms\u001b[0m\u001b[31m\"\u001b[0m\u001b[31m:\u001b[0m\u001b[31m \u001b[0m\u001b[31m[\u001b[0m\u001b[31m\"\u001b[0m\u001b[31ma\u001b[0m\u001b[31mp\u001b[0m\u001b[31mi\u001b[0m\u001b[31m_\u001b[0m\u001b[31m3\u001b[0m\u001b[31m的\u001b[0m\u001b[31m结\u001b[0m\u001b[31m果\u001b[0m\u001b[31m\"\u001b[0m\u001b[31m,\u001b[0m\u001b[31m \u001b[0m\u001b[31m\"\u001b[0m\u001b[31m0\u001b[0m\u001b[31m.\u001b[0m\u001b[31m0\u001b[0m\u001b[31m2\u001b[0m\u001b[31m\"\u001b[0m\u001b[31m]\u001b[0m\u001b[31m,\u001b[0m\u001b[31m \u001b[0m\u001b[31m\"\u001b[0m\u001b[31mr\u001b[0m\u001b[31me\u001b[0m\u001b[31ml\u001b[0m\u001b[31my\u001b[0m\u001b[31m_\u001b[0m\u001b[31ma\u001b[0m\u001b[31mp\u001b[0m\u001b[31mi\u001b[0m\u001b[31ms\u001b[0m\u001b[31m\"\u001b[0m\u001b[31m:\u001b[0m\u001b[31m \u001b[0m\u001b[31m[\u001b[0m\"\u001b[31m3\u001b[0m\u001b[31m\"\u001b[0m\u001b[31m]\u001b[0m\u001b[31m,\u001b[0m\u001b[31m \u001b[0m\u001b[31m\"\u001b[0m\u001b[31mt\u001b[0m\u001b[31mo\u001b[0m\u001b[31mo\u001b[0m\u001b[31ml\u001b[0m\u001b[31m_\u001b[0m\u001b[31mn\u001b[0m\u001b[31ma\u001b[0m\u001b[31mm\u001b[0m\u001b[31me\u001b[0m\u001b[31m\"\u001b[0m\u001b[31m:\u001b[0m\u001b[31m \u001b[0m\"\u001b[31m数\u001b[0m\u001b[31m值\u001b[0m\u001b[31m计\u001b[0m\u001b[31m算\u001b[0m\u001b[31m\"\u001b[0m\u001b[31m}\u001b[0m\u001b[31m,\u001b[0m\u001b[31m \u001b[0m\u001b[31m{\u001b[0m\u001b[31m\"\u001b[0m\u001b[31ma\u001b[0m\u001b[31mp\u001b[0m\u001b[31mi\u001b[0m\u001b[31m_\u001b[0m\u001b[31mi\u001b[0m\u001b[31md\u001b[0m\u001b[31m\"\u001b[0m\u001b[31m:\u001b[0m\u001b[31m \u001b[0m\"\u001b[31m5\u001b[0m\u001b[31m\"\u001b[0m\u001b[31m,\u001b[0m\u001b[31m \u001b[0m\u001b[31m\"\u001b[0m\u001b[31ma\u001b[0m\u001b[31mp\u001b[0m\u001b[31mi\u001b[0m\u001b[31m_\u001b[0m\u001b[31mn\u001b[0m\u001b[31ma\u001b[0m\u001b[31mm\u001b[0m\u001b[31me\u001b[0m\u001b[31m\"\u001b[0m\u001b[31m:\u001b[0m\u001b[31m \"减法计算\", \"required_parameters\": [\"api_3的结果\", \"api_4的结果\"], \"rely_apis\": [\"3\", \"4\"], \"tool_name\": \"数值计算\"}], \"result\": [\"api_5的结果\"]}\u001b[0m\n",
      "{\"relevant APIs\": [{\"api_id\": \"0\", \"api_name\": \"查询代码\", \"required_parameters\": [[\"中信建投中证500指数增强型证券投资基金A类\"]], \"rely_apis\": [], \"tool_name\": \"基金查询\"}, {\"api_id\": \"1\", \"api_name\": \"查询近期收益率\", \"required_parameters\": [\"api_0的结果\", \"1年\"], \"rely_apis\": [\"0\"], \"tool_name\": \"基金查询\"}, {\"api_id\": \"2\", \"api_name\": \"乘法计算\", \"required_parameters\": [\"api_1的结果\", \"5000\"], \"rely_apis\": [\"1\"], \"tool_name\": \"数值计算\"}, {\"api_id\": \"3\", \"api_name\": \"查询申购费率\", \"required_parameters\": [\"api_0的结果\"], \"rely_apis\": [\"0\"], \"tool_name\": \"基金查询\"}, {\"api_id\": \"4\", \"api_name\": \"乘法计算\", \"required_parameters\": [\"api_2的结果\", \"(1-0.02)\"], \"rely_apis\": [\"2\", \"3\"], \"tool_name\": \"数值计算\"}], \"result\": [\"api_4的结果\"]}\n",
      "\n",
      "-----data index-----\n",
      "43\n",
      "-----query input-----\n",
      "-----output diff-----\n",
      "{\"relevant APIs\": [{\"api_id\": \"0\", \"tool_name\": \"条件选股\", \"api_name\": \"查询每股净资产\", \"required_parameters\": [\"小于\", \"-4.4\u001b[31m8\u001b[0m\u001b[31m6\u001b[0m\u001b[31m8\u001b[0m\u001b[31m\"\u001b[0m\u001b[31m]\u001b[0m\u001b[31m,\u001b[0m\u001b[31m \u001b[0m\u001b[31m\"\u001b[0m\u001b[31mr\u001b[0m\u001b[31me\u001b[0m\u001b[31ml\u001b[0m\u001b[31my\u001b[0m\u001b[31m_\u001b[0m\u001b[31ma\u001b[0m\u001b[31mp\u001b[0m\u001b[31mi\u001b[0m\u001b[31ms\u001b[0m\u001b[31m\"\u001b[0m\u001b[31m:\u001b[0m\u001b[31m \u001b[0m\u001b[31m[\u001b[0m]\u001b[31m}\u001b[0m\u001b[31m]\u001b[0m\u001b[31m,\u001b[0m\u001b[31m \u001b[0m\u001b[31m\"\u001b[0m\u001b[31mr\u001b[0m\u001b[31me\u001b[0m\u001b[31ms\u001b[0m\u001b[31mu\u001b[0m\u001b[31ml\u001b[0m\u001b[31mt\u001b[0m\u001b[31m\"\u001b[0m\u001b[31m:\u001b[0m\u001b[31m \u001b[0m\u001b[31m[\u001b[0m\u001b[31m\"\u001b[0m\u001b[31ma\u001b[0m\u001b[31mp\u001b[0m\u001b[31mi\u001b[0m\u001b[31m_\u001b[0m\u001b[31m0\u001b[0m\u001b[31m的\u001b[0m\u001b[31m结\u001b[0m\u001b[31m果\u001b[0m\u001b[31m\"\u001b[0m\u001b[31m]}\u001b[0m\n",
      "{\"relevant APIs\": [{\"api_id\": \"0\", \"tool_name\": \"条件选股\", \"api_name\": \"查询每股净资产\", \"required_parameters\": [\"小于\", \"-4.49\"], \"rely_apis\": []}], \"result\": [\"api_0的结果\"]}\n",
      "\n",
      "-----data index-----\n",
      "49\n",
      "-----query input-----\n",
      "-----output diff-----\n",
      "{\"relevant APIs\": [{\"api_id\": \"0\", \"api_name\": \"查询代码\", \"required_parameters\": [[\"长城核心优势混合型证券投资基金C类\"]], \"rely_apis\": [], \"tool_name\": \"基金查询\"}, {\"api_id\": \"1\", \"api_name\": \"查询风险等级\", \"required_parameters\": [\"api_0的结果\"], \"rely_apis\": [\"0\"], \"tool_name\": \"基金查询\"}, {\"api_id\": \"2\", \"api_name\": \"查询近期最大回撤\", \"required_parameters\": [\"api_0的结果\", \"\u001b[31m1\u001b[0m\u001b[31m年\u001b[0m\u001b[31m\"\u001b[0m\u001b[31m]\u001b[0m\u001b[31m,\u001b[0m\u001b[31m \u001b[0m\u001b[31m\"\u001b[0m\u001b[31mr\u001b[0m\u001b[31me\u001b[0m\u001b[31ml\u001b[0m\u001b[31my\u001b[0m\u001b[31m_\u001b[0m\u001b[31ma\u001b[0m\u001b[31mp\u001b[0m\u001b[31mi\u001b[0m\u001b[31ms\u001b[0m\u001b[31m\"\u001b[0m\u001b[31m:\u001b[0m\u001b[31m \u001b[0m\u001b[31m[\u001b[0m\u001b[31m\"\u001b[0m\u001b[31m0\u001b[0m\"\u001b[31m]\u001b[0m\u001b[31m,\u001b[0m\u001b[31m \u001b[0m\u001b[31m\"\u001b[0m\u001b[31mt\u001b[0m\u001b[31mo\u001b[0m\u001b[31mo\u001b[0m\u001b[31ml\u001b[0m\u001b[31m_\u001b[0m\u001b[31mn\u001b[0m\u001b[31ma\u001b[0m\u001b[31mm\u001b[0m\u001b[31me\u001b[0m\u001b[31m\"\u001b[0m\u001b[31m:\u001b[0m\u001b[31m \u001b[0m\u001b[31m\"\u001b[0m\u001b[31m基\u001b[0m\u001b[31m金\u001b[0m\u001b[31m查\u001b[0m\u001b[31m询\u001b[0m\u001b[31m\"\u001b[0m\u001b[31m}\u001b[0m\u001b[31m]\u001b[0m\u001b[31m,\u001b[0m\u001b[31m \u001b[0m\u001b[31m\"\u001b[0m\u001b[31mr\u001b[0m\u001b[31me\u001b[0m\u001b[31ms\u001b[0m\u001b[31mu\u001b[0m\u001b[31ml\u001b[0m\u001b[31mt\u001b[0m\u001b[31m\"\u001b[0m\u001b[31m:\u001b[0m\u001b[31m \u001b[0m\u001b[31m[\u001b[0m\u001b[31m\"\u001b[0m\u001b[31ma\u001b[0m\u001b[31mp\u001b[0m\u001b[31mi\u001b[0m\u001b[31m_\u001b[0m\u001b[31m1\u001b[0m\u001b[31m的\u001b[0m\u001b[31m结\u001b[0m\u001b[31m果\u001b[0m\u001b[31m\"\u001b[0m\u001b[31m,\u001b[0m\u001b[31m \u001b[0m\u001b[31m\"\u001b[0m\u001b[31ma\u001b[0m\u001b[31mp\u001b[0m\u001b[31mi\u001b[0m\u001b[31m_\u001b[0m\u001b[31m2\u001b[0m\u001b[31m的\u001b[0m\u001b[31m结\u001b[0m\u001b[31m果\u001b[0m\u001b[31m\"\u001b[0m\u001b[31m]\u001b[0m\u001b[31m}\u001b[0m\u001b[31m]}\u001b[0m\n",
      "{\"relevant APIs\": [{\"api_id\": \"0\", \"api_name\": \"查询代码\", \"required_parameters\": [[\"长城核心优势混合型证券投资基金C类\"]], \"rely_apis\": [], \"tool_name\": \"基金查询\"}, {\"api_id\": \"1\", \"api_name\": \"查询风险等级\", \"required_parameters\": [\"api_0的结果\"], \"rely_apis\": [\"0\"], \"tool_name\": \"基金查询\"}, {\"api_id\": \"2\", \"api_name\": \"查询近期最大回撤\", \"required_parameters\": [\"api_0的结果\", \"2021\"], \"rely_apis\": [\"0\"], \"tool_name\": \"基金查询\"}], \"result\": [\"api_1的结果\", \"api_2的结果\"]}\n",
      "\n",
      "-----data index-----\n",
      "80\n",
      "-----query input-----\n",
      "-----output diff-----\n",
      "{\"relevant APIs\": [{\"api_id\": \"0\", \"api_name\": \"查询代码\", \"required_parameters\": [[\"敏芯股份\"]], \"rely_apis\": [], \"tool_name\": \"股票查询\"}, {\"api_id\": \"1\", \"api_name\": \"查询开盘价\", \"required_parameters\": [\"api_0的结果\", \"今日\"], \"rely_apis\": [\"0\"], \"tool_name\": \"股票查询\"}, {\"api_id\": \"2\", \"api_name\": \"查询收盘价\", \"required_parameters\": [\"api_0的结果\", \"今日\"], \"rely_apis\": [\"0\"], \"tool_name\": \"股票查询\"}, {\"api_id\": \"3\", \"api_name\": \"减法计算\", \"required_parameters\": [\"api_\u001b[31m2\u001b[0m的结果\", \"api_\u001b[31m1\u001b[0m的结果\"], \"rely_apis\": [\"1\", \"2\"], \"tool_name\": \"数值计算\"}], \"result\": [\"api_3的结果\"]}\n",
      "{\"relevant APIs\": [{\"api_id\": \"0\", \"api_name\": \"查询代码\", \"required_parameters\": [[\"敏芯股份\"]], \"rely_apis\": [], \"tool_name\": \"股票查询\"}, {\"api_id\": \"1\", \"api_name\": \"查询开盘价\", \"required_parameters\": [\"api_0的结果\", \"今日\"], \"rely_apis\": [\"0\"], \"tool_name\": \"股票查询\"}, {\"api_id\": \"2\", \"api_name\": \"查询收盘价\", \"required_parameters\": [\"api_0的结果\", \"今日\"], \"rely_apis\": [\"0\"], \"tool_name\": \"股票查询\"}, {\"api_id\": \"3\", \"api_name\": \"减法计算\", \"required_parameters\": [\"api_1的结果\", \"api_2的结果\"], \"rely_apis\": [\"1\", \"2\"], \"tool_name\": \"数值计算\"}], \"result\": [\"api_3的结果\"]}\n",
      "\n",
      "-----data index-----\n",
      "89\n",
      "-----query input-----\n",
      "-----output diff-----\n",
      "{\"relevant APIs\": [{\"api_id\": \"0\", \"tool_name\": \"条件选股\", \"api_name\": \"查询\u001b[31m涨\u001b[0m\u001b[31m跌\u001b[0m\u001b[31m额\u001b[0m\", \"required_parameters\": [\"等于\", \"-0.99\", \"上月\"], \"rely_apis\": []}], \"result\": [\"api_0的结果\"]}\n",
      "{\"relevant APIs\": [{\"api_id\": \"0\", \"tool_name\": \"条件选股\", \"api_name\": \"查询收盘价\", \"required_parameters\": [\"等于\", \"-0.99\", \"上月\"], \"rely_apis\": []}], \"result\": [\"api_0的结果\"]}\n",
      "\n",
      "-----data index-----\n",
      "93\n",
      "-----query input-----\n",
      "-----output diff-----\n",
      "{\"relevant APIs\": [{\"api_id\": \"0\", \"api_name\": \"查询代码\", \"required_parameters\": [[\"迪哲医药\"]], \"rely_apis\": [], \"tool_name\": \"股票查询\"}, {\"api_id\": \"1\", \"api_name\": \"查询\u001b[31m当\u001b[0m\u001b[31m前\u001b[0m价\", \"required_parameters\": [\"api_0的结果\"\u001b[31m]\u001b[0m\u001b[31m,\u001b[0m\u001b[31m \u001b[0m\u001b[31m\"\u001b[0m\u001b[31mr\u001b[0m\u001b[31me\u001b[0m\u001b[31ml\u001b[0m\u001b[31my\u001b[0m\u001b[31m_\u001b[0m\u001b[31ma\u001b[0m\u001b[31mp\u001b[0m\u001b[31mi\u001b[0m\u001b[31ms\u001b[0m\u001b[31m\"\u001b[0m\u001b[31m:\u001b[0m\u001b[31m \u001b[0m\u001b[31m[\u001b[0m\u001b[31m\"\u001b[0m\u001b[31m0\u001b[0m\"\u001b[31m]\u001b[0m\u001b[31m,\u001b[0m\u001b[31m \u001b[0m\"\u001b[31mt\u001b[0m\u001b[31mo\u001b[0m\u001b[31mo\u001b[0m\u001b[31ml\u001b[0m\u001b[31m_\u001b[0m\u001b[31mn\u001b[0m\u001b[31ma\u001b[0m\u001b[31mm\u001b[0m\u001b[31me\u001b[0m\u001b[31m\"\u001b[0m\u001b[31m:\u001b[0m\u001b[31m \u001b[0m\u001b[31m\"\u001b[0m\u001b[31m股\u001b[0m\u001b[31m票\u001b[0m\u001b[31m查\u001b[0m\u001b[31m询\u001b[0m\u001b[31m\"\u001b[0m\u001b[31m}\u001b[0m\u001b[31m,\u001b[0m\u001b[31m \u001b[0m\u001b[31m{\u001b[0m\u001b[31m\"\u001b[0m\u001b[31ma\u001b[0m\u001b[31mp\u001b[0m\u001b[31mi\u001b[0m\u001b[31m_\u001b[0m\u001b[31mi\u001b[0m\u001b[31md\u001b[0m\u001b[31m\"\u001b[0m\u001b[31m:\u001b[0m\u001b[31m \u001b[0m\u001b[31m\"\u001b[0m\u001b[31m2\u001b[0m\u001b[31m\"\u001b[0m\u001b[31m,\u001b[0m\u001b[31m \u001b[0m\u001b[31m\"\u001b[0m\u001b[31ma\u001b[0m\u001b[31mp\u001b[0m\u001b[31mi\u001b[0m\u001b[31m_\u001b[0m\u001b[31mn\u001b[0m\u001b[31ma\u001b[0m\u001b[31mm\u001b[0m\u001b[31me\u001b[0m\u001b[31m\"\u001b[0m\u001b[31m:\u001b[0m\u001b[31m \u001b[0m\u001b[31m\"\u001b[0m\u001b[31m除\u001b[0m\u001b[31m法\u001b[0m\u001b[31m计\u001b[0m\u001b[31m算\u001b[0m\u001b[31m\"\u001b[0m\u001b[31m,\u001b[0m\u001b[31m \u001b[0m\u001b[31m\"\u001b[0m\u001b[31mr\u001b[0m\u001b[31me\u001b[0m\u001b[31mq\u001b[0m\u001b[31mu\u001b[0m\u001b[31mi\u001b[0m\u001b[31mr\u001b[0m\u001b[31me\u001b[0m\u001b[31md\u001b[0m\u001b[31m_\u001b[0m\u001b[31mp\u001b[0m\u001b[31ma\u001b[0mr\u001b[31ma\u001b[0m\u001b[31mm\u001b[0m\u001b[31me\u001b[0m\u001b[31mt\u001b[0m\u001b[31me\u001b[0mr\u001b[31ms\u001b[0m\u001b[31m\"\u001b[0m\u001b[31m:\u001b[0m\u001b[31m \u001b[0m\u001b[31m[\u001b[0m\u001b[31m\"\u001b[0m\u001b[31m1\u001b[0m\u001b[31m0\u001b[0m\u001b[31m0\u001b[0m\u001b[31m0\u001b[0m\u001b[31m0\u001b[0m\u001b[31m0\u001b[0m\u001b[31m\"\u001b[0m\u001b[31m,\u001b[0m\u001b[31m \u001b[0m\u001b[31m\"\u001b[0m\u001b[31ma\u001b[0m\u001b[31mp\u001b[0m\u001b[31mi\u001b[0m\u001b[31m_\u001b[0m\u001b[31m1\u001b[0m\u001b[31m的\u001b[0m\u001b[31m结\u001b[0m\u001b[31m果\u001b[0m\u001b[31m\"\u001b[0m\u001b[31m]\u001b[0m\u001b[31m,\u001b[0m\u001b[31m \u001b[0m\u001b[31m\"\u001b[0m\u001b[31mr\u001b[0m\u001b[31me\u001b[0m\u001b[31ml\u001b[0m\u001b[31my\u001b[0m\u001b[31m_\u001b[0m\u001b[31ma\u001b[0m\u001b[31mp\u001b[0m\u001b[31mi\u001b[0m\u001b[31ms\u001b[0m\u001b[31m\"\u001b[0m\u001b[31m:\u001b[0m\u001b[31m \u001b[0m\u001b[31m[\u001b[0m\u001b[31m\"\u001b[0m\u001b[31m1\u001b[0m\"\u001b[31m]\u001b[0m\u001b[31m,\u001b[0m\u001b[31m \u001b[0m\"\u001b[31mt\u001b[0m\u001b[31mo\u001b[0m\u001b[31mo\u001b[0m\u001b[31ml\u001b[0m\u001b[31m_\u001b[0m\u001b[31mn\u001b[0m\u001b[31ma\u001b[0m\u001b[31mm\u001b[0m\u001b[31me\u001b[0m\u001b[31m\"\u001b[0m\u001b[31m:\u001b[0m\u001b[31m \u001b[0m\u001b[31m\"\u001b[0m\u001b[31m数\u001b[0m\u001b[31m值\u001b[0m\u001b[31m计\u001b[0m\u001b[31m算\u001b[0m\u001b[31m\"\u001b[0m\u001b[31m}\u001b[0m\u001b[31m]\u001b[0m\u001b[31m,\u001b[0m\u001b[31m \u001b[0m\u001b[31m\"\u001b[0m\u001b[31mr\u001b[0m\u001b[31me\u001b[0m\u001b[31ms\u001b[0m\u001b[31mu\u001b[0m\u001b[31ml\u001b[0m\u001b[31mt\u001b[0m\u001b[31m\"\u001b[0m\u001b[31m:\u001b[0m\u001b[31m \u001b[0m\u001b[31m[\u001b[0m\u001b[31m\"\u001b[0m\u001b[31ma\u001b[0m\u001b[31mp\u001b[0m\u001b[31mi\u001b[0m\u001b[31m_\u001b[0m\u001b[31m2\u001b[0m\u001b[31m的\u001b[0m\u001b[31m结\u001b[0m\u001b[31m果\u001b[0m\u001b[31m\"\u001b[0m\u001b[31m]\u001b[0m\u001b[31m}\u001b[0m\u001b[31m的结果\"]}\u001b[0m\n",
      "{\"relevant APIs\": [{\"api_id\": \"0\", \"api_name\": \"查询代码\", \"required_parameters\": [[\"迪哲医药\"]], \"rely_apis\": [], \"tool_name\": \"股票查询\"}, {\"api_id\": \"1\", \"api_name\": \"查询收盘价\", \"required_parameters\": [\"api_0的结果\", \"今日\"], \"rely_apis\": [\"0\"], \"tool_name\": \"股票查询\"}, {\"api_id\": \"2\", \"api_name\": \"除法计算\", \"required_parameters\": [\"100000\", \"api_1的结果\"], \"rely_apis\": [\"1\"], \"tool_name\": \"数值计算\"}], \"result\": [\"api_2的结果\"]}\n",
      "\n",
      "-----data index-----\n",
      "111\n",
      "-----query input-----\n",
      "-----output diff-----\n",
      "{\"relevant APIs\": [{\"api_id\": \"0\", \"api_name\": \"查询代码\", \"required_parameters\": [[\"华安\u001b[31m动\u001b[0m\u001b[31m力\u001b[0m\u001b[31m领\u001b[0m\u001b[31m航\u001b[0m混合型证券投资基金C类\"]], \"rely_apis\": [], \"tool_name\": \"基金查询\"}, {\"api_id\": \"1\", \"api_name\": \"查询单位净值\", \"required_parameters\": [\"api_0的结果\"], \"rely_apis\": [\"0\"], \"tool_name\": \"基金查询\"}, {\"api_id\": \"2\", \"api_name\": \"乘法计算\", \"required_parameters\": [\"api_1的结果\", \"1000\"], \"rely_apis\": [\"1\"], \"tool_name\": \"数值计算\"}, {\"api_id\": \"3\", \"api_name\": \"查询赎回费率\", \"required_parameters\": [\"api_0的结果\"], \"rely_apis\": [\"0\"], \"tool_name\": \"基金查询\"}, {\"api_id\": \"4\", \"api_name\": \"乘法计算\", \"required_parameters\": [\"api_2的结果\", \"api_3的结果\"], \"rely_apis\": [\"2\", \"3\"], \"tool_name\": \"数值计算\"}, {\"api_id\": \"5\", \"api_name\": \"减法计算\", \"required_parameters\": [\"api_2的结果\", \"api_4的结果\"], \"rely_apis\": [\"2\", \"4\"], \"tool_name\": \"数值计算\"}], \"result\": [\"api_5的结果\"]}\n",
      "{\"relevant APIs\": [{\"api_id\": \"0\", \"api_name\": \"查询代码\", \"required_parameters\": [[\"华安科技动力混合型证券投资基金C类\"]], \"rely_apis\": [], \"tool_name\": \"基金查询\"}, {\"api_id\": \"1\", \"api_name\": \"查询单位净值\", \"required_parameters\": [\"api_0的结果\"], \"rely_apis\": [\"0\"], \"tool_name\": \"基金查询\"}, {\"api_id\": \"2\", \"api_name\": \"乘法计算\", \"required_parameters\": [\"api_1的结果\", \"1000\"], \"rely_apis\": [\"1\"], \"tool_name\": \"数值计算\"}, {\"api_id\": \"3\", \"api_name\": \"查询赎回费率\", \"required_parameters\": [\"api_0的结果\"], \"rely_apis\": [\"0\"], \"tool_name\": \"基金查询\"}, {\"api_id\": \"4\", \"api_name\": \"乘法计算\", \"required_parameters\": [\"api_2的结果\", \"api_3的结果\"], \"rely_apis\": [\"2\", \"3\"], \"tool_name\": \"数值计算\"}, {\"api_id\": \"5\", \"api_name\": \"减法计算\", \"required_parameters\": [\"api_2的结果\", \"api_4的结果\"], \"rely_apis\": [\"2\", \"4\"], \"tool_name\": \"数值计算\"}], \"result\": [\"api_5的结果\"]}\n",
      "\n",
      "-----data index-----\n",
      "126\n",
      "-----query input-----\n",
      "-----output diff-----\n",
      "{\"relevant APIs\": [{\"api_id\": \"0\", \"api_name\": \"查询代码\", \"required_parameters\": [[\"澳华内镜\"]], \"rely_apis\": [], \"tool_name\": \"股票查询\"}, {\"api_id\": \"1\", \"api_name\": \"查询\u001b[31m最\u001b[0m\u001b[31m高\u001b[0m价\", \"required_parameters\": [\"api_0的结果\", \"今日\"], \"rely_apis\": [\"0\"], \"tool_name\": \"股票查询\"}, {\"api_id\": \"2\", \"api_name\": \"查询最\u001b[31m低\u001b[0m价\", \"required_parameters\": [\"api_0的结果\", \"今日\"], \"rely_apis\": [\"0\"], \"tool_name\": \"股票查询\"}, {\"api_id\": \"3\", \"api_name\": \"\u001b[31m加\u001b[0m\u001b[31m法\u001b[0m\u001b[31m计\u001b[0m\u001b[31m算\u001b[0m\u001b[31m\"\u001b[0m\u001b[31m,\u001b[0m\u001b[31m \u001b[0m\u001b[31m\"\u001b[0m\u001b[31mr\u001b[0m\u001b[31me\u001b[0m\u001b[31mq\u001b[0m\u001b[31mu\u001b[0m\u001b[31mi\u001b[0m\u001b[31mr\u001b[0m\u001b[31me\u001b[0m\u001b[31md\u001b[0m\u001b[31m_\u001b[0m\u001b[31mp\u001b[0m\u001b[31ma\u001b[0m\u001b[31mr\u001b[0m\u001b[31ma\u001b[0m\u001b[31mm\u001b[0m\u001b[31me\u001b[0m\u001b[31mt\u001b[0m\u001b[31me\u001b[0m\u001b[31mr\u001b[0m\u001b[31ms\u001b[0m\u001b[31m\"\u001b[0m\u001b[31m:\u001b[0m\u001b[31m \u001b[0m\u001b[31m[\u001b[0m\u001b[31m\"\u001b[0m\u001b[31ma\u001b[0m\u001b[31mp\u001b[0m\u001b[31mi\u001b[0m\u001b[31m_\u001b[0m\u001b[31m1\u001b[0m\u001b[31m的\u001b[0m\u001b[31m结\u001b[0m\u001b[31m果\u001b[0m\u001b[31m\"\u001b[0m\u001b[31m,\u001b[0m\u001b[31m \u001b[0m\u001b[31m\"\u001b[0m\u001b[31ma\u001b[0m\u001b[31mp\u001b[0m\u001b[31mi\u001b[0m\u001b[31m_\u001b[0m\u001b[31m2\u001b[0m\u001b[31m的\u001b[0m\u001b[31m结\u001b[0m\u001b[31m果\u001b[0m\u001b[31m\"\u001b[0m\u001b[31m]\u001b[0m\u001b[31m,\u001b[0m\u001b[31m \u001b[0m\u001b[31m\"\u001b[0m\u001b[31mr\u001b[0m\u001b[31me\u001b[0m\u001b[31ml\u001b[0m\u001b[31my\u001b[0m\u001b[31m_\u001b[0m\u001b[31ma\u001b[0m\u001b[31mp\u001b[0m\u001b[31mi\u001b[0m\u001b[31ms\u001b[0m\u001b[31m\"\u001b[0m\u001b[31m:\u001b[0m\u001b[31m \u001b[0m\u001b[31m[\u001b[0m\u001b[31m\"\u001b[0m\u001b[31m1\u001b[0m\u001b[31m\"\u001b[0m\u001b[31m,\u001b[0m\u001b[31m \u001b[0m\u001b[31m\"\u001b[0m\u001b[31m2\u001b[0m\u001b[31m\"\u001b[0m\u001b[31m]\u001b[0m\u001b[31m,\u001b[0m\u001b[31m \u001b[0m\"\u001b[31mt\u001b[0m\u001b[31mo\u001b[0m\u001b[31mo\u001b[0m\u001b[31ml\u001b[0m\u001b[31m_\u001b[0m\u001b[31mn\u001b[0m\u001b[31ma\u001b[0m\u001b[31mm\u001b[0m\u001b[31me\u001b[0m\u001b[31m\"\u001b[0m\u001b[31m:\u001b[0m\u001b[31m \u001b[0m\"\u001b[31m数\u001b[0m\u001b[31m值\u001b[0m\u001b[31m计\u001b[0m\u001b[31m算\u001b[0m\u001b[31m\"\u001b[0m\u001b[31m}\u001b[0m\u001b[31m,\u001b[0m\u001b[31m \u001b[0m\u001b[31m{\u001b[0m\"\u001b[31ma\u001b[0m\u001b[31mp\u001b[0m\u001b[31mi\u001b[0m\u001b[31m_\u001b[0m\u001b[31mi\u001b[0m\u001b[31md\u001b[0m\u001b[31m\"\u001b[0m\u001b[31m:\u001b[0m\u001b[31m \u001b[0m\u001b[31m\"\u001b[0m\u001b[31m4\u001b[0m\u001b[31m\"\u001b[0m\u001b[31m,\u001b[0m\u001b[31m \u001b[0m\u001b[31m\"\u001b[0m\u001b[31ma\u001b[0m\u001b[31mp\u001b[0m\u001b[31mi\u001b[0m\u001b[31m_\u001b[0m\u001b[31mn\u001b[0m\u001b[31ma\u001b[0m\u001b[31mm\u001b[0m\u001b[31me\u001b[0m\u001b[31m\"\u001b[0m\u001b[31m:\u001b[0m\u001b[31m \u001b[0m\u001b[31m\"\u001b[0m\u001b[31m除\u001b[0m\u001b[31m法\u001b[0m\u001b[31m计\u001b[0m\u001b[31m算\u001b[0m\u001b[31m\"\u001b[0m\u001b[31m,\u001b[0m\u001b[31m \u001b[0m\u001b[31m\"\u001b[0m\u001b[31mr\u001b[0m\u001b[31me\u001b[0m\u001b[31mq\u001b[0m\u001b[31mu\u001b[0m\u001b[31mi\u001b[0m\u001b[31mr\u001b[0m\u001b[31me\u001b[0m\u001b[31md\u001b[0m\u001b[31m_\u001b[0m\u001b[31mp\u001b[0m\u001b[31ma\u001b[0m\u001b[31mr\u001b[0m\u001b[31ma\u001b[0m\u001b[31mm\u001b[0m\u001b[31me\u001b[0m\u001b[31mt\u001b[0m\u001b[31me\u001b[0m\u001b[31mr\u001b[0m\u001b[31ms\u001b[0m\u001b[31m\"\u001b[0m\u001b[31m:\u001b[0m\u001b[31m \u001b[0m\u001b[31m[\u001b[0m\"\u001b[31ma\u001b[0m\u001b[31mp\u001b[0m\u001b[31mi\u001b[0m\u001b[31m_\u001b[0m\u001b[31m3\u001b[0m\u001b[31m的\u001b[0m\u001b[31m结\u001b[0m\u001b[31m果\u001b[0m\u001b[31m\"\u001b[0m\u001b[31m,\u001b[0m\u001b[31m \u001b[0m\u001b[31m\"\u001b[0m\u001b[31m2\u001b[0m\u001b[31m\"\u001b[0m\u001b[31m]\u001b[0m\u001b[31m,\u001b[0m\u001b[31m \u001b[0m\u001b[31m\"\u001b[0m\u001b[31mr\u001b[0m\u001b[31me\u001b[0m\u001b[31ml\u001b[0m\u001b[31my\u001b[0m\u001b[31m_\u001b[0m\u001b[31ma\u001b[0m\u001b[31mp\u001b[0m\u001b[31mi\u001b[0m\u001b[31ms\u001b[0m\u001b[31m\"\u001b[0m\u001b[31m:\u001b[0m\u001b[31m \u001b[0m\u001b[31m[\u001b[0m\u001b[31m\"\u001b[0m\u001b[31m3\u001b[0m\u001b[31m\"\u001b[0m\u001b[31m]\u001b[0m\u001b[31m,\u001b[0m\u001b[31m \u001b[0m\u001b[31m\"\u001b[0m\u001b[31mt\u001b[0m\u001b[31mo\u001b[0m\u001b[31mo\u001b[0m\u001b[31ml\u001b[0m\u001b[31m_\u001b[0m\u001b[31mn\u001b[0m\u001b[31ma\u001b[0m\u001b[31mm\u001b[0m\u001b[31me\u001b[0m\"\u001b[31m:\u001b[0m\u001b[31m \u001b[0m\u001b[31m\"\u001b[0m\u001b[31m数\u001b[0m\u001b[31m值\u001b[0m\u001b[31m计\u001b[0m\u001b[31m算\u001b[0m\u001b[31m\"\u001b[0m\u001b[31m}\u001b[0m\u001b[31m]\u001b[0m\u001b[31m,\u001b[0m\u001b[31m \u001b[0m\u001b[31m\"\u001b[0m\u001b[31mr\u001b[0m\u001b[31me\u001b[0m\u001b[31ms\u001b[0m\u001b[31mu\u001b[0m\u001b[31ml\u001b[0m\u001b[31mt\u001b[0m\"\u001b[31m:\u001b[0m\u001b[31m \u001b[0m\u001b[31m[\u001b[0m\u001b[31m\"\u001b[0m\u001b[31ma\u001b[0m\u001b[31mp\u001b[0m\u001b[31mi\u001b[0m\u001b[31m_\u001b[0m\u001b[31m4\u001b[0m\u001b[31m的\u001b[0m\u001b[31m结\u001b[0m\u001b[31m果\u001b[0m\u001b[31m\"\u001b[0m\u001b[31m]\u001b[0m\u001b[31m}\u001b[0m\u001b[31m算\", \"required_parameters\": [\"api_1的结果\", \"api_2的结果\", \"api_3的结果\", \"api_4的结果\"], \"rely_apis\": [\"1\", \"2\", \"3\", \"4\"], \"tool_name\": \"数值计算\"}, {\"api_id\": \"6\", \"api_name\": \"除法计算\", \"required_parameters\": [\"api_5的结果\", \"4\"], \"rely_apis\": [\"5\"], \"tool_name\": \"数值计算\"}], \"result\": [\"api_6的结果\"]}\u001b[0m\n",
      "{\"relevant APIs\": [{\"api_id\": \"0\", \"api_name\": \"查询代码\", \"required_parameters\": [[\"澳华内镜\"]], \"rely_apis\": [], \"tool_name\": \"股票查询\"}, {\"api_id\": \"1\", \"api_name\": \"查询开盘价\", \"required_parameters\": [\"api_0的结果\", \"今日\"], \"rely_apis\": [\"0\"], \"tool_name\": \"股票查询\"}, {\"api_id\": \"2\", \"api_name\": \"查询最高价\", \"required_parameters\": [\"api_0的结果\", \"今日\"], \"rely_apis\": [\"0\"], \"tool_name\": \"股票查询\"}, {\"api_id\": \"3\", \"api_name\": \"查询最低价\", \"required_parameters\": [\"api_0的结果\", \"今日\"], \"rely_apis\": [\"0\"], \"tool_name\": \"股票查询\"}, {\"api_id\": \"4\", \"api_name\": \"查询收盘价\", \"required_parameters\": [\"api_0的结果\", \"今日\"], \"rely_apis\": [\"0\"], \"tool_name\": \"股票查询\"}, {\"api_id\": \"5\", \"api_name\": \"加法计算\", \"required_parameters\": [\"api_1的结果\", \"api_2的结果\", \"api_3的结果\", \"api_4的结果\"], \"rely_apis\": [\"1\", \"2\", \"3\", \"4\"], \"tool_name\": \"数值计算\"}, {\"api_id\": \"6\", \"api_name\": \"除法计算\", \"required_parameters\": [\"api_5的结果\", \"4\"], \"rely_apis\": [\"5\"], \"tool_name\": \"数值计算\"}], \"result\": [\"api_6的结果\"]}\n",
      "\n",
      "====================  第20.0次评估  ====================\n",
      "====================  正确比例：55.00%  ====================\n",
      "-----data index-----\n",
      "127\n",
      "-----query input-----\n",
      "-----output diff-----\n",
      "{\"relevant APIs\": [{\"api_id\": \"0\", \"api_name\": \"查询代码\", \"required_parameters\": [[\"招商中证红利交易型开放式指数证券投资基金联接基金E类\"]], \"rely_apis\": [], \"tool_name\": \"基金查询\"}, {\"api_id\": \"1\", \"api_name\": \"查询近期\u001b[31m收\u001b[0m\u001b[31m益\u001b[0m\u001b[31m率\u001b[0m\u001b[31m\"\u001b[0m\u001b[31m,\u001b[0m\u001b[31m \u001b[0m\u001b[31m\"\u001b[0m\u001b[31mr\u001b[0m\u001b[31me\u001b[0m\u001b[31mq\u001b[0m\u001b[31mu\u001b[0m\u001b[31mi\u001b[0m\u001b[31mr\u001b[0m\u001b[31me\u001b[0m\u001b[31md\u001b[0m\u001b[31m_\u001b[0m\u001b[31mp\u001b[0m\u001b[31ma\u001b[0m\u001b[31mr\u001b[0ma\u001b[31mm\u001b[0m\u001b[31me\u001b[0m\u001b[31mt\u001b[0me\u001b[31mr\u001b[0m\u001b[31ms\u001b[0m\u001b[31m\"\u001b[0m\u001b[31m:\u001b[0m\u001b[31m \u001b[0m\u001b[31m[\u001b[0m\u001b[31m\"\u001b[0m\u001b[31ma\u001b[0m\u001b[31mp\u001b[0m\u001b[31mi\u001b[0m\u001b[31m_\u001b[0m\u001b[31m0\u001b[0m\u001b[31m的\u001b[0m\u001b[31m结\u001b[0m\u001b[31m果\u001b[0m\u001b[31m\"\u001b[0m\u001b[31m,\u001b[0m\u001b[31m \u001b[0m\u001b[31m\"\u001b[0m\u001b[31m1\u001b[0m\u001b[31m年\u001b[0m\u001b[31m\"\u001b[0m\u001b[31m]\u001b[0m\u001b[31m,\u001b[0m\u001b[31m \u001b[0m\u001b[31m\"\u001b[0m\u001b[31mr\u001b[0m\u001b[31me\u001b[0m\u001b[31ml\u001b[0m\u001b[31my\u001b[0m\u001b[31m_\u001b[0m\u001b[31ma\u001b[0m\u001b[31mp\u001b[0m\u001b[31mi\u001b[0m\u001b[31ms\u001b[0m\u001b[31m\"\u001b[0m\u001b[31m:\u001b[0m\u001b[31m \u001b[0m\u001b[31m[\u001b[0m\u001b[31m\"\u001b[0m\u001b[31m0\u001b[0m\"\u001b[31m]\u001b[0m\u001b[31m,\u001b[0m\u001b[31m \u001b[0m\u001b[31m\"\u001b[0m\u001b[31mt\u001b[0m\u001b[31mo\u001b[0m\u001b[31mo\u001b[0m\u001b[31ml\u001b[0m\u001b[31m_\u001b[0m\u001b[31mn\u001b[0m\u001b[31ma\u001b[0m\u001b[31mm\u001b[0m\u001b[31me\u001b[0m\u001b[31m\"\u001b[0m\u001b[31m:\u001b[0m\u001b[31m \u001b[0m\u001b[31m\"\u001b[0m\u001b[31m基\u001b[0m\u001b[31m金\u001b[0m\u001b[31m查\u001b[0m\u001b[31m询\u001b[0m\u001b[31m\"\u001b[0m\u001b[31m}\u001b[0m\u001b[31m,\u001b[0m\u001b[31m \u001b[0m\u001b[31m{\u001b[0m\u001b[31m\"\u001b[0m\u001b[31ma\u001b[0m\u001b[31mp\u001b[0m\u001b[31mi\u001b[0m\u001b[31m_\u001b[0mi\u001b[31md\u001b[0m\u001b[31m\"\u001b[0m\u001b[31m:\u001b[0m\u001b[31m \u001b[0m\u001b[31m\"\u001b[0m\u001b[31m2\u001b[0m\"\u001b[31m,\u001b[0m\u001b[31m \u001b[0m\u001b[31m\"\u001b[0m\u001b[31ma\u001b[0m\u001b[31mp\u001b[0m\u001b[31mi\u001b[0m\u001b[31m_\u001b[0m\u001b[31mn\u001b[0m\u001b[31ma\u001b[0m\u001b[31mm\u001b[0m\u001b[31me\u001b[0m\u001b[31m\"\u001b[0m\u001b[31m:\u001b[0m\u001b[31m \u001b[0m\u001b[31m\"\u001b[0m\u001b[31m乘\u001b[0m\u001b[31m法\u001b[0m\u001b[31m计\u001b[0m\u001b[31m算\u001b[0m\u001b[31m\"\u001b[0m\u001b[31m,\u001b[0m\u001b[31m \u001b[0m\u001b[31m\"\u001b[0m\u001b[31mr\u001b[0m\u001b[31me\u001b[0m\u001b[31mq\u001b[0m\u001b[31mu\u001b[0m\u001b[31mi\u001b[0m\u001b[31mr\u001b[0m\u001b[31me\u001b[0m\u001b[31md\u001b[0m\u001b[31m_\u001b[0m\u001b[31mp\u001b[0m\u001b[31ma\u001b[0m\u001b[31mr\u001b[0ma\u001b[31mm\u001b[0m\u001b[31me\u001b[0m\u001b[31mt\u001b[0me\u001b[31mr\u001b[0m\u001b[31ms\u001b[0m\u001b[31m\"\u001b[0m\u001b[31m:\u001b[0m\u001b[31m \u001b[0m\u001b[31m[\u001b[0m\u001b[31m\"\u001b[0m\u001b[31ma\u001b[0m\u001b[31mp\u001b[0m\u001b[31mi\u001b[0m\u001b[31m_\u001b[0m\u001b[31m1\u001b[0m\u001b[31m的\u001b[0m\u001b[31m结\u001b[0m\u001b[31m果\u001b[0m\u001b[31m\"\u001b[0m\u001b[31m,\u001b[0m\u001b[31m \u001b[0m\u001b[31m\"\u001b[0m\u001b[31m5\u001b[0m\u001b[31m0\u001b[0m\u001b[31m0\u001b[0m0\u001b[31m\"\u001b[0m\u001b[31m]\u001b[0m\u001b[31m,\u001b[0m\u001b[31m \u001b[0m\u001b[31m\"\u001b[0m\u001b[31mr\u001b[0m\u001b[31me\u001b[0m\u001b[31ml\u001b[0m\u001b[31my\u001b[0m\u001b[31m_\u001b[0m\u001b[31ma\u001b[0m\u001b[31mp\u001b[0m\u001b[31mi\u001b[0m\u001b[31ms\u001b[0m\u001b[31m\"\u001b[0m\u001b[31m:\u001b[0m\u001b[31m \u001b[0m\u001b[31m[\u001b[0m\u001b[31m\"\u001b[0m\u001b[31m1\u001b[0m\"\u001b[31m]\u001b[0m\u001b[31m,\u001b[0m\u001b[31m \u001b[0m\u001b[31m\"\u001b[0m\u001b[31mt\u001b[0m\u001b[31mo\u001b[0m\u001b[31mo\u001b[0m\u001b[31ml\u001b[0m\u001b[31m_\u001b[0m\u001b[31mn\u001b[0m\u001b[31ma\u001b[0m\u001b[31mm\u001b[0m\u001b[31me\u001b[0m\u001b[31m\"\u001b[0m\u001b[31m:\u001b[0m\u001b[31m \u001b[0m\u001b[31m\"\u001b[0m\u001b[31m数\u001b[0m\u001b[31m值\u001b[0m\u001b[31m计\u001b[0m\u001b[31m算\u001b[0m\u001b[31m\"\u001b[0m\u001b[31m}\u001b[0m\u001b[31m,\u001b[0m\u001b[31m \u001b[0m\u001b[31m{\u001b[0m\u001b[31m\"\u001b[0m\u001b[31ma\u001b[0m\u001b[31mp\u001b[0m\u001b[31mi\u001b[0m\u001b[31m_\u001b[0mi\u001b[31md\u001b[0m\u001b[31m\"\u001b[0m\u001b[31m:\u001b[0m\u001b[31m \u001b[0m\u001b[31m\"\u001b[0m\u001b[31m3\u001b[0m\"\u001b[31m,\u001b[0m\u001b[31m \u001b[0m\u001b[31m\"\u001b[0m\u001b[31ma\u001b[0m\u001b[31mp\u001b[0m\u001b[31mi\u001b[0m\u001b[31m_\u001b[0m\u001b[31mn\u001b[0m\u001b[31ma\u001b[0m\u001b[31mm\u001b[0m\u001b[31me\u001b[0m\u001b[31m\"\u001b[0m\u001b[31m:\u001b[0m\u001b[31m \u001b[0m\u001b[31m\"\u001b[0m\u001b[31m加\u001b[0m\u001b[31m法\u001b[0m\u001b[31m计\u001b[0m\u001b[31m算\u001b[0m\u001b[31m\"\u001b[0m\u001b[31m,\u001b[0m\u001b[31m \u001b[0m\u001b[31m\"\u001b[0m\u001b[31mr\u001b[0m\u001b[31me\u001b[0m\u001b[31mq\u001b[0m\u001b[31mu\u001b[0m\u001b[31mi\u001b[0m\u001b[31mr\u001b[0m\u001b[31me\u001b[0m\u001b[31md\u001b[0m\u001b[31m_\u001b[0m\u001b[31mp\u001b[0m\u001b[31ma\u001b[0m\u001b[31mr\u001b[0ma\u001b[31mm\u001b[0m\u001b[31me\u001b[0m\u001b[31mt\u001b[0me\u001b[31mr\u001b[0m\u001b[31ms\u001b[0m\u001b[31m\"\u001b[0m\u001b[31m:\u001b[0m\u001b[31m \u001b[0m\u001b[31m[\u001b[0m\u001b[31m\"\u001b[0m\u001b[31ma\u001b[0m\u001b[31mp\u001b[0m\u001b[31mi\u001b[0m\u001b[31m_\u001b[0m\u001b[31m2\u001b[0m\u001b[31m的\u001b[0m\u001b[31m结\u001b[0m\u001b[31m果\u001b[0m\u001b[31m\"\u001b[0m\u001b[31m,\u001b[0m\u001b[31m \u001b[0m\u001b[31m\"\u001b[0m\u001b[31m5\u001b[0m\u001b[31m0\u001b[0m\u001b[31m0\u001b[0m\u001b[31m0\u001b[0m\u001b[31m\"\u001b[0m\u001b[31m]\u001b[0m\u001b[31m,\u001b[0m\u001b[31m \u001b[0m\u001b[31m\"\u001b[0m\u001b[31mr\u001b[0m\u001b[31me\u001b[0m\u001b[31ml\u001b[0m\u001b[31my\u001b[0m\u001b[31m_\u001b[0m\u001b[31ma\u001b[0m\u001b[31mp\u001b[0m\u001b[31mi\u001b[0m\u001b[31ms\u001b[0m\u001b[31m\"\u001b[0m\u001b[31m:\u001b[0m\u001b[31m \u001b[0m\u001b[31m[\u001b[0m\u001b[31m\"\u001b[0m\u001b[31m2\u001b[0m\"\u001b[31m]\u001b[0m\u001b[31m,\u001b[0m\u001b[31m \u001b[0m\u001b[31m\"\u001b[0m\u001b[31mt\u001b[0m\u001b[31mo\u001b[0m\u001b[31mo\u001b[0m\u001b[31ml\u001b[0m\u001b[31m_\u001b[0m\u001b[31mn\u001b[0m\u001b[31ma\u001b[0m\u001b[31mm\u001b[0m\u001b[31me\u001b[0m\u001b[31m\"\u001b[0m\u001b[31m:\u001b[0m\u001b[31m \u001b[0m\u001b[31m\"\u001b[0m\u001b[31m数\u001b[0m\u001b[31m值\u001b[0m\u001b[31m计\u001b[0m\u001b[31m算\u001b[0m\u001b[31m\"\u001b[0m\u001b[31m}\u001b[0m\u001b[31m,\u001b[0m\u001b[31m \u001b[0m\u001b[31m{\u001b[0m\u001b[31m\"\u001b[0m\u001b[31ma\u001b[0m\u001b[31mp\u001b[0m\u001b[31mi\u001b[0m\u001b[31m_\u001b[0mi\u001b[31md\u001b[0m\u001b[31m\"\u001b[0m\u001b[31m:\u001b[0m\u001b[31m \u001b[0m\u001b[31m\"\u001b[0m\u001b[31m4\u001b[0m\"\u001b[31m,\u001b[0m\u001b[31m \u001b[0m\u001b[31m\"\u001b[0m\u001b[31ma\u001b[0m\u001b[31mp\u001b[0m\u001b[31mi\u001b[0m\u001b[31m_\u001b[0m\u001b[31mn\u001b[0m\u001b[31ma\u001b[0m\u001b[31mm\u001b[0m\u001b[31me\u001b[0m\u001b[31m\"\u001b[0m\u001b[31m:\u001b[0m\u001b[31m \u001b[0m\u001b[31m\"\u001b[0m\u001b[31m查\u001b[0m\u001b[31m询\u001b[0m\u001b[31m赎\u001b[0m\u001b[31m回\u001b[0m\u001b[31m费\u001b[0m\u001b[31m率\u001b[0m\u001b[31m\"\u001b[0m\u001b[31m,\u001b[0m\u001b[31m \u001b[0m\u001b[31m\"\u001b[0m\u001b[31mr\u001b[0m\u001b[31me\u001b[0m\u001b[31mq\u001b[0m\u001b[31mu\u001b[0m\u001b[31mi\u001b[0m\u001b[31mr\u001b[0m\u001b[31me\u001b[0m\u001b[31md\u001b[0m\u001b[31m_\u001b[0m\u001b[31mp\u001b[0m\u001b[31ma\u001b[0m\u001b[31mr\u001b[0ma\u001b[31mm\u001b[0m\u001b[31me\u001b[0m\u001b[31mt\u001b[0me\u001b[31mr\u001b[0m\u001b[31ms\u001b[0m\u001b[31m\"\u001b[0m\u001b[31m:\u001b[0m\u001b[31m \u001b[0m\u001b[31m[\u001b[0m\u001b[31m\"\u001b[0m\u001b[31ma\u001b[0m\u001b[31mp\u001b[0m\u001b[31mi\u001b[0m\u001b[31m_\u001b[0m\u001b[31m0\u001b[0m\u001b[31m的\u001b[0m\u001b[31m结\u001b[0m\u001b[31m果\u001b[0m\u001b[31m\"\u001b[0m\u001b[31m]\u001b[0m\u001b[31m,\u001b[0m\u001b[31m \u001b[0m\u001b[31m\"\u001b[0m\u001b[31mr\u001b[0m\u001b[31me\u001b[0m\u001b[31ml\u001b[0m\u001b[31my\u001b[0m\u001b[31m_\u001b[0m\u001b[31ma\u001b[0m\u001b[31mp\u001b[0m\u001b[31mi\u001b[0m\u001b[31ms\u001b[0m\u001b[31m\"\u001b[0m\u001b[31m:\u001b[0m\u001b[31m \u001b[0m\u001b[31m[\u001b[0m\u001b[31m\"\u001b[0m\u001b[31m0\u001b[0m\"\u001b[31m]\u001b[0m\u001b[31m,\u001b[0m\u001b[31m \u001b[0m\u001b[31m\"\u001b[0m\u001b[31mt\u001b[0m\u001b[31mo\u001b[0m\u001b[31mo\u001b[0m\u001b[31ml\u001b[0m\u001b[31m_\u001b[0m\u001b[31mn\u001b[0m\u001b[31ma\u001b[0m\u001b[31mm\u001b[0m\u001b[31me\u001b[0m\u001b[31m\"\u001b[0m\u001b[31m:\u001b[0m\u001b[31m \u001b[0m\u001b[31m\"\u001b[0m\u001b[31m基\u001b[0m\u001b[31m金\u001b[0m\u001b[31m查\u001b[0m\u001b[31m询\u001b[0m\u001b[31m\"\u001b[0m\u001b[31m}\u001b[0m\u001b[31m,\u001b[0m\u001b[31m \u001b[0m\u001b[31m{\u001b[0m\u001b[31m\"\u001b[0m\u001b[31ma\u001b[0m\u001b[31mp\u001b[0m\u001b[31mi\u001b[0m\u001b[31m_\u001b[0mi\u001b[31md\u001b[0m\u001b[31m\"\u001b[0m\u001b[31m:\u001b[0m\u001b[31m \u001b[0m\u001b[31m\"\u001b[0m\u001b[31m5\u001b[0m\"\u001b[31m,\u001b[0m\u001b[31m \u001b[0m\u001b[31m\"\u001b[0m\u001b[31ma\u001b[0m\u001b[31mp\u001b[0m\u001b[31mi\u001b[0m\u001b[31m_\u001b[0m\u001b[31mn\u001b[0m\u001b[31ma\u001b[0m\u001b[31mm\u001b[0m\u001b[31me\u001b[0m\u001b[31m\"\u001b[0m\u001b[31m:\u001b[0m\u001b[31m \u001b[0m\u001b[31m\"\u001b[0m\u001b[31m乘\u001b[0m\u001b[31m法\u001b[0m\u001b[31m计\u001b[0m\u001b[31m算\u001b[0m\u001b[31m\"\u001b[0m\u001b[31m,\u001b[0m\u001b[31m \u001b[0m\u001b[31m\"\u001b[0m\u001b[31mr\u001b[0m\u001b[31me\u001b[0m\u001b[31mq\u001b[0m\u001b[31mu\u001b[0m\u001b[31mi\u001b[0m\u001b[31mr\u001b[0m\u001b[31me\u001b[0m\u001b[31md\u001b[0m\u001b[31m_\u001b[0m\u001b[31mp\u001b[0m\u001b[31ma\u001b[0m\u001b[31mr\u001b[0ma\u001b[31mm\u001b[0m\u001b[31me\u001b[0m\u001b[31mt\u001b[0me\u001b[31mr\u001b[0m\u001b[31ms\u001b[0m\u001b[31m\"\u001b[0m\u001b[31m:\u001b[0m\u001b[31m \u001b[0m\u001b[31m[\u001b[0m\u001b[31m\"\u001b[0m\u001b[31ma\u001b[0m\u001b[31mp\u001b[0m\u001b[31mi\u001b[0m\u001b[31m_\u001b[0m\u001b[31m3\u001b[0m\u001b[31m的\u001b[0m\u001b[31m结\u001b[0m\u001b[31m果\u001b[0m\u001b[31m\"\u001b[0m\u001b[31m,\u001b[0m\u001b[31m \u001b[0m\u001b[31m\"\u001b[0m\u001b[31ma\u001b[0m\u001b[31mp\u001b[0m\u001b[31mi\u001b[0m\u001b[31m_\u001b[0m\u001b[31m4\u001b[0m\u001b[31m的\u001b[0m\u001b[31m结\u001b[0m\u001b[31m果\u001b[0m\u001b[31m\"\u001b[0m\u001b[31m]\u001b[0m\u001b[31m,\u001b[0m\u001b[31m \u001b[0m\u001b[31m\"\u001b[0m\u001b[31mr\u001b[0m\u001b[31me\u001b[0m\u001b[31ml\u001b[0m\u001b[31my\u001b[0m\u001b[31m_\u001b[0m\u001b[31ma\u001b[0m\u001b[31mp\u001b[0m\u001b[31mi\u001b[0m\u001b[31ms\u001b[0m\u001b[31m\"\u001b[0m\u001b[31m:\u001b[0m\u001b[31m \u001b[0m\u001b[31m[\u001b[0m\u001b[31m\"\u001b[0m\u001b[31m3\u001b[0m\"\u001b[31m,\u001b[0m\u001b[31m \u001b[0m\u001b[31m\"\u001b[0m\u001b[31m4\u001b[0m\"\u001b[31m]\u001b[0m\u001b[31m,\u001b[0m\u001b[31m \u001b[0m\u001b[31m\"\u001b[0m\u001b[31mt\u001b[0m\u001b[31mo\u001b[0m\u001b[31mo\u001b[0m\u001b[31ml\u001b[0m\u001b[31m_\u001b[0m\u001b[31mn\u001b[0m\u001b[31ma\u001b[0m\u001b[31mm\u001b[0m\u001b[31me\u001b[0m\u001b[31m\"\u001b[0m\u001b[31m:\u001b[0m\u001b[31m \u001b[0m\u001b[31m\"\u001b[0m\u001b[31m数\u001b[0m\u001b[31m值\u001b[0m\u001b[31m计\u001b[0m\u001b[31m算\u001b[0m\u001b[31m\"\u001b[0m\u001b[31m}\u001b[0m\u001b[31m]\u001b[0m\u001b[31m,\u001b[0m\u001b[31m \u001b[0m\u001b[31m\"\u001b[0m\u001b[31mr\u001b[0m\u001b[31me\u001b[0m\u001b[31ms\u001b[0m\u001b[31mu\u001b[0m\u001b[31ml\u001b[0m\u001b[31mt\u001b[0m\u001b[31m\"\u001b[0m\u001b[31m:\u001b[0m\u001b[31m \u001b[0m\u001b[31m[\u001b[0m\u001b[31m\"\u001b[0m\u001b[31ma\u001b[0m\u001b[31mp\u001b[0m\u001b[31mi\u001b[0m\u001b[31m_\u001b[0m\u001b[31m3\u001b[0m\u001b[31m的\u001b[0m\u001b[31m结\u001b[0m\u001b[31m果\u001b[0m\u001b[31m\"\u001b[0m\u001b[31m,\u001b[0m\u001b[31m \u001b[0m\u001b[31m\"\u001b[0m\u001b[31ma\u001b[0m\u001b[31mp\u001b[0m\u001b[31mi\u001b[0m\u001b[31m_\u001b[0m\u001b[31m5\u001b[0m\u001b[31m的\u001b[0m\u001b[31m结\u001b[0m\u001b[31m果\u001b[0m\u001b[31m\"\u001b[0m\u001b[31m]\u001b[0m\u001b[31m}\u001b[0m\u001b[31m]}\u001b[0m\n",
      "{\"relevant APIs\": [{\"api_id\": \"0\", \"api_name\": \"查询代码\", \"required_parameters\": [[\"招商中证红利交易型开放式指数证券投资基金联接基金E类\"]], \"rely_apis\": [], \"tool_name\": \"基金查询\"}, {\"api_id\": \"1\", \"api_name\": \"查询近期年化收益率\", \"required_parameters\": [\"api_0的结果\", \"1年\"], \"rely_apis\": [\"0\"], \"tool_name\": \"基金查询\"}, {\"api_id\": \"2\", \"api_name\": \"乘法计算\", \"required_parameters\": [\"api_1的结果\", \"5000\"], \"rely_apis\": [\"1\"], \"tool_name\": \"数值计算\"}, {\"api_id\": \"3\", \"api_name\": \"加法计算\", \"required_parameters\": [\"5000\", \"api_2的结果\"], \"rely_apis\": [\"2\"], \"tool_name\": \"数值计算\"}, {\"api_id\": \"4\", \"api_name\": \"查询赎回费率\", \"required_parameters\": [\"api_0的结果\"], \"rely_apis\": [\"0\"], \"tool_name\": \"基金查询\"}, {\"api_id\": \"5\", \"api_name\": \"乘法计算\", \"required_parameters\": [\"api_3的结果\", \"api_4的结果\"], \"rely_apis\": [\"3\", \"4\"], \"tool_name\": \"数值计算\"}], \"result\": [\"api_3的结果\", \"api_5的结果\"]}\n",
      "\n",
      "-----data index-----\n",
      "137\n",
      "-----query input-----\n",
      "-----output diff-----\n",
      "{\"relevant APIs\": [{\"api_id\": \"0\", \"tool_name\": \"条件选基\", \"api_name\": \"查询近期超大盘收益率\", \"required_parameters\": [\"等于\", \"0.1249\", \"3个月\"], \"rely_apis\": []}, {\"api_id\": \"1\", \"tool_name\": \"条件选基\", \"api_name\": \"查询近期夏普率\", \"required_parameters\": [\"等于\", \"-0.\u001b[31m7\u001b[0m\u001b[31m8\u001b[0m\u001b[31m4\u001b[0m4\u001b[31m\"\u001b[0m\u001b[31m,\u001b[0m\u001b[31m \u001b[0m\u001b[31m\"\u001b[0m\u001b[31m1\u001b[0m\u001b[31m年\u001b[0m\u001b[31m\"\u001b[0m\u001b[31m]\u001b[0m\u001b[31m,\u001b[0m\u001b[31m \u001b[0m\u001b[31m\"\u001b[0m\u001b[31mr\u001b[0m\u001b[31me\u001b[0m\u001b[31ml\u001b[0m\u001b[31my\u001b[0m\u001b[31m_\u001b[0m\u001b[31ma\u001b[0m\u001b[31mp\u001b[0m\u001b[31mi\u001b[0m\u001b[31ms\u001b[0m\u001b[31m\"\u001b[0m\u001b[31m:\u001b[0m\u001b[31m \u001b[0m\u001b[31m[\u001b[0m\u001b[31m]\u001b[0m\u001b[31m}\u001b[0m\u001b[31m,\u001b[0m\u001b[31m \u001b[0m\u001b[31m{\u001b[0m\u001b[31m\"\u001b[0m\u001b[31ma\u001b[0m\u001b[31mp\u001b[0m\u001b[31mi\u001b[0m\u001b[31m_\u001b[0m\u001b[31mi\u001b[0m\u001b[31md\u001b[0m\u001b[31m\"\u001b[0m\u001b[31m:\u001b[0m\u001b[31m \u001b[0m\u001b[31m\"\u001b[0m\u001b[31m2\u001b[0m\u001b[31m\"\u001b[0m\u001b[31m,\u001b[0m\u001b[31m \u001b[0m\u001b[31m\"\u001b[0m\u001b[31mt\u001b[0m\u001b[31mo\u001b[0mo\u001b[31ml\u001b[0m\u001b[31m_\u001b[0m\u001b[31mn\u001b[0m\u001b[31ma\u001b[0m\u001b[31mm\u001b[0m\u001b[31me\u001b[0m\u001b[31m\"\u001b[0m\u001b[31m:\u001b[0m\u001b[31m \u001b[0m\u001b[31m\"\u001b[0m\u001b[31m逻\u001b[0m\u001b[31m辑\u001b[0m\u001b[31m运\u001b[0m\u001b[31m算\u001b[0m\u001b[31m\"\u001b[0m\u001b[31m,\u001b[0m\u001b[31m \u001b[0m\u001b[31m\"\u001b[0m\u001b[31ma\u001b[0m\u001b[31mp\u001b[0m\u001b[31mi\u001b[0m\u001b[31m_\u001b[0m\u001b[31mn\u001b[0m\u001b[31ma\u001b[0m\u001b[31mm\u001b[0m\u001b[31me\u001b[0m\u001b[31m\"\u001b[0m\u001b[31m:\u001b[0m\u001b[31m \u001b[0m\u001b[31m\"\u001b[0m\u001b[31m或\u001b[0m\u001b[31m运\u001b[0m\u001b[31m算\u001b[0m\u001b[31m\"\u001b[0m\u001b[31m,\u001b[0m\u001b[31m \u001b[0m\u001b[31m\"\u001b[0m\u001b[31mr\u001b[0m\u001b[31me\u001b[0m\u001b[31mq\u001b[0m\u001b[31mu\u001b[0m\u001b[31mi\u001b[0m\u001b[31mr\u001b[0m\u001b[31me\u001b[0m\u001b[31md\u001b[0m\u001b[31m_\u001b[0m\u001b[31mp\u001b[0m\u001b[31ma\u001b[0m\u001b[31mr\u001b[0m\u001b[31ma\u001b[0m\u001b[31mm\u001b[0m\u001b[31me\u001b[0m\u001b[31mt\u001b[0m\u001b[31me\u001b[0m\u001b[31mr\u001b[0m\u001b[31ms\u001b[0m\u001b[31m\"\u001b[0m\u001b[31m:\u001b[0m\u001b[31m \u001b[0m\u001b[31m[\u001b[0m\u001b[31m\"\u001b[0m\u001b[31ma\u001b[0m\u001b[31mp\u001b[0m\u001b[31mi\u001b[0m\u001b[31m_\u001b[0m\u001b[31m0\u001b[0m\u001b[31m的\u001b[0m\u001b[31m结\u001b[0m\u001b[31m果\u001b[0m\u001b[31m\"\u001b[0m\u001b[31m,\u001b[0m\u001b[31m \u001b[0m\u001b[31m\"\u001b[0m\u001b[31ma\u001b[0m\u001b[31mp\u001b[0m\u001b[31mi\u001b[0m\u001b[31m_\u001b[0m\u001b[31m1\u001b[0m\u001b[31m的\u001b[0m\u001b[31m结\u001b[0m\u001b[31m果\u001b[0m\u001b[31m\"\u001b[0m\u001b[31m]\u001b[0m\u001b[31m,\u001b[0m\u001b[31m \u001b[0m\u001b[31m\"\u001b[0m\u001b[31mr\u001b[0m\u001b[31me\u001b[0m\u001b[31ml\u001b[0m\u001b[31my\u001b[0m\u001b[31m_\u001b[0m\u001b[31ma\u001b[0m\u001b[31mp\u001b[0m\u001b[31mi\u001b[0m\u001b[31ms\u001b[0m\u001b[31m\"\u001b[0m\u001b[31m:\u001b[0m\u001b[31m \u001b[0m\u001b[31m[\u001b[0m\u001b[31m\"\u001b[0m\u001b[31m0\u001b[0m\u001b[31m\"\u001b[0m\u001b[31m,\u001b[0m\u001b[31m \u001b[0m\u001b[31m\"\u001b[0m\u001b[31m1\u001b[0m\u001b[31m\"\u001b[0m\u001b[31m]\u001b[0m\u001b[31m}\u001b[0m\u001b[31m]\u001b[0m\u001b[31m,\u001b[0m\u001b[31m \u001b[0m\u001b[31m\"\u001b[0m\u001b[31mr\u001b[0m\u001b[31me\u001b[0m\u001b[31ms\u001b[0m\u001b[31mu\u001b[0m\u001b[31ml\u001b[0m\u001b[31mt\u001b[0m\u001b[31m\"\u001b[0m\u001b[31m:\u001b[0m\u001b[31m \u001b[0m\u001b[31m[\u001b[0m\u001b[31m\"\u001b[0m\u001b[31ma\u001b[0m\u001b[31mp\u001b[0m\u001b[31mi\u001b[0m\u001b[31m_\u001b[0m\u001b[31m2\u001b[0m\u001b[31m的\u001b[0m\u001b[31m结\u001b[0m\u001b[31m果\u001b[0m\u001b[31m\"\u001b[0m\u001b[31m]\u001b[0m\u001b[31m}\u001b[0m\u001b[31m}\u001b[0m\n",
      "{\"relevant APIs\": [{\"api_id\": \"0\", \"tool_name\": \"条件选基\", \"api_name\": \"查询近期超大盘收益率\", \"required_parameters\": [\"等于\", \"0.1249\", \"3个月\"], \"rely_apis\": []}, {\"api_id\": \"1\", \"tool_name\": \"条件选基\", \"api_name\": \"查询近期夏普率\", \"required_parameters\": [\"等于\", \"-0.07844\", \"1年\"], \"rely_apis\": []}, {\"api_id\": \"2\", \"tool_name\": \"逻辑运算\", \"api_name\": \"或运算\", \"required_parameters\": [\"api_0的结果\", \"api_1的结果\"], \"rely_apis\": [\"0\", \"1\"]}], \"result\": [\"api_2的结果\"]}\n",
      "\n",
      "-----data index-----\n",
      "142\n",
      "-----query input-----\n",
      "-----output diff-----\n",
      "{\"relevant APIs\": [{\"api_id\": \"0\", \"tool_name\": \"条件选基\", \"api_name\": \"查询近期超大盘收益率\", \"required_parameters\": [\"等于\", \"0.1211\", \"今年来\"], \"rely_apis\": []}, {\"api_id\": \"1\", \"tool_name\": \"条件选基\", \"api_name\": \"查询近期最长解套天数\", \"required_parameters\": [\"\u001b[31m等\u001b[0m于\", \"221.0\", \"1年\"], \"rely_apis\": []}, {\"api_id\": \"2\", \"tool_name\": \"逻辑运算\", \"api_name\": \"与运算\", \"required_parameters\": [\"api_0的结果\", \"api_1的结果\"], \"rely_apis\": [\"0\", \"1\"]}], \"result\": [\"api_2的结果\"]}\n",
      "{\"relevant APIs\": [{\"api_id\": \"0\", \"tool_name\": \"条件选基\", \"api_name\": \"查询近期超大盘收益率\", \"required_parameters\": [\"等于\", \"0.1211\", \"今年来\"], \"rely_apis\": []}, {\"api_id\": \"1\", \"tool_name\": \"条件选基\", \"api_name\": \"查询近期最长解套天数\", \"required_parameters\": [\"小于\", \"221.0\", \"1年\"], \"rely_apis\": []}, {\"api_id\": \"2\", \"tool_name\": \"逻辑运算\", \"api_name\": \"与运算\", \"required_parameters\": [\"api_0的结果\", \"api_1的结果\"], \"rely_apis\": [\"0\", \"1\"]}], \"result\": [\"api_2的结果\"]}\n",
      "\n",
      "-----data index-----\n",
      "147\n",
      "-----query input-----\n",
      "-----output diff-----\n",
      "{\"relevant APIs\": [{\"api_id\": \"0\", \"api_name\": \"查询代码\", \"required_parameters\": [[\"农银汇理医疗精选股票型证券投资基金C类\"]], \"rely_apis\": [], \"tool_name\": \"基金查询\"}, {\"api_id\": \"1\", \"api_name\": \"查询\u001b[31m单\u001b[0m\u001b[31m位\u001b[0m\u001b[31m净\u001b[0m\u001b[31m值\u001b[0m\u001b[31m\"\u001b[0m\u001b[31m,\u001b[0m\u001b[31m \u001b[0m\u001b[31m\"\u001b[0m\u001b[31mr\u001b[0m\u001b[31me\u001b[0m\u001b[31mq\u001b[0m\u001b[31mu\u001b[0m\u001b[31mi\u001b[0m\u001b[31mr\u001b[0m\u001b[31me\u001b[0m\u001b[31md\u001b[0m\u001b[31m_\u001b[0m\u001b[31mp\u001b[0m\u001b[31ma\u001b[0m\u001b[31mr\u001b[0ma\u001b[31mm\u001b[0m\u001b[31me\u001b[0m\u001b[31mt\u001b[0me\u001b[31mr\u001b[0m\u001b[31ms\u001b[0m\u001b[31m\"\u001b[0m\u001b[31m:\u001b[0m\u001b[31m \u001b[0m\u001b[31m[\u001b[0m\u001b[31m\"\u001b[0m\u001b[31ma\u001b[0m\u001b[31mp\u001b[0m\u001b[31mi\u001b[0m\u001b[31m_\u001b[0m\u001b[31m0\u001b[0m\u001b[31m的\u001b[0m\u001b[31m结\u001b[0m\u001b[31m果\u001b[0m\u001b[31m\"\u001b[0m\u001b[31m]\u001b[0m\u001b[31m,\u001b[0m\u001b[31m \u001b[0m\u001b[31m\"\u001b[0m\u001b[31mr\u001b[0m\u001b[31me\u001b[0m\u001b[31ml\u001b[0m\u001b[31my\u001b[0m\u001b[31m_\u001b[0m\u001b[31ma\u001b[0m\u001b[31mp\u001b[0m\u001b[31mi\u001b[0m\u001b[31ms\u001b[0m\u001b[31m\"\u001b[0m\u001b[31m:\u001b[0m\u001b[31m \u001b[0m\u001b[31m[\u001b[0m\u001b[31m\"\u001b[0m\u001b[31m0\u001b[0m\"\u001b[31m]\u001b[0m\u001b[31m,\u001b[0m\u001b[31m \u001b[0m\u001b[31m\"\u001b[0m\u001b[31mt\u001b[0m\u001b[31mo\u001b[0m\u001b[31mo\u001b[0m\u001b[31ml\u001b[0m\u001b[31m_\u001b[0m\u001b[31mn\u001b[0m\u001b[31ma\u001b[0m\u001b[31mm\u001b[0m\u001b[31me\u001b[0m\u001b[31m\"\u001b[0m\u001b[31m:\u001b[0m\u001b[31m \u001b[0m\u001b[31m\"\u001b[0m\u001b[31m基\u001b[0m\u001b[31m金\u001b[0m\u001b[31m查\u001b[0m\u001b[31m询\u001b[0m\u001b[31m\"\u001b[0m\u001b[31m}\u001b[0m\u001b[31m,\u001b[0m\u001b[31m \u001b[0m\u001b[31m{\u001b[0m\u001b[31m\"\u001b[0m\u001b[31ma\u001b[0m\u001b[31mp\u001b[0m\u001b[31mi\u001b[0m\u001b[31m_\u001b[0mi\u001b[31md\u001b[0m\u001b[31m\"\u001b[0m\u001b[31m:\u001b[0m\u001b[31m \u001b[0m\u001b[31m\"\u001b[0m\u001b[31m2\u001b[0m\"\u001b[31m,\u001b[0m\u001b[31m \u001b[0m\u001b[31m\"\u001b[0m\u001b[31ma\u001b[0m\u001b[31mp\u001b[0m\u001b[31mi\u001b[0m\u001b[31m_\u001b[0m\u001b[31mn\u001b[0m\u001b[31ma\u001b[0m\u001b[31mm\u001b[0m\u001b[31me\u001b[0m\u001b[31m\"\u001b[0m\u001b[31m:\u001b[0m\u001b[31m \u001b[0m\u001b[31m\"\u001b[0m\u001b[31m乘\u001b[0m\u001b[31m法\u001b[0m\u001b[31m计\u001b[0m\u001b[31m算\u001b[0m\u001b[31m\"\u001b[0m\u001b[31m,\u001b[0m\u001b[31m \u001b[0m\u001b[31m\"\u001b[0m\u001b[31mr\u001b[0m\u001b[31me\u001b[0m\u001b[31mq\u001b[0m\u001b[31mu\u001b[0m\u001b[31mi\u001b[0m\u001b[31mr\u001b[0m\u001b[31me\u001b[0m\u001b[31md\u001b[0m\u001b[31m_\u001b[0m\u001b[31mp\u001b[0m\u001b[31ma\u001b[0m\u001b[31mr\u001b[0ma\u001b[31mm\u001b[0m\u001b[31me\u001b[0m\u001b[31mt\u001b[0me\u001b[31mr\u001b[0m\u001b[31ms\u001b[0m\u001b[31m\"\u001b[0m\u001b[31m:\u001b[0m\u001b[31m \u001b[0m\u001b[31m[\u001b[0m\u001b[31m\"\u001b[0m\u001b[31ma\u001b[0m\u001b[31mp\u001b[0m\u001b[31mi\u001b[0m\u001b[31m_\u001b[0m\u001b[31m1\u001b[0m\u001b[31m的\u001b[0m\u001b[31m结\u001b[0m\u001b[31m果\u001b[0m\u001b[31m\"\u001b[0m\u001b[31m,\u001b[0m\u001b[31m \u001b[0m\u001b[31m\"\u001b[0m\u001b[31m5\u001b[0m\u001b[31m0\u001b[0m\u001b[31m0\u001b[0m0\u001b[31m\"\u001b[0m\u001b[31m]\u001b[0m\u001b[31m,\u001b[0m\u001b[31m \u001b[0m\u001b[31m\"\u001b[0m\u001b[31mr\u001b[0m\u001b[31me\u001b[0m\u001b[31ml\u001b[0m\u001b[31my\u001b[0m\u001b[31m_\u001b[0m\u001b[31ma\u001b[0m\u001b[31mp\u001b[0m\u001b[31mi\u001b[0m\u001b[31ms\u001b[0m\u001b[31m\"\u001b[0m\u001b[31m:\u001b[0m\u001b[31m \u001b[0m\u001b[31m[\u001b[0m\u001b[31m\"\u001b[0m\u001b[31m1\u001b[0m\"\u001b[31m]\u001b[0m\u001b[31m,\u001b[0m\u001b[31m \u001b[0m\u001b[31m\"\u001b[0m\u001b[31mt\u001b[0m\u001b[31mo\u001b[0m\u001b[31mo\u001b[0m\u001b[31ml\u001b[0m\u001b[31m_\u001b[0m\u001b[31mn\u001b[0m\u001b[31ma\u001b[0m\u001b[31mm\u001b[0m\u001b[31me\u001b[0m\u001b[31m\"\u001b[0m\u001b[31m:\u001b[0m\u001b[31m \u001b[0m\u001b[31m\"\u001b[0m\u001b[31m数\u001b[0m\u001b[31m值\u001b[0m\u001b[31m计\u001b[0m\u001b[31m算\u001b[0m\u001b[31m\"\u001b[0m\u001b[31m}\u001b[0m\u001b[31m,\u001b[0m\u001b[31m \u001b[0m\u001b[31m{\u001b[0m\u001b[31m\"\u001b[0m\u001b[31ma\u001b[0m\u001b[31mp\u001b[0m\u001b[31mi\u001b[0m\u001b[31m_\u001b[0m\u001b[31mi\u001b[0m\u001b[31md\u001b[0m\u001b[31m\"\u001b[0m\u001b[31m:\u001b[0m\u001b[31m \u001b[0m\u001b[31m\"\u001b[0m\u001b[31m3\u001b[0m\u001b[31m\"\u001b[0m\u001b[31m,\u001b[0m\u001b[31m \u001b[0m\u001b[31m\"\u001b[0m\u001b[31ma\u001b[0m\u001b[31mp\u001b[0m\u001b[31mi\u001b[0m\u001b[31m_\u001b[0m\u001b[31mn\u001b[0m\u001b[31ma\u001b[0m\u001b[31mm\u001b[0m\u001b[31me\u001b[0m\u001b[31m\"\u001b[0m\u001b[31m: \"查询销售服务费率\", \"required_parameters\": [\"api_0的结果\"], \"rely_apis\": [\"0\"], \"tool_name\": \"基金查询\"}, {\"api_id\": \"4\", \"api_name\": \"乘法计算\", \"required_parameters\": [\"api_2的结果\", \"api_3的结果\"], \"rely_apis\": [\"2\", \"3\"], \"tool_name\": \"数值计算\"}], \"result\": [\"api_4的结果\"]}\u001b[0m\n",
      "{\"relevant APIs\": [{\"api_id\": \"0\", \"api_name\": \"查询代码\", \"required_parameters\": [[\"农银汇理医疗精选股票型证券投资基金C类\"]], \"rely_apis\": [], \"tool_name\": \"基金查询\"}, {\"api_id\": \"1\", \"api_name\": \"查询销售服务费率\", \"required_parameters\": [\"api_0的结果\"], \"rely_apis\": [\"0\"], \"tool_name\": \"基金查询\"}, {\"api_id\": \"2\", \"api_name\": \"乘法计算\", \"required_parameters\": [\"api_1的结果\", \"5000\"], \"rely_apis\": [\"1\"], \"tool_name\": \"数值计算\"}], \"result\": [\"api_2的结果\"]}\n",
      "\n",
      "-----data index-----\n",
      "166\n",
      "-----query input-----\n",
      "-----output diff-----\n",
      "{\"relevant APIs\": [{\"api_id\": \"0\", \"api_name\": \"查询代码\", \"required_parameters\": [[\"银河通利债券型证券投资基金(LOF)\u001b[31mA\u001b[0m\u001b[31m类\u001b[0m\u001b[31m\"\u001b[0m\u001b[31m]\u001b[0m\u001b[31m]\u001b[0m\u001b[31m,\u001b[0m\u001b[31m \u001b[0m\u001b[31m\"\u001b[0m\u001b[31mr\u001b[0m\u001b[31me\u001b[0m\u001b[31ml\u001b[0m\u001b[31my\u001b[0m\u001b[31m_\u001b[0m\u001b[31ma\u001b[0m\u001b[31mp\u001b[0m\u001b[31mi\u001b[0m\u001b[31ms\u001b[0m\u001b[31m\"\u001b[0m\u001b[31m:\u001b[0m\u001b[31m \u001b[0m\u001b[31m[\u001b[0m\u001b[31m]\u001b[0m\u001b[31m,\u001b[0m\u001b[31m \u001b[0m\u001b[31m\"\u001b[0m\u001b[31mt\u001b[0m\u001b[31mo\u001b[0m\u001b[31mo\u001b[0m\u001b[31ml\u001b[0m\u001b[31m_\u001b[0m\u001b[31mn\u001b[0m\u001b[31ma\u001b[0m\u001b[31mm\u001b[0m\u001b[31me\u001b[0m\u001b[31m\"\u001b[0m\u001b[31m:\u001b[0m\u001b[31m \u001b[0m\u001b[31m\"\u001b[0m\u001b[31m基\u001b[0m\u001b[31m金\u001b[0m\u001b[31m查\u001b[0m\u001b[31m询\u001b[0m\u001b[31m\"\u001b[0m\u001b[31m}\u001b[0m\u001b[31m,\u001b[0m\u001b[31m \u001b[0m\u001b[31m{\u001b[0m\u001b[31m\"\u001b[0m\u001b[31ma\u001b[0m\u001b[31mp\u001b[0mi\u001b[31m_\u001b[0m\u001b[31mi\u001b[0m\u001b[31md\u001b[0m\u001b[31m\"\u001b[0m\u001b[31m:\u001b[0m\u001b[31m \u001b[0m\"\u001b[31m1\u001b[0m\u001b[31m\"\u001b[0m\u001b[31m,\u001b[0m\u001b[31m \u001b[0m\u001b[31m\"\u001b[0m\u001b[31ma\u001b[0m\u001b[31mp\u001b[0m\u001b[31mi\u001b[0m\u001b[31m_\u001b[0m\u001b[31mn\u001b[0m\u001b[31ma\u001b[0m\u001b[31mm\u001b[0m\u001b[31me\u001b[0m\u001b[31m\"\u001b[0m\u001b[31m:\u001b[0m\u001b[31m \u001b[0m\u001b[31m\"\u001b[0m\u001b[31m查\u001b[0m\u001b[31m询\u001b[0m\u001b[31m近\u001b[0m\u001b[31m期\u001b[0m\u001b[31m年\u001b[0m\u001b[31m化\u001b[0m\u001b[31m收\u001b[0m\u001b[31m益\u001b[0m\u001b[31m率\u001b[0m\u001b[31m\"\u001b[0m\u001b[31m,\u001b[0m\u001b[31m \u001b[0m\u001b[31m\"\u001b[0m\u001b[31mr\u001b[0m\u001b[31me\u001b[0m\u001b[31mq\u001b[0m\u001b[31mu\u001b[0m\u001b[31mi\u001b[0m\u001b[31mr\u001b[0m\u001b[31me\u001b[0m\u001b[31md\u001b[0m\u001b[31m_\u001b[0m\u001b[31mp\u001b[0ma\u001b[31mr\u001b[0m\u001b[31ma\u001b[0m\u001b[31mm\u001b[0me\u001b[31mt\u001b[0m\u001b[31me\u001b[0m\u001b[31mr\u001b[0m\u001b[31ms\u001b[0m\u001b[31m\"\u001b[0m\u001b[31m:\u001b[0m\u001b[31m \u001b[0m\u001b[31m[\u001b[0m\u001b[31m\"\u001b[0m\u001b[31ma\u001b[0m\u001b[31mp\u001b[0m\u001b[31mi\u001b[0m\u001b[31m_\u001b[0m\u001b[31m0\u001b[0m\u001b[31m的\u001b[0m\u001b[31m结\u001b[0m\u001b[31m果\u001b[0m\u001b[31m\"\u001b[0m\u001b[31m,\u001b[0m\u001b[31m \u001b[0m\u001b[31m\"\u001b[0m\u001b[31m3\u001b[0m\u001b[31m年\u001b[0m\u001b[31m\"\u001b[0m\u001b[31m]\u001b[0m\u001b[31m,\u001b[0m\u001b[31m \u001b[0m\u001b[31m\"\u001b[0m\u001b[31mr\u001b[0m\u001b[31me\u001b[0m\u001b[31ml\u001b[0m\u001b[31my\u001b[0m\u001b[31m_\u001b[0m\u001b[31ma\u001b[0m\u001b[31mp\u001b[0m\u001b[31mi\u001b[0m\u001b[31ms\u001b[0m\u001b[31m\"\u001b[0m\u001b[31m:\u001b[0m\u001b[31m \u001b[0m\u001b[31m[\u001b[0m\"\u001b[31m0\u001b[0m\u001b[31m\"\u001b[0m\u001b[31m]\u001b[0m\u001b[31m,\u001b[0m\u001b[31m \u001b[0m\u001b[31m\"\u001b[0m\u001b[31mt\u001b[0m\u001b[31mo\u001b[0m\u001b[31mo\u001b[0m\u001b[31ml\u001b[0m\u001b[31m_\u001b[0m\u001b[31mn\u001b[0m\u001b[31ma\u001b[0m\u001b[31mm\u001b[0m\u001b[31me\u001b[0m\u001b[31m\"\u001b[0m\u001b[31m:\u001b[0m\u001b[31m \u001b[0m\u001b[31m\"\u001b[0m\u001b[31m基\u001b[0m\u001b[31m金\u001b[0m\u001b[31m查\u001b[0m\u001b[31m询\u001b[0m\u001b[31m\"\u001b[0m\u001b[31m}\u001b[0m\u001b[31m,\u001b[0m\u001b[31m \u001b[0m\u001b[31m{\u001b[0m\u001b[31m\"\u001b[0m\u001b[31ma\u001b[0m\u001b[31mp\u001b[0mi\u001b[31m_\u001b[0m\u001b[31mi\u001b[0m\u001b[31md\u001b[0m\u001b[31m\"\u001b[0m\u001b[31m:\u001b[0m\u001b[31m \u001b[0m\"\u001b[31m2\u001b[0m\u001b[31m\"\u001b[0m\u001b[31m,\u001b[0m\u001b[31m \u001b[0m\u001b[31m\"\u001b[0m\u001b[31ma\u001b[0m\u001b[31mp\u001b[0m\u001b[31mi\u001b[0m\u001b[31m_\u001b[0m\u001b[31mn\u001b[0m\u001b[31ma\u001b[0m\u001b[31mm\u001b[0m\u001b[31me\u001b[0m\u001b[31m\"\u001b[0m\u001b[31m:\u001b[0m\u001b[31m \u001b[0m\u001b[31m\"\u001b[0m\u001b[31m查\u001b[0m\u001b[31m询\u001b[0m\u001b[31m近\u001b[0m\u001b[31m期\u001b[0m\u001b[31m年\u001b[0m\u001b[31m化\u001b[0m\u001b[31m收\u001b[0m\u001b[31m益\u001b[0m\u001b[31m率\u001b[0m\u001b[31m\"\u001b[0m\u001b[31m,\u001b[0m\u001b[31m \u001b[0m\u001b[31m\"\u001b[0m\u001b[31mr\u001b[0m\u001b[31me\u001b[0m\u001b[31mq\u001b[0m\u001b[31mu\u001b[0m\u001b[31mi\u001b[0m\u001b[31mr\u001b[0m\u001b[31me\u001b[0m\u001b[31md\u001b[0m\u001b[31m_\u001b[0m\u001b[31mp\u001b[0ma\u001b[31mr\u001b[0m\u001b[31ma\u001b[0m\u001b[31mm\u001b[0me\u001b[31mt\u001b[0m\u001b[31me\u001b[0m\u001b[31mr\u001b[0m\u001b[31ms\u001b[0m\u001b[31m\"\u001b[0m\u001b[31m:\u001b[0m\u001b[31m \u001b[0m\u001b[31m[\u001b[0m\u001b[31m\"\u001b[0m\u001b[31ma\u001b[0m\u001b[31mp\u001b[0m\u001b[31mi\u001b[0m\u001b[31m_\u001b[0m\u001b[31m0\u001b[0m\u001b[31m的\u001b[0m\u001b[31m结\u001b[0m\u001b[31m果\u001b[0m\u001b[31m\"\u001b[0m\u001b[31m,\u001b[0m\u001b[31m \u001b[0m\u001b[31m\"\u001b[0m\u001b[31m5\u001b[0m\u001b[31m年\u001b[0m\u001b[31m\"\u001b[0m\u001b[31m]\u001b[0m\u001b[31m,\u001b[0m\u001b[31m \u001b[0m\u001b[31m\"\u001b[0m\u001b[31mr\u001b[0m\u001b[31me\u001b[0m\u001b[31ml\u001b[0m\u001b[31my\u001b[0m\u001b[31m_\u001b[0m\u001b[31ma\u001b[0m\u001b[31mp\u001b[0m\u001b[31mi\u001b[0m\u001b[31ms\u001b[0m\u001b[31m\"\u001b[0m\u001b[31m:\u001b[0m\u001b[31m \u001b[0m\u001b[31m[\u001b[0m\"\u001b[31m0\u001b[0m\u001b[31m\"\u001b[0m\u001b[31m]\u001b[0m\u001b[31m,\u001b[0m\u001b[31m \u001b[0m\u001b[31m\"\u001b[0m\u001b[31mt\u001b[0m\u001b[31mo\u001b[0m\u001b[31mo\u001b[0m\u001b[31ml\u001b[0m\u001b[31m_\u001b[0m\u001b[31mn\u001b[0m\u001b[31ma\u001b[0m\u001b[31mm\u001b[0m\u001b[31me\u001b[0m\u001b[31m\"\u001b[0m\u001b[31m:\u001b[0m\u001b[31m \u001b[0m\u001b[31m\"\u001b[0m\u001b[31m基\u001b[0m\u001b[31m金\u001b[0m\u001b[31m查\u001b[0m\u001b[31m询\u001b[0m\u001b[31m\"\u001b[0m\u001b[31m}\u001b[0m\u001b[31m,\u001b[0m\u001b[31m \u001b[0m\u001b[31m{\u001b[0m\u001b[31m\"\u001b[0m\u001b[31ma\u001b[0m\u001b[31mp\u001b[0mi\u001b[31m_\u001b[0m\u001b[31mi\u001b[0m\u001b[31md\u001b[0m\u001b[31m\"\u001b[0m\u001b[31m:\u001b[0m\u001b[31m \u001b[0m\"\u001b[31m3\u001b[0m\u001b[31m\"\u001b[0m\u001b[31m,\u001b[0m\u001b[31m \u001b[0m\u001b[31m\"\u001b[0m\u001b[31ma\u001b[0m\u001b[31mp\u001b[0m\u001b[31mi\u001b[0m\u001b[31m_\u001b[0m\u001b[31mn\u001b[0m\u001b[31ma\u001b[0m\u001b[31mm\u001b[0m\u001b[31me\u001b[0m\u001b[31m\"\u001b[0m\u001b[31m:\u001b[0m\u001b[31m \u001b[0m\u001b[31m\"\u001b[0m\u001b[31m除\u001b[0m\u001b[31m法\u001b[0m\u001b[31m计\u001b[0m\u001b[31m算\u001b[0m\u001b[31m\"\u001b[0m\u001b[31m,\u001b[0m\u001b[31m \u001b[0m\u001b[31m\"\u001b[0m\u001b[31mr\u001b[0m\u001b[31me\u001b[0m\u001b[31mq\u001b[0m\u001b[31mu\u001b[0m\u001b[31mi\u001b[0m\u001b[31mr\u001b[0m\u001b[31me\u001b[0m\u001b[31md\u001b[0m\u001b[31m_\u001b[0m\u001b[31mp\u001b[0ma\u001b[31mr\u001b[0m\u001b[31ma\u001b[0m\u001b[31mm\u001b[0me\u001b[31mt\u001b[0m\u001b[31me\u001b[0m\u001b[31mr\u001b[0m\u001b[31ms\u001b[0m\u001b[31m\"\u001b[0m\u001b[31m:\u001b[0m\u001b[31m \u001b[0m\u001b[31m[\u001b[0m\u001b[31m\"\u001b[0m\u001b[31ma\u001b[0m\u001b[31mp\u001b[0m\u001b[31mi\u001b[0m\u001b[31m_\u001b[0m\u001b[31m1\u001b[0m\u001b[31m的\u001b[0m\u001b[31m结\u001b[0m\u001b[31m果\u001b[0m\u001b[31m\"\u001b[0m\u001b[31m,\u001b[0m\u001b[31m \u001b[0m\u001b[31m\"\u001b[0m\u001b[31ma\u001b[0m\u001b[31mp\u001b[0m\u001b[31mi\u001b[0m\u001b[31m_\u001b[0m\u001b[31m2\u001b[0m\u001b[31m的\u001b[0m\u001b[31m结\u001b[0m\u001b[31m果\u001b[0m\u001b[31m\"\u001b[0m\u001b[31m]\u001b[0m\u001b[31m,\u001b[0m\u001b[31m \u001b[0m\u001b[31m\"\u001b[0m\u001b[31mr\u001b[0m\u001b[31me\u001b[0m\u001b[31ml\u001b[0m\u001b[31my\u001b[0m\u001b[31m_\u001b[0m\u001b[31ma\u001b[0m\u001b[31mp\u001b[0m\u001b[31mi\u001b[0m\u001b[31ms\u001b[0m\u001b[31m\"\u001b[0m\u001b[31m:\u001b[0m\u001b[31m \u001b[0m\u001b[31m[\u001b[0m\"\u001b[31m1\u001b[0m\u001b[31m\"\u001b[0m\u001b[31m,\u001b[0m\u001b[31m \u001b[0m\"\u001b[31m2\u001b[0m\u001b[31m\"\u001b[0m\u001b[31m]\u001b[0m\u001b[31m,\u001b[0m\u001b[31m \u001b[0m\u001b[31m\"\u001b[0m\u001b[31mt\u001b[0m\u001b[31mo\u001b[0m\u001b[31mo\u001b[0m\u001b[31ml\u001b[0m\u001b[31m_\u001b[0m\u001b[31mn\u001b[0m\u001b[31ma\u001b[0m\u001b[31mm\u001b[0m\u001b[31me\u001b[0m\u001b[31m\"\u001b[0m\u001b[31m:\u001b[0m\u001b[31m \u001b[0m\u001b[31m\"\u001b[0m\u001b[31m数\u001b[0m\u001b[31m值\u001b[0m\u001b[31m计\u001b[0m\u001b[31m算\u001b[0m\u001b[31m\"\u001b[0m\u001b[31m}\u001b[0m\u001b[31m]\u001b[0m\u001b[31m,\u001b[0m\u001b[31m \u001b[0m\u001b[31m\"\u001b[0m\u001b[31mr\u001b[0m\u001b[31me\u001b[0m\u001b[31ms\u001b[0m\u001b[31mu\u001b[0m\u001b[31ml\u001b[0m\u001b[31mt\u001b[0m\u001b[31m\"\u001b[0m\u001b[31m:\u001b[0m\u001b[31m \u001b[0m\u001b[31m[\u001b[0m\u001b[31m\"\u001b[0m\u001b[31ma\u001b[0m\u001b[31mp\u001b[0m\u001b[31mi\u001b[0m\u001b[31m_\u001b[0m\u001b[31m3\u001b[0m\u001b[31m的\u001b[0m\u001b[31m结\u001b[0m\u001b[31m果\u001b[0m\u001b[31m\"\u001b[0m\u001b[31m]}\u001b[0m\n",
      "{\"relevant APIs\": [{\"api_id\": \"0\", \"api_name\": \"查询代码\", \"required_parameters\": [[\"银河通利债券型证券投资基金(LOF)\"]], \"rely_apis\": [], \"tool_name\": \"基金查询\"}, {\"api_id\": \"1\", \"api_name\": \"查询近期年化收益率\", \"required_parameters\": [\"api_0的结果\", \"3年\"], \"rely_apis\": [\"0\"], \"tool_name\": \"基金查询\"}, {\"api_id\": \"2\", \"api_name\": \"查询近期年化收益率\", \"required_parameters\": [\"api_0的结果\", \"5年\"], \"rely_apis\": [\"0\"], \"tool_name\": \"基金查询\"}, {\"api_id\": \"3\", \"api_name\": \"除法计算\", \"required_parameters\": [\"api_1的结果\", \"api_2的结果\"], \"rely_apis\": [\"1\", \"2\"], \"tool_name\": \"数值计算\"}], \"result\": [\"api_3的结果\"]}\n",
      "\n",
      "Json格式不正确:解析失败 {\"relevant APIs\": [{\"api_id\": \"0\", \"api_name\": \"代码\", \"required_parameters\": [[\"西部利得沪深300指数增强型证券投资基金C类\"]], \"rely_apis\": [], \"tool_name\": \"基金查询\"}, {\"api_id\": \"1\", \"api_name\": \"近期收益率\", \"required_parameters\": [\"api_0的结果\", \"1年\"], \"rely_apis\": [\"0\"], \"tool_name\": \"基金查询\"}, {\"api_id\": \"2\", \"api_name\": \"乘法计算\", \"required_parameters\": [\"api_1的结果\", \"1000\"], \"rely_apis\": [\"1\"], \"tool_name\": \"数值计算\"}, {\"api_id\": \"3\", \"api_name\": \"加法计算\", \"required_parameters\": [\"api_2的结果\", \"api_2的结果\", ..., \"api_2的结果\"], \"rely_apis\": [\"2\"], \"tool_name\": \"数值计算\"}], \"result\": [\"api_3的结果\"]}\n",
      "-----data index-----\n",
      "190\n",
      "-----query input-----\n",
      "-----output diff-----\n"
     ]
    },
    {
     "ename": "TypeError",
     "evalue": "'NoneType' object is not iterable",
     "output_type": "error",
     "traceback": [
      "\u001b[0;31m---------------------------------------------------------------------------\u001b[0m",
      "\u001b[0;31mTypeError\u001b[0m                                 Traceback (most recent call last)",
      "File \u001b[0;32m<timed exec>:51\u001b[0m\n",
      "File \u001b[0;32m/autodl-fs/data/afac2024/GLM-4-9B-CoT_LoRA/tools/common_utils.py:16\u001b[0m, in \u001b[0;36mhighlight_diff\u001b[0;34m(str1, str2)\u001b[0m\n\u001b[1;32m      5\u001b[0m \u001b[38;5;250m\u001b[39m\u001b[38;5;124mr\u001b[39m\u001b[38;5;124;03m\"\"\"\u001b[39;00m\n\u001b[1;32m      6\u001b[0m \u001b[38;5;124;03m    比较两个字符串的差异，并且将不同的字符显示成红色\u001b[39;00m\n\u001b[1;32m      7\u001b[0m \u001b[38;5;124;03m    \u001b[39;00m\n\u001b[0;32m   (...)\u001b[0m\n\u001b[1;32m     12\u001b[0m \u001b[38;5;124;03m            字符串2\u001b[39;00m\n\u001b[1;32m     13\u001b[0m \u001b[38;5;124;03m\"\"\"\u001b[39;00m\n\u001b[1;32m     15\u001b[0m result \u001b[38;5;241m=\u001b[39m \u001b[38;5;124m'\u001b[39m\u001b[38;5;124m'\u001b[39m\n\u001b[0;32m---> 16\u001b[0m \u001b[38;5;28;01mfor\u001b[39;00m char1, char2 \u001b[38;5;129;01min\u001b[39;00m \u001b[38;5;28;43mzip\u001b[39;49m\u001b[43m(\u001b[49m\u001b[43mstr1\u001b[49m\u001b[43m,\u001b[49m\u001b[43m \u001b[49m\u001b[43mstr2\u001b[49m\u001b[43m)\u001b[49m:\n\u001b[1;32m     17\u001b[0m     \u001b[38;5;28;01mif\u001b[39;00m char1 \u001b[38;5;241m!=\u001b[39m char2:\n\u001b[1;32m     18\u001b[0m         result \u001b[38;5;241m+\u001b[39m\u001b[38;5;241m=\u001b[39m Fore\u001b[38;5;241m.\u001b[39mRED \u001b[38;5;241m+\u001b[39m char1 \u001b[38;5;241m+\u001b[39m Style\u001b[38;5;241m.\u001b[39mRESET_ALL\n",
      "\u001b[0;31mTypeError\u001b[0m: 'NoneType' object is not iterable"
     ]
    }
   ],
   "source": [
    "%%time\n",
    "from random import random\n",
    "from tools.common_utils import highlight_diff\n",
    "\n",
    "total_eval_count = 0.0\n",
    "correct_count = 0.0\n",
    "eval_num = 100\n",
    "\n",
    "for index, row in df.iterrows():\n",
    "    if random() <= 0.9:\n",
    "        continue\n",
    "    \n",
    "    single_user_row = row[\"messages\"][0]\n",
    "    single_assis_row = row[\"messages\"][1]\n",
    "    \n",
    "    messages = [single_user_row]\n",
    "    output = single_assis_row[\"content\"]\n",
    "    \n",
    "    inputs = tokenizer.apply_chat_template(\n",
    "            messages,\n",
    "            add_generation_prompt=True,\n",
    "            tokenize=True,\n",
    "            return_tensors=\"pt\"\n",
    "        ).to(model.device)\n",
    "    \n",
    "    generate_kwargs = {\n",
    "            \"input_ids\": inputs,\n",
    "            \"max_new_tokens\": 1024,\n",
    "            \"do_sample\": True,\n",
    "            \"top_p\": 0.8,\n",
    "            \"temperature\": 0.8,\n",
    "            \"repetition_penalty\": 1.2,\n",
    "            \"eos_token_id\": model.config.eos_token_id,\n",
    "        }\n",
    "    \n",
    "    outputs = model.generate(**generate_kwargs)\n",
    "    response = tokenizer.decode(outputs[0][len(inputs[0]):], skip_special_tokens=True).strip()\n",
    "\n",
    "    response = post_process(response)\n",
    "    output = post_process(output)\n",
    "    # optimized_resp = optimize_parameters(response, fund_standard_name, stock_standard_name)\n",
    "    \n",
    "    total_eval_count += 1\n",
    "    if response == output:\n",
    "        correct_count += 1\n",
    "    else:\n",
    "        print(\"-----data index-----\")\n",
    "        print(index)\n",
    "        print(\"-----query input-----\")\n",
    "        # print()\n",
    "        print(\"-----output diff-----\")\n",
    "        print(highlight_diff(output, response))\n",
    "        print(response)\n",
    "        print()\n",
    "    \n",
    "    if total_eval_count == 20:\n",
    "        print('='*20 , f' 第{total_eval_count}次评估 ', '='*20)\n",
    "        print('='*20 , f' 正确比例：{correct_count / total_eval_count :.2%} ', '='*20)\n",
    "    \n",
    "print(\"预测正确的比例：\" + f\"{correct_count / total_eval_count :.2%}\")"
   ]
  },
  {
   "cell_type": "code",
   "execution_count": 21,
   "metadata": {},
   "outputs": [
    {
     "data": {
      "text/plain": [
       "'{\"relevant APIs\": [{\"api_id\": \"0\", \"api_name\": \"查询代码\", \"required_parameters\": [[\"西部利得沪深300指数增强型证券投资基金C类\"]], \"rely_apis\": [], \"tool_name\": \"基金查询\"}, {\"api_id\": \"1\", \"api_name\": \"查询单位净值\", \"required_parameters\": [\"api_0的结果\"], \"rely_apis\": [\"0\"], \"tool_name\": \"基金查询\"}, {\"api_id\": \"2\", \"api_name\": \"除法计算\", \"required_parameters\": [\"1000\", \"api_1的结果\"], \"rely_apis\": [\"1\"], \"tool_name\": \"数值计算\"}, {\"api_id\": \"3\", \"api_name\": \"乘法计算\", \"required_parameters\": [\"api_2的结果\", \"12\"], \"rely_apis\": [\"2\"], \"tool_name\": \"数值计算\"}, {\"api_id\": \"4\", \"api_name\": \"查询近期收益率\", \"required_parameters\": [\"api_0的结果\", \"1年\"], \"rely_apis\": [\"0\"], \"tool_name\": \"基金查询\"}, {\"api_id\": \"5\", \"api_name\": \"乘法计算\", \"required_parameters\": [\"api_3的结果\", \"api_4的结果\"], \"rely_apis\": [\"3\", \"4\"], \"tool_name\": \"数值计算\"}], \"result\": [\"api_5的结果\"]}'"
      ]
     },
     "execution_count": 21,
     "metadata": {},
     "output_type": "execute_result"
    }
   ],
   "source": [
    "output"
   ]
  },
  {
   "cell_type": "code",
   "execution_count": 25,
   "metadata": {},
   "outputs": [],
   "source": [
    "response\n",
    "glm4_output = tokenizer.decode(outputs[0][len(inputs[0]):], skip_special_tokens=True).strip()"
   ]
  },
  {
   "cell_type": "code",
   "execution_count": 28,
   "metadata": {},
   "outputs": [
    {
     "name": "stdout",
     "output_type": "stream",
     "text": [
      "Json格式不正确:解析失败 {\"relevant APIs\": [{\"api_id\": \"0\", \"api_name\": \"代码\", \"required_parameters\": [[\"西部利得沪深300指数增强型证券投资基金C类\"]], \"rely_apis\": [], \"tool_name\": \"基金查询\"}, {\"api_id\": \"1\", \"api_name\": \"近期收益率\", \"required_parameters\": [\"api_0的结果\", \"1年\"], \"rely_apis\": [\"0\"], \"tool_name\": \"基金查询\"}, {\"api_id\": \"2\", \"api_name\": \"乘法计算\", \"required_parameters\": [\"api_1的结果\", \"1000\"], \"rely_apis\": [\"1\"], \"tool_name\": \"数值计算\"}, {\"api_id\": \"3\", \"api_name\": \"加法计算\", \"required_parameters\": [\"api_2的结果\", \"api_2的结果\", ..., \"api_2的结果\"], \"rely_apis\": [\"2\"], \"tool_name\": \"数值计算\"}], \"result\": [\"api_3的结果\"]}\n"
     ]
    },
    {
     "ename": "TypeError",
     "evalue": "string indices must be integers",
     "output_type": "error",
     "traceback": [
      "\u001b[0;31m---------------------------------------------------------------------------\u001b[0m",
      "\u001b[0;31mTypeError\u001b[0m                                 Traceback (most recent call last)",
      "Cell \u001b[0;32mIn[28], line 11\u001b[0m\n\u001b[1;32m      9\u001b[0m     \u001b[38;5;28mprint\u001b[39m(\u001b[38;5;124mf\u001b[39m\u001b[38;5;124m'\u001b[39m\u001b[38;5;124mJson格式不正确:relevant APIs未找到 \u001b[39m\u001b[38;5;132;01m{\u001b[39;00mstandard_output\u001b[38;5;132;01m}\u001b[39;00m\u001b[38;5;124m'\u001b[39m)\n\u001b[1;32m     10\u001b[0m \u001b[38;5;28;01melse\u001b[39;00m:\n\u001b[0;32m---> 11\u001b[0m     \u001b[38;5;28;01mfor\u001b[39;00m api \u001b[38;5;129;01min\u001b[39;00m \u001b[43mstandard_output\u001b[49m\u001b[43m[\u001b[49m\u001b[38;5;124;43m'\u001b[39;49m\u001b[38;5;124;43mrelevant APIs\u001b[39;49m\u001b[38;5;124;43m'\u001b[39;49m\u001b[43m]\u001b[49m:\n\u001b[1;32m     12\u001b[0m         \u001b[38;5;28;01mif\u001b[39;00m \u001b[38;5;124m'\u001b[39m\u001b[38;5;124mtool_name\u001b[39m\u001b[38;5;124m'\u001b[39m \u001b[38;5;129;01mnot\u001b[39;00m \u001b[38;5;129;01min\u001b[39;00m api:\n\u001b[1;32m     13\u001b[0m             \u001b[38;5;28mprint\u001b[39m(\u001b[38;5;124mf\u001b[39m\u001b[38;5;124m'\u001b[39m\u001b[38;5;124mJson格式不正确:tool_name未找到 \u001b[39m\u001b[38;5;132;01m{\u001b[39;00mstandard_output\u001b[38;5;132;01m}\u001b[39;00m\u001b[38;5;124m'\u001b[39m)\n",
      "\u001b[0;31mTypeError\u001b[0m: string indices must be integers"
     ]
    }
   ],
   "source": [
    "standard_output = glm4_output.split('于是最终标准的json格式结果为:')[1].replace('</output>','').strip()\n",
    "# 格式验证\n",
    "try:\n",
    "    standard_output = json.loads(standard_output)\n",
    "except:\n",
    "    print(f'Json格式不正确:解析失败 {standard_output}')\n",
    "\n",
    "if 'relevant APIs' not in standard_output:\n",
    "    print(f'Json格式不正确:relevant APIs未找到 {standard_output}')\n",
    "else:\n",
    "    for api in standard_output['relevant APIs']:\n",
    "        if 'tool_name' not in api:\n",
    "            print(f'Json格式不正确:tool_name未找到 {standard_output}')\n",
    "        if 'api_name' not in api:\n",
    "            print(f'Json格式不正确:api_name未找到 {standard_output}')\n",
    "        if 'required_parameters' not in api:\n",
    "            print(f'Json格式不正确:required_parameters未找到 {standard_output}')\n",
    "        if 'rely_apis' not in api:\n",
    "            print(f'Json格式不正确:rely_apis未找到 {standard_output}')\n",
    "        # 后处理\n",
    "        if api['tool_name'] in {'基金查询','条件选基','股票查询','条件选股'}:\n",
    "            api['api_name'] = '查询'+api['api_name']\n",
    "            if api['tool_name'] == '条件选基' and api['api_name']=='查询基金份额类型':\n",
    "                api['api_name'] = '查询基金份额类型(A、B、C)'\n",
    "            elif api['tool_name'] == '条件选股' and api['api_name']=='查询每股经营性现金流':\n",
    "                api['api_name'] = '查询每股经营性现资金流'\n",
    "if 'result' not in standard_output:\n",
    "    print(f'Json格式不正确:result未找到 {standard_output}')\n",
    "\n",
    "print(standard_output)"
   ]
  },
  {
   "cell_type": "code",
   "execution_count": 32,
   "metadata": {},
   "outputs": [
    {
     "data": {
      "text/plain": [
       "'{\"relevant APIs\": [{\"api_id\": \"0\", \"api_name\": \"查询代码\", \"required_parameters\": [[\"西部利得沪深300指数增强型证券投资基金C类\"]], \"rely_apis\": [], \"tool_name\": \"基金查询\"}, {\"api_id\": \"1\", \"api_name\": \"查询单位净值\", \"required_parameters\": [\"api_0的结果\"], \"rely_apis\": [\"0\"], \"tool_name\": \"基金查询\"}, {\"api_id\": \"2\", \"api_name\": \"除法计算\", \"required_parameters\": [\"1000\", \"api_1的结果\"], \"rely_apis\": [\"1\"], \"tool_name\": \"数值计算\"}, {\"api_id\": \"3\", \"api_name\": \"乘法计算\", \"required_parameters\": [\"api_2的结果\", \"12\"], \"rely_apis\": [\"2\"], \"tool_name\": \"数值计算\"}, {\"api_id\": \"4\", \"api_name\": \"查询近期收益率\", \"required_parameters\": [\"api_0的结果\", \"1年\"], \"rely_apis\": [\"0\"], \"tool_name\": \"基金查询\"}, {\"api_id\": \"5\", \"api_name\": \"乘法计算\", \"required_parameters\": [\"api_3的结果\", \"api_4的结果\"], \"rely_apis\": [\"3\", \"4\"], \"tool_name\": \"数值计算\"}], \"result\": [\"api_5的结果\"]}'"
      ]
     },
     "execution_count": 32,
     "metadata": {},
     "output_type": "execute_result"
    }
   ],
   "source": [
    "output"
   ]
  },
  {
   "cell_type": "code",
   "execution_count": null,
   "metadata": {},
   "outputs": [],
   "source": []
  }
 ],
 "metadata": {
  "kernelspec": {
   "display_name": "Python 3 (ipykernel)",
   "language": "python",
   "name": "python3"
  },
  "language_info": {
   "codemirror_mode": {
    "name": "ipython",
    "version": 3
   },
   "file_extension": ".py",
   "mimetype": "text/x-python",
   "name": "python",
   "nbconvert_exporter": "python",
   "pygments_lexer": "ipython3",
   "version": "3.10.8"
  }
 },
 "nbformat": 4,
 "nbformat_minor": 4
}
