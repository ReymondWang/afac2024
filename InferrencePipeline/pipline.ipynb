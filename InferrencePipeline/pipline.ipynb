{
 "cells": [
  {
   "cell_type": "code",
   "execution_count": 5,
   "metadata": {},
   "outputs": [],
   "source": [
    "import pandas as pd\n",
    "from tqdm import tqdm\n",
    "from tools.utils import read_jsonl,get_type_from_label,get_prompt,post_process\n",
    "from tools.inference import load_model_and_tokenizer,transformers_inference\n",
    "\n",
    "DATA_SELECT = 'dev'\n",
    "GLM3_MODEL_PATH = '../../checkpoint-5000'"
   ]
  },
  {
   "cell_type": "markdown",
   "metadata": {},
   "source": [
    "- 前处理"
   ]
  },
  {
   "cell_type": "code",
   "execution_count": 2,
   "metadata": {},
   "outputs": [
    {
     "data": {
      "application/vnd.jupyter.widget-view+json": {
       "model_id": "b765944e863a45deacf5b27046aafc05",
       "version_major": 2,
       "version_minor": 0
      },
      "text/plain": [
       "Loading checkpoint shards:   0%|          | 0/6 [00:00<?, ?it/s]"
      ]
     },
     "metadata": {},
     "output_type": "display_data"
    },
    {
     "name": "stderr",
     "output_type": "stream",
     "text": [
      "WARNING:root:Some parameters are on the meta device device because they were offloaded to the cpu.\n",
      "WARNING:transformers_modules.checkpoint-5000.tokenization_chatglm:Setting eos_token is not supported, use the default one.\n",
      "WARNING:transformers_modules.checkpoint-5000.tokenization_chatglm:Setting pad_token is not supported, use the default one.\n",
      "WARNING:transformers_modules.checkpoint-5000.tokenization_chatglm:Setting unk_token is not supported, use the default one.\n"
     ]
    }
   ],
   "source": [
    "# 数据加载 模型1：GLM3-FT加载\n",
    "df = read_jsonl(f'data/{DATA_SELECT}.json')\n",
    "stock_names = pd.read_excel('data/data-0520/标准名.xlsx',sheet_name='股票标准名')['标准股票名称'].to_list()\n",
    "fund_names = pd.read_excel('data/data-0520/标准名.xlsx',sheet_name='基金标准名')['标准基金名称'].to_list()\n",
    "glm3_finetune,tokenizer = load_model_and_tokenizer(GLM3_MODEL_PATH)\n",
    "\n",
    "df['glm3_output'] = ''\n",
    "df['type_'] = 0\n",
    "df['prompt'] = ''\n",
    "for idx,row in tqdm(df.iterrows(),total=df.shape[0]):\n",
    "    input = row['input']\n",
    "    output = transformers_inference(input,glm3_finetune,tokenizer)\n",
    "    df.at[idx,'glm3_output'] = output\n",
    "    df.at[idx,'type_'] = get_type_from_label(output)\n",
    "    df.at[idx,'prompt'] = get_prompt(row,stock_names,fund_names)\n"
   ]
  },
  {
   "cell_type": "markdown",
   "metadata": {},
   "source": [
    "- 分类思维链推理"
   ]
  },
  {
   "cell_type": "code",
   "execution_count": null,
   "metadata": {},
   "outputs": [],
   "source": [
    "df['glm4_output'] = ''"
   ]
  },
  {
   "cell_type": "markdown",
   "metadata": {},
   "source": [
    "- 后处理"
   ]
  },
  {
   "cell_type": "code",
   "execution_count": null,
   "metadata": {},
   "outputs": [],
   "source": [
    "df['final_output'] = df['glm4_output'].apply(lambda x: post_process(x))"
   ]
  }
 ],
 "metadata": {
  "kernelspec": {
   "display_name": "pyml",
   "language": "python",
   "name": "python3"
  },
  "language_info": {
   "codemirror_mode": {
    "name": "ipython",
    "version": 3
   },
   "file_extension": ".py",
   "mimetype": "text/x-python",
   "name": "python",
   "nbconvert_exporter": "python",
   "pygments_lexer": "ipython3",
   "version": "3.10.14"
  }
 },
 "nbformat": 4,
 "nbformat_minor": 2
}
