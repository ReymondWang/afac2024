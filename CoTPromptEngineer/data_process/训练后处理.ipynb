{
 "cells": [
  {
   "cell_type": "markdown",
   "id": "4d42dc9c-a00a-41ae-89bb-0f83322e234a",
   "metadata": {},
   "source": [
    "- 用于训练后，模型生成结果的后处理"
   ]
  },
  {
   "cell_type": "markdown",
   "id": "0e946717-03b6-4782-8d4a-34c3ca7614f8",
   "metadata": {},
   "source": [
    "## 1. 抽取json结果"
   ]
  },
  {
   "cell_type": "markdown",
   "id": "f1e9ca8c-a51e-4c98-aa21-69a1b378ee4f",
   "metadata": {},
   "source": [
    "## 2. 添加“查询”"
   ]
  },
  {
   "cell_type": "markdown",
   "id": "0aa14b7e-236c-45ec-bccf-eb5cab5fedb0",
   "metadata": {},
   "source": [
    "## 3. 查询与条件类对齐\n",
    "- 条件选基中：基金份额类型(A、B、C) => 基金份额类型\n",
    "- 条件选股中：每股经营性现资金流 => 每股经营性现金流"
   ]
  }
 ],
 "metadata": {
  "kernelspec": {
   "display_name": "pyml",
   "language": "python",
   "name": "pyml"
  },
  "language_info": {
   "codemirror_mode": {
    "name": "ipython",
    "version": 3
   },
   "file_extension": ".py",
   "mimetype": "text/x-python",
   "name": "python",
   "nbconvert_exporter": "python",
   "pygments_lexer": "ipython3",
   "version": "3.10.14"
  }
 },
 "nbformat": 4,
 "nbformat_minor": 5
}
