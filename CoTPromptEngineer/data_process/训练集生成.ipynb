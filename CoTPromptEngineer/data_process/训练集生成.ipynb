{
 "cells": [
  {
   "cell_type": "code",
   "execution_count": 1,
   "metadata": {},
   "outputs": [],
   "source": [
    "import os\n",
    "import pandas as pd\n",
    "import os; os.chdir('../data/data-0520/')\n",
    "pd.set_option('display.max_rows', None)\n",
    "pd.set_option('display.max_colwidth', None)"
   ]
  },
  {
   "cell_type": "markdown",
   "metadata": {},
   "source": [
    "## sample\n",
    "\n",
    "```json\n",
    "{\n",
    "    \"relevant APIs\": \n",
    "        [{\"api_id\": \"0\", \"api_name\": \"查询代码\", \"required_parameters\": [[\"三羊马\"]], \"rely_apis\": [], \"tool_name\": \"股票查询\"},\n",
    "        {\"api_id\": \"1\", \"api_name\": \"查询最高价\", \"required_parameters\": [\"api_0的结果\", \"今日\"], \"rely_apis\": [\"0\"], \"tool_name\": \"股票查询\"},\n",
    "        {\"api_id\": \"2\", \"api_name\": \"除法计算\", \"required_parameters\": [\"1000000\", \"api_1的结果\"], \"rely_apis\": [\"1\"], \"tool_name\": \"数值计算\"}],\n",
    "    \"result\": [\"api_2的结果\"]\n",
    "}\n",
    "```"
   ]
  },
  {
   "cell_type": "markdown",
   "metadata": {},
   "source": [
    "## 特征抽取"
   ]
  },
  {
   "cell_type": "code",
   "execution_count": 2,
   "metadata": {},
   "outputs": [],
   "source": [
    "def get_features(label):\n",
    "    features = {}\n",
    "    features['api_list'] = []\n",
    "    features['api_num'] = 0\n",
    "    features['result'] = []\n",
    "    features['true_product'] = ''\n",
    "    label_d = eval(label)\n",
    "    for api in label_d['relevant APIs']:\n",
    "        features['api_list'].append((api['tool_name'],api['api_name']))\n",
    "        features[\"api_num\"] += 1\n",
    "        if api['api_name'] == '查询代码':\n",
    "            features['true_product'] = api['required_parameters'][0][0]\n",
    "    features['result'] = ','.join([res[:-3] for res in label_d['result']])\n",
    "    return pd.Series(features)"
   ]
  },
  {
   "cell_type": "code",
   "execution_count": 3,
   "metadata": {},
   "outputs": [],
   "source": [
    "train_df = pd.read_excel('train.xlsx')\n",
    "train_df = pd.concat([train_df,train_df.label.apply(get_features)],axis=1)\n",
    "# train_df.drop(columns=['label'],inplace=True)"
   ]
  },
  {
   "cell_type": "markdown",
   "metadata": {},
   "source": [
    "---"
   ]
  },
  {
   "cell_type": "markdown",
   "metadata": {},
   "source": [
    "## CoT 数据准备"
   ]
  },
  {
   "cell_type": "markdown",
   "metadata": {},
   "source": [
    "### 1. 标准产品名召回"
   ]
  },
  {
   "cell_type": "code",
   "execution_count": 7,
   "metadata": {},
   "outputs": [],
   "source": [
    "import difflib\n",
    "import pandas as pd\n",
    "from tqdm import tqdm\n",
    "\n",
    "class ProductsLoader:\n",
    "    def __init__(self,data_dir = './') -> None:\n",
    "        self.data_dir = data_dir\n",
    "        self.standard_name = self.load_standard_name()\n",
    "\n",
    "    def load_standard_name(self):\n",
    "        data_stock = pd.read_excel(f'{self.data_dir}/标准名.xlsx',sheet_name='股票标准名')\n",
    "        data_fund = pd.read_excel(f'{self.data_dir}/标准名.xlsx',sheet_name='基金标准名')\n",
    "        standard_name = data_stock['标准股票名称'].to_list()+data_fund['标准基金名称'].to_list()\n",
    "        return standard_name\n",
    "    \n",
    "    def addProducts2df(self,df):\n",
    "        df['recall_product'] = None\n",
    "        print('正在处理...')\n",
    "        for index,row in tqdm(df.iterrows(),total=df.shape[0]):\n",
    "            query = row['query']\n",
    "            products = difflib.get_close_matches(query,self.standard_name,n=50,cutoff=0.0001)\n",
    "            df.at[index,'recall_product'] = products\n",
    "            \n",
    "    def run(self,df):\n",
    "        self.addProducts2df(df)\n",
    "        print('处理完成！')\n",
    "\n",
    "if os.path.exists('../data4cot/train_with_products.xlsx'):\n",
    "    train_df['recall_product'] = pd.read_excel('train_complete.xlsx')['recall_product'].apply(lambda x:eval(x))\n",
    "else:\n",
    "    p=ProductsLoader()\n",
    "    p.run(train_df)\n",
    "    train_df.to_excel('../data4cot/train_with_products.xlsx',index=False)"
   ]
  },
  {
   "cell_type": "code",
   "execution_count": 8,
   "metadata": {},
   "outputs": [],
   "source": [
    "get_index = lambda row:row['recall_product'].index(row['true_product']) if row['true_product'] in row['recall_product'] else -1\n",
    "train_df['recall_idx'] = train_df.apply(get_index,axis=1)"
   ]
  },
  {
   "cell_type": "code",
   "execution_count": 9,
   "metadata": {},
   "outputs": [
    {
     "data": {
      "text/plain": [
       "count    2868\n",
       "mean        3\n",
       "std         7\n",
       "min         0\n",
       "50%         0\n",
       "75%         2\n",
       "90%        10\n",
       "95%        20\n",
       "99%        41\n",
       "99.9%      47\n",
       "max        49\n",
       "Name: recall_idx, dtype: int64"
      ]
     },
     "execution_count": 9,
     "metadata": {},
     "output_type": "execute_result"
    }
   ],
   "source": [
    "valid_df = train_df.query('recall_idx!=-1')\n",
    "valid_df.recall_idx.describe(percentiles=[0.5,0.75,0.9,0.95,0.99,0.999]).astype(int)"
   ]
  },
  {
   "cell_type": "code",
   "execution_count": 10,
   "metadata": {},
   "outputs": [
    {
     "data": {
      "text/plain": [
       "(2868, 561, 2031)"
      ]
     },
     "execution_count": 10,
     "metadata": {},
     "output_type": "execute_result"
    }
   ],
   "source": [
    "founded_num = train_df.query('recall_idx!=-1').shape[0]\n",
    "not_found_num = train_df.query('recall_idx==-1 and true_product!=\"\"').shape[0]\n",
    "no_need_num = train_df.query('true_product==\"\"').shape[0]\n",
    "founded_num,not_found_num,no_need_num"
   ]
  },
  {
   "cell_type": "markdown",
   "metadata": {},
   "source": [
    "可以发现，\n",
    "- 前十个名字已召回90%，二十个召回率95%\n",
    "- 仍有 561/3000 在n=50时未能召回"
   ]
  },
  {
   "cell_type": "markdown",
   "metadata": {},
   "source": [
    "### 2. 拼接prompt"
   ]
  },
  {
   "cell_type": "code",
   "execution_count": 30,
   "metadata": {},
   "outputs": [],
   "source": [
    "n_product = 10\n",
    "train_df['query_with_products'] = train_df.apply(lambda row:row['query']+'问题中提到的产品标准名可能是：'+'、'.join(row['recall_product'][:n_product]),axis=1)"
   ]
  },
  {
   "cell_type": "markdown",
   "metadata": {},
   "source": [
    "### 3. label前处理(配合prompt背景)\n",
    "1. 去掉api名称中的`查询`二字\n",
    "2. 查询与条件类对齐\n",
    "  - 条件选基中：基金份额类型(A、B、C) => 基金份额类型\n",
    "  - 条件选股中：每股经营性现资金流 => 每股经营性现金流"
   ]
  },
  {
   "cell_type": "code",
   "execution_count": 37,
   "metadata": {},
   "outputs": [],
   "source": [
    "train_df[\"label\"] = train_df[\"label\"].str.replace(\"\\\"api_name\\\": \\\"查询\",\"\\\"api_name\\\": \\\"\")\n",
    "train_df[\"label\"] = train_df[\"label\"].str.replace(\"基金份额类型(A、B、C)\",\"基金份额类型\")\n",
    "train_df[\"label\"] = train_df[\"label\"].str.replace(\"每股经营性现资金流\",\"每股经营性现金流\")"
   ]
  },
  {
   "cell_type": "code",
   "execution_count": 38,
   "metadata": {},
   "outputs": [],
   "source": [
    "train_df[['query_with_products','label']].to_csv('../data4cot/train_cot.csv',index=False)"
   ]
  },
  {
   "cell_type": "markdown",
   "metadata": {},
   "source": [
    "### 4. 生成带CoT"
   ]
  },
  {
   "cell_type": "code",
   "execution_count": null,
   "metadata": {
    "scrolled": true
   },
   "outputs": [],
   "source": [
    "%%time\n",
    "import os\n",
    "from openai import OpenAI\n",
    "from prompt import cot_prompt\n",
    "import pandas as pd\n",
    "# import os; api_key = os.getenv('DEEPSEEK_API')\n",
    "api_key = 'sk-b75d2229e28a49dd9f4c1caf4293345c'\n",
    "client = OpenAI(api_key=api_key, base_url=\"https://api.deepseek.com\")\n",
    "\n",
    "src_file = '../data4cot/train_cot.csv'\n",
    "dest_file = '../data4cot/train_cot.xlsx'\n",
    "\n",
    "if os.path.exists(dest_file):\n",
    "    train_df = pd.read_excel(dest_file,dtype=str)\n",
    "else:\n",
    "    train_df = pd.read_csv(src_file)\n",
    "    train_df['cot'] = ''"
   ]
  },
  {
   "cell_type": "code",
   "execution_count": null,
   "metadata": {},
   "outputs": [],
   "source": []
  },
  {
   "cell_type": "code",
   "execution_count": null,
   "metadata": {
    "scrolled": true
   },
   "outputs": [
    {
     "name": "stdout",
     "output_type": "stream",
     "text": [
      "1300\n",
      "1400\n",
      "1500\n"
     ]
    }
   ],
   "source": [
    "train_df.cot = train_df.cot.fillna('')\n",
    "for i,row in train_df.iterrows():\n",
    "    # if i < 1300:\n",
    "    #     continue\n",
    "    if row['cot'] != '':\n",
    "        continue\n",
    "    if i%100==0:\n",
    "        print(i)\n",
    "        train_df.to_excel(dest_file, index=False)\n",
    "    query = row['query_with_products']\n",
    "    label = row['label']\n",
    "    prompt = cot_prompt.replace('<QUERY>', query).replace('<LABEL>', label)\n",
    "    messages = [{\"role\": \"user\", \"content\": prompt}]\n",
    "    response = client.chat.completions.create(model=\"deepseek-chat\", messages=messages, max_tokens=4096)   \n",
    "    train_df.loc[i,'cot'] = response.choices[0].message.content\n",
    "    # break\n",
    "train_df.to_excel(dest_file, index=False)"
   ]
  },
  {
   "cell_type": "markdown",
   "metadata": {},
   "source": [
    "### 5. 生成训练数据"
   ]
  },
  {
   "cell_type": "code",
   "execution_count": 3,
   "metadata": {},
   "outputs": [],
   "source": [
    "import pandas as pd\n",
    "from prompt import cot_prompt_train\n",
    "train_df = pd.read_excel('../data4cot/train_cot.xlsx')\n",
    "\n",
    "# \n"
   ]
  },
  {
   "cell_type": "code",
   "execution_count": 7,
   "metadata": {},
   "outputs": [],
   "source": [
    "mask = train_df.cot.str.strip().str[:4]!='思考过程'\n",
    "train_df.loc[mask,'cot'] = '思考过程：\\n    ' + train_df.loc[mask,'cot']"
   ]
  },
  {
   "cell_type": "code",
   "execution_count": 11,
   "metadata": {},
   "outputs": [],
   "source": [
    "train_df['cot_label'] = train_df.cot + '\\n\\t\\t于是最终标准的json格式结果为:\\n\\t\\t\\t' + train_df.label\n",
    "train_df['cot_prompt'] = train_df.query_with_products.apply(lambda query:cot_prompt_train.replace('<QUERY>',query))\n",
    "train_df[['cot_prompt','cot_label']].to_excel('../data4cot/cot4train.xlsx',index=False)\n",
    "# for backward compatibility, you can still use `https://api.deepseek.com/v1` as `base_url`.\n"
   ]
  },
  {
   "cell_type": "code",
   "execution_count": null,
   "metadata": {},
   "outputs": [],
   "source": []
  }
 ],
 "metadata": {
  "kernelspec": {
   "display_name": "pyml",
   "language": "python",
   "name": "python3"
  },
  "language_info": {
   "codemirror_mode": {
    "name": "ipython",
    "version": 3
   },
   "file_extension": ".py",
   "mimetype": "text/x-python",
   "name": "python",
   "nbconvert_exporter": "python",
   "pygments_lexer": "ipython3",
   "version": "3.10.14"
  }
 },
 "nbformat": 4,
 "nbformat_minor": 4
}
