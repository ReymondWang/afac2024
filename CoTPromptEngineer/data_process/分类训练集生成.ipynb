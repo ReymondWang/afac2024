{
 "cells": [
  {
   "cell_type": "code",
   "execution_count": 2,
   "metadata": {},
   "outputs": [],
   "source": [
    "import pandas as pd\n",
    "from prompt import *\n",
    "# from"
   ]
  },
  {
   "cell_type": "code",
   "execution_count": 15,
   "metadata": {},
   "outputs": [],
   "source": [
    "# 获取类别\n",
    "train_df_org = pd.read_excel('../data/data-0520/train.xlsx')\n",
    "train_df_cot = pd.read_excel('../data/data4cot/cot4train.xlsx')\n",
    "train_df = pd.concat([train_df_org, train_df_cot], axis=1)"
   ]
  },
  {
   "cell_type": "markdown",
   "metadata": {},
   "source": [
    "### 1. Prompt"
   ]
  },
  {
   "cell_type": "markdown",
   "metadata": {},
   "source": [
    "A. Classify"
   ]
  },
  {
   "cell_type": "code",
   "execution_count": 16,
   "metadata": {},
   "outputs": [],
   "source": [
    "FUND_INQUIRY = 1\n",
    "FUND_SELECTION = 2\n",
    "STOCK_INQUIRY = 4\n",
    "STOCK_SELECTION = 8\n",
    "prompt_map = {1:fundQuery_cot_prompt, 2:fundSelect_cot_prompt, 4:stockQuery_cot_prompt, 8:stockSelect_cot_prompt, 0:calculation_cot_prompt}\n",
    "\n",
    "\n",
    "def get_type_from_json(label:str):\n",
    "    try:\n",
    "        label_d = eval(label)\n",
    "    except:\n",
    "        print(f'error in parsing {label}')\n",
    "        return None\n",
    "    api_list = label_d['relevant APIs']\n",
    "    type_ = 0\n",
    "    for api in api_list:\n",
    "        if 'tool_name' not in api:\n",
    "            print(f'error in parsing {api}')\n",
    "            continue\n",
    "        if api['tool_name'] == '基金查询' and api['api_name'] != '查询代码':    # 个别仅仅查询了代码，不算查询（无效）\n",
    "            type_ |= FUND_INQUIRY\n",
    "        elif api['tool_name'] == '条件选基':\n",
    "            type_ |= FUND_SELECTION\n",
    "        elif api['tool_name'] == '股票查询' and api['api_name'] != '查询代码':\n",
    "            type_ |= STOCK_INQUIRY\n",
    "        elif api['tool_name'] == '条件选股':\n",
    "            type_ |= STOCK_SELECTION\n",
    "    \n",
    "    return type_\n",
    "\n",
    "train_df['type_'] = train_df['label'].apply(get_type_from_json)"
   ]
  },
  {
   "cell_type": "markdown",
   "metadata": {},
   "source": [
    "B. Product recall"
   ]
  },
  {
   "cell_type": "code",
   "execution_count": 25,
   "metadata": {},
   "outputs": [
    {
     "name": "stderr",
     "output_type": "stream",
     "text": [
      "  2%|▏         | 124/5460 [00:28<20:23,  4.36it/s]\n"
     ]
    },
    {
     "ename": "KeyboardInterrupt",
     "evalue": "",
     "output_type": "error",
     "traceback": [
      "\u001b[0;31m---------------------------------------------------------------------------\u001b[0m",
      "\u001b[0;31mKeyboardInterrupt\u001b[0m                         Traceback (most recent call last)",
      "Cell \u001b[0;32mIn[25], line 15\u001b[0m\n\u001b[1;32m     13\u001b[0m     \u001b[38;5;66;03m# print(f'index: {index}, query: {row[\"query\"]}\\nproducts: {products}\\nnew_query: {train_df.at[index,\"query_with_products\"]}')\u001b[39;00m\n\u001b[1;32m     14\u001b[0m \u001b[38;5;28;01mif\u001b[39;00m row[\u001b[38;5;124m'\u001b[39m\u001b[38;5;124mtype_\u001b[39m\u001b[38;5;124m'\u001b[39m] \u001b[38;5;241m&\u001b[39m FUND_INQUIRY:\n\u001b[0;32m---> 15\u001b[0m     products \u001b[38;5;241m=\u001b[39m \u001b[43mdifflib\u001b[49m\u001b[38;5;241;43m.\u001b[39;49m\u001b[43mget_close_matches\u001b[49m\u001b[43m(\u001b[49m\u001b[43mrow\u001b[49m\u001b[43m[\u001b[49m\u001b[38;5;124;43m'\u001b[39;49m\u001b[38;5;124;43mquery\u001b[39;49m\u001b[38;5;124;43m'\u001b[39;49m\u001b[43m]\u001b[49m\u001b[43m,\u001b[49m\u001b[43mfund_names\u001b[49m\u001b[43m,\u001b[49m\u001b[43mn\u001b[49m\u001b[38;5;241;43m=\u001b[39;49m\u001b[38;5;241;43m50\u001b[39;49m\u001b[43m,\u001b[49m\u001b[43mcutoff\u001b[49m\u001b[38;5;241;43m=\u001b[39;49m\u001b[38;5;241;43m0.0001\u001b[39;49m\u001b[43m)\u001b[49m\n\u001b[1;32m     16\u001b[0m     train_df\u001b[38;5;241m.\u001b[39mat[index,\u001b[38;5;124m'\u001b[39m\u001b[38;5;124mproducts\u001b[39m\u001b[38;5;124m'\u001b[39m] \u001b[38;5;241m=\u001b[39m products\n\u001b[1;32m     17\u001b[0m     train_df\u001b[38;5;241m.\u001b[39mat[index,\u001b[38;5;124m'\u001b[39m\u001b[38;5;124mquery_with_products\u001b[39m\u001b[38;5;124m'\u001b[39m] \u001b[38;5;241m+\u001b[39m\u001b[38;5;241m=\u001b[39m \u001b[38;5;124m'\u001b[39m\u001b[38;5;130;01m\\n\u001b[39;00m\u001b[38;5;130;01m\\t\u001b[39;00m\u001b[38;5;124mquery中提到的产品标准名可能是：\u001b[39m\u001b[38;5;124m'\u001b[39m \u001b[38;5;241m+\u001b[39m \u001b[38;5;124m'\u001b[39m\u001b[38;5;124m、\u001b[39m\u001b[38;5;124m'\u001b[39m\u001b[38;5;241m.\u001b[39mjoin(products)\n",
      "File \u001b[0;32m~/.conda/envs/pyml/lib/python3.10/difflib.py:705\u001b[0m, in \u001b[0;36mget_close_matches\u001b[0;34m(word, possibilities, n, cutoff)\u001b[0m\n\u001b[1;32m    702\u001b[0m \u001b[38;5;28;01mfor\u001b[39;00m x \u001b[38;5;129;01min\u001b[39;00m possibilities:\n\u001b[1;32m    703\u001b[0m     s\u001b[38;5;241m.\u001b[39mset_seq1(x)\n\u001b[1;32m    704\u001b[0m     \u001b[38;5;28;01mif\u001b[39;00m s\u001b[38;5;241m.\u001b[39mreal_quick_ratio() \u001b[38;5;241m>\u001b[39m\u001b[38;5;241m=\u001b[39m cutoff \u001b[38;5;129;01mand\u001b[39;00m \\\n\u001b[0;32m--> 705\u001b[0m        \u001b[43ms\u001b[49m\u001b[38;5;241;43m.\u001b[39;49m\u001b[43mquick_ratio\u001b[49m\u001b[43m(\u001b[49m\u001b[43m)\u001b[49m \u001b[38;5;241m>\u001b[39m\u001b[38;5;241m=\u001b[39m cutoff \u001b[38;5;129;01mand\u001b[39;00m \\\n\u001b[1;32m    706\u001b[0m        s\u001b[38;5;241m.\u001b[39mratio() \u001b[38;5;241m>\u001b[39m\u001b[38;5;241m=\u001b[39m cutoff:\n\u001b[1;32m    707\u001b[0m         result\u001b[38;5;241m.\u001b[39mappend((s\u001b[38;5;241m.\u001b[39mratio(), x))\n\u001b[1;32m    709\u001b[0m \u001b[38;5;66;03m# Move the best scorers to head of list\u001b[39;00m\n",
      "File \u001b[0;32m~/.conda/envs/pyml/lib/python3.10/difflib.py:-1\u001b[0m, in \u001b[0;36mSequenceMatcher.quick_ratio\u001b[0;34m(self)\u001b[0m\n\u001b[1;32m      0\u001b[0m <Error retrieving source code with stack_data see ipython/ipython#13598>\n",
      "\u001b[0;31mKeyboardInterrupt\u001b[0m: "
     ]
    }
   ],
   "source": [
    "import difflib\n",
    "from tqdm import tqdm\n",
    "\n",
    "train_df['query_with_products'] = train_df['query']\n",
    "train_df['products'] = None\n",
    "stock_names = pd.read_excel('../data/data-0520/标准名.xlsx',sheet_name='股票标准名')['标准股票名称'].to_list()\n",
    "fund_names = pd.read_excel('../data/data-0520/标准名.xlsx',sheet_name='基金标准名')['标准基金名称'].to_list()\n",
    "for index,row in tqdm(train_df.iterrows(),total=train_df.shape[0]):\n",
    "    if row['type_'] & STOCK_INQUIRY:\n",
    "        products = difflib.get_close_matches(row['query'],stock_names,n=50,cutoff=0.0001)\n",
    "        train_df.at[index,'products'] = products\n",
    "        train_df.at[index,'query_with_products'] += '\\n    query中提到的产品标准名可能是：' + '、'.join(products)\n",
    "        # print(f'index: {index}, query: {row[\"query\"]}\\nproducts: {products}\\nnew_query: {train_df.at[index,\"query_with_products\"]}')\n",
    "    if row['type_'] & FUND_INQUIRY:\n",
    "        products = difflib.get_close_matches(row['query'],fund_names,n=50,cutoff=0.0001)\n",
    "        train_df.at[index,'products'] = products\n",
    "        train_df.at[index,'query_with_products'] += '\\n    query中提到的产品标准名可能是：' + '、'.join(products)\n",
    "        # print(f'index: {index}, query: {row[\"query\"]}\\nproducts: {products}\\nnew_query: {train_df.at[index,\"query_with_products\"]}')\n",
    "\n"
   ]
  },
  {
   "cell_type": "markdown",
   "metadata": {},
   "source": [
    "C. Get Prompt for each type"
   ]
  },
  {
   "cell_type": "code",
   "execution_count": 26,
   "metadata": {},
   "outputs": [],
   "source": [
    "train_df['cot_prompt_by_category'] = train_df.apply(lambda row: prompt_map[row['type_']].replace('<QUERY>',row['query_with_products']),axis=1)"
   ]
  },
  {
   "cell_type": "markdown",
   "metadata": {},
   "source": [
    "### 2.Label"
   ]
  },
  {
   "cell_type": "code",
   "execution_count": 27,
   "metadata": {},
   "outputs": [],
   "source": [
    "train_df['cot_label_by_category'] = '<output>\\n' + train_df['cot_label'] + '\\n</output>'\n",
    "# 格式与Prompt示例统一化\n",
    "train_df.cot_label_by_category = train_df.cot_label_by_category.str.replace('\\n','\\n    ')\n",
    "train_df.cot_label_by_category = train_df.cot_label_by_category.str.replace('\\t\\t\\t','    ')\n",
    "train_df.cot_label_by_category = train_df.cot_label_by_category.str.replace('\\t\\t','')\n",
    "train_df.cot_label_by_category = train_df.cot_label_by_category.str.replace('    </output>','</output>')"
   ]
  },
  {
   "cell_type": "code",
   "execution_count": 28,
   "metadata": {},
   "outputs": [],
   "source": [
    "train_df[['query','cot_prompt_by_category','cot_label_by_category']].to_excel('../data/data4cot/cot4train_by_category.xlsx',index=False)"
   ]
  },
  {
   "cell_type": "markdown",
   "metadata": {},
   "source": [
    "### 3. 抽样观察"
   ]
  },
  {
   "cell_type": "code",
   "execution_count": null,
   "metadata": {},
   "outputs": [],
   "source": [
    "n = random.choice(train_df.index)\n",
    "print(f'第{n}条数据')\n",
    "print(train_df.iloc[n,1])\n",
    "print('========================================================================================================')\n",
    "print(train_df.iloc[n,2])"
   ]
  }
 ],
 "metadata": {
  "kernelspec": {
   "display_name": "Python 3 (ipykernel)",
   "language": "python",
   "name": "python3"
  },
  "language_info": {
   "codemirror_mode": {
    "name": "ipython",
    "version": 3
   },
   "file_extension": ".py",
   "mimetype": "text/x-python",
   "name": "python",
   "nbconvert_exporter": "python",
   "pygments_lexer": "ipython3",
   "version": "3.9.19"
  }
 },
 "nbformat": 4,
 "nbformat_minor": 4
}
