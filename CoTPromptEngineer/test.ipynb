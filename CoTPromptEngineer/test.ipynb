{
 "cells": [
  {
   "cell_type": "code",
   "execution_count": 15,
   "metadata": {},
   "outputs": [
    {
     "name": "stdout",
     "output_type": "stream",
     "text": [
      "0\n"
     ]
    }
   ],
   "source": [
    "from openai import OpenAI\n",
    "from data_process.prompt import cot_prompt\n",
    "import pandas as pd\n",
    "# import os; api_key = os.getenv('DEEPSEEK_API')\n",
    "api_key = 'sk-b75d2229e28a49dd9f4c1caf4293345c'\n",
    "\n",
    "src_file = '../data/data4cot/train_cot.csv'\n",
    "dest_file = '../data/data4cot/train_cot.xlsx'\n",
    "\n",
    "train_df = pd.read_csv(src_file)\n",
    "client = OpenAI(api_key=api_key, base_url=\"https://api.deepseek.com\")\n",
    "\n",
    "train_df['cot'] = ''\n",
    "for i,row in train_df.iterrows():\n",
    "    if i < 1300:\n",
    "        continue\n",
    "    if i%100==0:\n",
    "        print(i)\n",
    "        train_df.to_excel(dest_file, index=False)\n",
    "    query = row['query_with_products']\n",
    "    label = row['label']\n",
    "    prompt = cot_prompt.replace('<QUERY>', query).replace('<LABEL>', label)\n",
    "    messages = [{\"role\": \"user\", \"content\": prompt}]\n",
    "    response = client.chat.completions.create(model=\"deepseek-chat\", messages=messages, max_tokens=4096)   \n",
    "    train_df.loc[i,'cot'] = response.choices[0].message.content\n",
    "    # break\n",
    "train_df.to_excel(dest_file, index=False)"
   ]
  }
 ],
 "metadata": {
  "kernelspec": {
   "display_name": "pyml",
   "language": "python",
   "name": "pyml"
  },
  "language_info": {
   "codemirror_mode": {
    "name": "ipython",
    "version": 3
   },
   "file_extension": ".py",
   "mimetype": "text/x-python",
   "name": "python",
   "nbconvert_exporter": "python",
   "pygments_lexer": "ipython3",
   "version": "3.10.14"
  }
 },
 "nbformat": 4,
 "nbformat_minor": 4
}
