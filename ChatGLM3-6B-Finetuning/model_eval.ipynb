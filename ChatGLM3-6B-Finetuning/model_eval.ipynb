{
 "cells": [
  {
   "cell_type": "code",
   "execution_count": 1,
   "metadata": {},
   "outputs": [
    {
     "name": "stderr",
     "output_type": "stream",
     "text": [
      "/home/reymond/anaconda3/envs/afac2024/lib/python3.10/site-packages/tqdm/auto.py:21: TqdmWarning: IProgress not found. Please update jupyter and ipywidgets. See https://ipywidgets.readthedocs.io/en/stable/user_install.html\n",
      "  from .autonotebook import tqdm as notebook_tqdm\n"
     ]
    }
   ],
   "source": [
    "import torch\n",
    "import pandas as pd\n",
    "from transformers import AutoTokenizer, AutoModel\n",
    "from tools.standard_name_utils import optimize_parameters\n",
    "from tools.common_utils import highlight_diff, read_jsonl\n",
    "\n",
    "model_path = \"../../train-result/2024-06-19/checkpoint-5000\"\n",
    "top_p=0.7 \n",
    "temperature=0.95"
   ]
  },
  {
   "cell_type": "code",
   "execution_count": 2,
   "metadata": {},
   "outputs": [
    {
     "name": "stderr",
     "output_type": "stream",
     "text": [
      "Setting eos_token is not supported, use the default one.\n",
      "Setting pad_token is not supported, use the default one.\n",
      "Setting unk_token is not supported, use the default one.\n",
      "Loading checkpoint shards: 100%|██████████| 6/6 [11:36<00:00, 116.11s/it]\n"
     ]
    }
   ],
   "source": [
    "tokenizer = AutoTokenizer.from_pretrained(model_path, trust_remote_code=True)\n",
    "model = AutoModel.from_pretrained(model_path, trust_remote_code=True).half().cuda()\n",
    "model = model.eval()"
   ]
  },
  {
   "cell_type": "code",
   "execution_count": 3,
   "metadata": {},
   "outputs": [],
   "source": [
    "# response, history = model.chat(tokenizer, \"你好\", history=[], top_p=top_p, temperature=temperature)\n",
    "# print(response)"
   ]
  },
  {
   "cell_type": "code",
   "execution_count": 8,
   "metadata": {},
   "outputs": [
    {
     "data": {
      "text/html": [
       "<div>\n",
       "<style scoped>\n",
       "    .dataframe tbody tr th:only-of-type {\n",
       "        vertical-align: middle;\n",
       "    }\n",
       "\n",
       "    .dataframe tbody tr th {\n",
       "        vertical-align: top;\n",
       "    }\n",
       "\n",
       "    .dataframe thead th {\n",
       "        text-align: right;\n",
       "    }\n",
       "</style>\n",
       "<table border=\"1\" class=\"dataframe\">\n",
       "  <thead>\n",
       "    <tr style=\"text-align: right;\">\n",
       "      <th></th>\n",
       "      <th>conversations</th>\n",
       "    </tr>\n",
       "  </thead>\n",
       "  <tbody>\n",
       "    <tr>\n",
       "      <th>0</th>\n",
       "      <td>[{'role': 'user', 'content': '你现在是一个金融领域专家，你需要...</td>\n",
       "    </tr>\n",
       "    <tr>\n",
       "      <th>1</th>\n",
       "      <td>[{'role': 'user', 'content': '你现在是一个金融领域专家，你需要...</td>\n",
       "    </tr>\n",
       "    <tr>\n",
       "      <th>2</th>\n",
       "      <td>[{'role': 'user', 'content': '你现在是一个金融领域专家，你需要...</td>\n",
       "    </tr>\n",
       "    <tr>\n",
       "      <th>3</th>\n",
       "      <td>[{'role': 'user', 'content': '你现在是一个金融领域专家，你需要...</td>\n",
       "    </tr>\n",
       "    <tr>\n",
       "      <th>4</th>\n",
       "      <td>[{'role': 'user', 'content': '你现在是一个金融领域专家，你需要...</td>\n",
       "    </tr>\n",
       "  </tbody>\n",
       "</table>\n",
       "</div>"
      ],
      "text/plain": [
       "                                       conversations\n",
       "0  [{'role': 'user', 'content': '你现在是一个金融领域专家，你需要...\n",
       "1  [{'role': 'user', 'content': '你现在是一个金融领域专家，你需要...\n",
       "2  [{'role': 'user', 'content': '你现在是一个金融领域专家，你需要...\n",
       "3  [{'role': 'user', 'content': '你现在是一个金融领域专家，你需要...\n",
       "4  [{'role': 'user', 'content': '你现在是一个金融领域专家，你需要..."
      ]
     },
     "execution_count": 8,
     "metadata": {},
     "output_type": "execute_result"
    }
   ],
   "source": [
    "json_file_path = 'data/train_2.json'\n",
    "data_list = read_jsonl(json_file_path)\n",
    "\n",
    "df = pd.DataFrame(data_list)\n",
    "df.head()"
   ]
  },
  {
   "cell_type": "code",
   "execution_count": 10,
   "metadata": {},
   "outputs": [
    {
     "data": {
      "text/plain": [
       "(4460, 1)"
      ]
     },
     "execution_count": 10,
     "metadata": {},
     "output_type": "execute_result"
    }
   ],
   "source": [
    "df.shape"
   ]
  },
  {
   "cell_type": "code",
   "execution_count": 12,
   "metadata": {},
   "outputs": [
    {
     "ename": "TypeError",
     "evalue": "'module' object is not callable",
     "output_type": "error",
     "traceback": [
      "\u001b[0;31m---------------------------------------------------------------------------\u001b[0m",
      "\u001b[0;31mTypeError\u001b[0m                                 Traceback (most recent call last)",
      "Cell \u001b[0;32mIn[12], line 9\u001b[0m\n\u001b[1;32m      5\u001b[0m correct_count \u001b[38;5;241m=\u001b[39m \u001b[38;5;241m0.0\u001b[39m\n\u001b[1;32m      7\u001b[0m result_arr \u001b[38;5;241m=\u001b[39m []\n\u001b[0;32m----> 9\u001b[0m \u001b[38;5;28;01mfor\u001b[39;00m index, row \u001b[38;5;129;01min\u001b[39;00m \u001b[43mtqdm\u001b[49m\u001b[43m(\u001b[49m\u001b[43mdf\u001b[49m\u001b[38;5;241;43m.\u001b[39;49m\u001b[43miterrows\u001b[49m\u001b[43m(\u001b[49m\u001b[43m)\u001b[49m\u001b[43m,\u001b[49m\u001b[43mtotal\u001b[49m\u001b[38;5;241;43m=\u001b[39;49m\u001b[43mdf\u001b[49m\u001b[38;5;241;43m.\u001b[39;49m\u001b[43mshape\u001b[49m\u001b[43m[\u001b[49m\u001b[38;5;241;43m0\u001b[39;49m\u001b[43m]\u001b[49m\u001b[43m)\u001b[49m:    \n\u001b[1;32m     10\u001b[0m     single_user_row \u001b[38;5;241m=\u001b[39m row[\u001b[38;5;124m\"\u001b[39m\u001b[38;5;124mconversations\u001b[39m\u001b[38;5;124m\"\u001b[39m][\u001b[38;5;241m0\u001b[39m]\n\u001b[1;32m     11\u001b[0m     single_assis_row \u001b[38;5;241m=\u001b[39m row[\u001b[38;5;124m\"\u001b[39m\u001b[38;5;124mconversations\u001b[39m\u001b[38;5;124m\"\u001b[39m][\u001b[38;5;241m1\u001b[39m]\n",
      "\u001b[0;31mTypeError\u001b[0m: 'module' object is not callable"
     ]
    }
   ],
   "source": [
    "total_eval_count = 0.0\n",
    "correct_count = 0.0\n",
    "\n",
    "result_arr = []\n",
    "\n",
    "for index, row in df.iterrows():    \n",
    "    single_user_row = row[\"conversations\"][0]\n",
    "    single_assis_row = row[\"conversations\"][1]\n",
    "    \n",
    "    input = single_user_row[\"content\"]\n",
    "    output = single_assis_row[\"content\"]\n",
    "    \n",
    "    response, history = model.chat(tokenizer=tokenizer, query=input, history=[], top_p=top_p, temperature=temperature)\n",
    "    \n",
    "    # optimized_resp = optimize_parameters(response, fund_standard_name, stock_standard_name)\n",
    "    \n",
    "    total_eval_count += 1\n",
    "    \n",
    "    result_data = {}\n",
    "    result_data[\"query\"] = input\n",
    "    result_data[\"label\"] = output\n",
    "    result_data[\"predict\"] = response\n",
    "    result_arr.append(result_data)\n",
    "    \n",
    "    # if response == output:\n",
    "    #     correct_count += 1\n",
    "    # else:\n",
    "    #     print(\"发现一条错误数据，index：\" + f\"{index}\")\n",
    "    #     err_data = {}\n",
    "    #     err_data[\"query\"] = input\n",
    "    #     err_data[\"label\"] = output\n",
    "    #     err_data[\"predict\"] = response\n",
    "    #     result_arr.append(err_data)\n",
    "        # print(\"-----data index-----\")\n",
    "        # print(index)\n",
    "        # print(\"-----query input-----\")\n",
    "        # print(input)\n",
    "        # print(\"-----output diff-----\")\n",
    "        # print(highlight_diff(output, response))\n",
    "        # print(response)\n",
    "        # print()\n",
    "    \n",
    "    if total_eval_count % 10 == 0:\n",
    "        print(\"现在是第\" + f\"{total_eval_count}\" + \"条数据\")\n",
    "    \n",
    "# print(\"预测正确的比例：\" + f\"{correct_count / total_eval_count :.2%}\")"
   ]
  },
  {
   "cell_type": "code",
   "execution_count": 6,
   "metadata": {},
   "outputs": [
    {
     "data": {
      "text/html": [
       "<div>\n",
       "<style scoped>\n",
       "    .dataframe tbody tr th:only-of-type {\n",
       "        vertical-align: middle;\n",
       "    }\n",
       "\n",
       "    .dataframe tbody tr th {\n",
       "        vertical-align: top;\n",
       "    }\n",
       "\n",
       "    .dataframe thead th {\n",
       "        text-align: right;\n",
       "    }\n",
       "</style>\n",
       "<table border=\"1\" class=\"dataframe\">\n",
       "  <thead>\n",
       "    <tr style=\"text-align: right;\">\n",
       "      <th></th>\n",
       "      <th>query</th>\n",
       "      <th>label</th>\n",
       "      <th>predict</th>\n",
       "    </tr>\n",
       "  </thead>\n",
       "  <tbody>\n",
       "    <tr>\n",
       "      <th>0</th>\n",
       "      <td>你现在是一个金融领域专家，你需要通过编排api来得到用户query的答案，输出json格式。...</td>\n",
       "      <td>{\"relevant APIs\": [{\"api_id\": \"0\", \"api_name\":...</td>\n",
       "      <td>{\"relevant APIs\": [{\"api_id\": \"0\", \"api_name\":...</td>\n",
       "    </tr>\n",
       "    <tr>\n",
       "      <th>1</th>\n",
       "      <td>你现在是一个金融领域专家，你需要通过编排api来得到用户query的答案，输出json格式。...</td>\n",
       "      <td>{\"relevant APIs\": [{\"api_id\": \"0\", \"api_name\":...</td>\n",
       "      <td>{\"relevant APIs\": [{\"api_id\": \"0\", \"api_name\":...</td>\n",
       "    </tr>\n",
       "    <tr>\n",
       "      <th>2</th>\n",
       "      <td>你现在是一个金融领域专家，你需要通过编排api来得到用户query的答案，输出json格式。...</td>\n",
       "      <td>{\"relevant APIs\": [{\"api_id\": \"0\", \"api_name\":...</td>\n",
       "      <td>{\"relevant APIs\": [{\"api_id\": \"0\", \"api_name\":...</td>\n",
       "    </tr>\n",
       "    <tr>\n",
       "      <th>3</th>\n",
       "      <td>你现在是一个金融领域专家，你需要通过编排api来得到用户query的答案，输出json格式。...</td>\n",
       "      <td>{\"relevant APIs\": [{\"api_id\": \"0\", \"tool_name\"...</td>\n",
       "      <td>{\"relevant APIs\": [{\"api_id\": \"0\", \"tool_name\"...</td>\n",
       "    </tr>\n",
       "    <tr>\n",
       "      <th>4</th>\n",
       "      <td>你现在是一个金融领域专家，你需要通过编排api来得到用户query的答案，输出json格式。...</td>\n",
       "      <td>{\"relevant APIs\": [{\"api_id\": \"0\", \"tool_name\"...</td>\n",
       "      <td>{\"relevant APIs\": [{\"api_id\": \"0\", \"tool_name\"...</td>\n",
       "    </tr>\n",
       "  </tbody>\n",
       "</table>\n",
       "</div>"
      ],
      "text/plain": [
       "                                               query  \\\n",
       "0  你现在是一个金融领域专家，你需要通过编排api来得到用户query的答案，输出json格式。...   \n",
       "1  你现在是一个金融领域专家，你需要通过编排api来得到用户query的答案，输出json格式。...   \n",
       "2  你现在是一个金融领域专家，你需要通过编排api来得到用户query的答案，输出json格式。...   \n",
       "3  你现在是一个金融领域专家，你需要通过编排api来得到用户query的答案，输出json格式。...   \n",
       "4  你现在是一个金融领域专家，你需要通过编排api来得到用户query的答案，输出json格式。...   \n",
       "\n",
       "                                               label  \\\n",
       "0  {\"relevant APIs\": [{\"api_id\": \"0\", \"api_name\":...   \n",
       "1  {\"relevant APIs\": [{\"api_id\": \"0\", \"api_name\":...   \n",
       "2  {\"relevant APIs\": [{\"api_id\": \"0\", \"api_name\":...   \n",
       "3  {\"relevant APIs\": [{\"api_id\": \"0\", \"tool_name\"...   \n",
       "4  {\"relevant APIs\": [{\"api_id\": \"0\", \"tool_name\"...   \n",
       "\n",
       "                                             predict  \n",
       "0  {\"relevant APIs\": [{\"api_id\": \"0\", \"api_name\":...  \n",
       "1  {\"relevant APIs\": [{\"api_id\": \"0\", \"api_name\":...  \n",
       "2  {\"relevant APIs\": [{\"api_id\": \"0\", \"api_name\":...  \n",
       "3  {\"relevant APIs\": [{\"api_id\": \"0\", \"tool_name\"...  \n",
       "4  {\"relevant APIs\": [{\"api_id\": \"0\", \"tool_name\"...  "
      ]
     },
     "execution_count": 6,
     "metadata": {},
     "output_type": "execute_result"
    }
   ],
   "source": [
    "result_df = pd.DataFrame(result_arr)\n",
    "result_df.head(5)"
   ]
  },
  {
   "cell_type": "code",
   "execution_count": 7,
   "metadata": {},
   "outputs": [],
   "source": [
    "result_df.to_csv(\"./data/train_result_1.csv\")"
   ]
  },
  {
   "cell_type": "code",
   "execution_count": null,
   "metadata": {},
   "outputs": [],
   "source": [
    "# train_err_df_1 = pd.read_csv(\"./data/train_err_1.csv\")\n",
    "# train_err_df_2 = pd.read_csv(\"./data/train_err_2.csv\")\n",
    "# train_err_df_3 = pd.read_csv(\"./data/train_err_3.csv\")\n",
    "# train_err_df_4 = pd.read_csv(\"./data/train_err_4.csv\")\n",
    "# train_err_df_5 = pd.read_csv(\"./data/train_err_5.csv\")\n",
    "# train_err_df_6 = pd.read_csv(\"./data/train_err_6.csv\")\n",
    "# train_err_df_7 = pd.read_csv(\"./data/train_err_7.csv\")\n",
    "# train_err_df_8 = pd.read_csv(\"./data/train_err_8.csv\")\n",
    "# train_err_df_9 = pd.read_csv(\"./data/train_err_9.csv\")\n",
    "# train_err_df_10 = pd.read_csv(\"./data/train_err_10.csv\")\n",
    "\n",
    "# train_err_df = pd.concat([\n",
    "#     train_err_df_1, \n",
    "#     train_err_df_2, \n",
    "#     train_err_df_3, \n",
    "#     train_err_df_4, \n",
    "#     train_err_df_5, \n",
    "#     train_err_df_6, \n",
    "#     train_err_df_7, \n",
    "#     train_err_df_8, \n",
    "#     train_err_df_9, \n",
    "#     train_err_df_10])"
   ]
  },
  {
   "cell_type": "code",
   "execution_count": null,
   "metadata": {},
   "outputs": [],
   "source": [
    "# train_err_df.head()"
   ]
  },
  {
   "cell_type": "code",
   "execution_count": null,
   "metadata": {},
   "outputs": [],
   "source": [
    "# train_err_df.to_csv(\"./data/train_err.csv\")"
   ]
  }
 ],
 "metadata": {
  "kernelspec": {
   "display_name": "afac2024",
   "language": "python",
   "name": "python3"
  },
  "language_info": {
   "codemirror_mode": {
    "name": "ipython",
    "version": 3
   },
   "file_extension": ".py",
   "mimetype": "text/x-python",
   "name": "python",
   "nbconvert_exporter": "python",
   "pygments_lexer": "ipython3",
   "version": "3.10.14"
  }
 },
 "nbformat": 4,
 "nbformat_minor": 2
}
