{
 "cells": [
  {
   "cell_type": "code",
   "execution_count": null,
   "metadata": {},
   "outputs": [],
   "source": [
    "from pathlib import Path\n",
    "from typing import Annotated, Union\n",
    "\n",
    "import typer\n",
    "from peft import AutoPeftModelForCausalLM, PeftModelForCausalLM\n",
    "from transformers import (\n",
    "    AutoModelForCausalLM,\n",
    "    AutoTokenizer,\n",
    "    PreTrainedModel,\n",
    "    PreTrainedTokenizer,\n",
    "    PreTrainedTokenizerFast,\n",
    ")"
   ]
  },
  {
   "cell_type": "code",
   "execution_count": null,
   "metadata": {},
   "outputs": [],
   "source": [
    "ModelType = Union[PreTrainedModel, PeftModelForCausalLM]\n",
    "TokenizerType = Union[PreTrainedTokenizer, PreTrainedTokenizerFast]\n",
    "\n",
    "def _resolve_path(path: Union[str, Path]) -> Path:\n",
    "    return Path(path).expanduser().resolve()\n",
    "\n",
    "\n",
    "def load_model_and_tokenizer(model_dir: Union[str, Path]) -> tuple[ModelType, TokenizerType]:\n",
    "    model_dir = _resolve_path(model_dir)\n",
    "    if (model_dir / 'adapter_config.json').exists():\n",
    "        model = AutoPeftModelForCausalLM.from_pretrained(\n",
    "            model_dir, trust_remote_code=True, device_map='auto'\n",
    "        )\n",
    "        tokenizer_dir = model.peft_config['default'].base_model_name_or_path\n",
    "    else:\n",
    "        model = AutoModelForCausalLM.from_pretrained(\n",
    "            model_dir, trust_remote_code=True, device_map='auto'\n",
    "        )\n",
    "        tokenizer_dir = model_dir\n",
    "    tokenizer = AutoTokenizer.from_pretrained(\n",
    "        tokenizer_dir, trust_remote_code=True\n",
    "    )\n",
    "    return model, tokenizer"
   ]
  },
  {
   "cell_type": "code",
   "execution_count": null,
   "metadata": {},
   "outputs": [],
   "source": [
    "model_dir = \"output/checkpoint-1000\"\n",
    "\n",
    "model, tokenizer = load_model_and_tokenizer(model_dir)"
   ]
  },
  {
   "cell_type": "code",
   "execution_count": null,
   "metadata": {},
   "outputs": [],
   "source": [
    "import pandas as pd\n",
    "from tools.common_utils import highlight_diff, read_jsonl\n",
    "\n",
    "json_file_path = 'data/train_err.json'\n",
    "data_list = read_jsonl(json_file_path)\n",
    "\n",
    "df = pd.DataFrame(data_list)\n",
    "df.head()"
   ]
  },
  {
   "cell_type": "code",
   "execution_count": null,
   "metadata": {},
   "outputs": [],
   "source": [
    "from tools.standard_name_utils import get_standard_api, optimize_api_chain, optimize_parameters\n",
    "\n",
    "standard_api = get_standard_api(\"./data/api_定义.json\")\n",
    "\n",
    "data_stock = pd.read_excel('./raw_data/标准名.xlsx',sheet_name='股票标准名')\n",
    "data_fund = pd.read_excel('./raw_data/标准名.xlsx',sheet_name='基金标准名')\n",
    "fund_standard_name = data_stock['标准股票名称'].to_list()\n",
    "stock_standard_name = data_fund['标准基金名称'].to_list()"
   ]
  },
  {
   "cell_type": "code",
   "execution_count": null,
   "metadata": {},
   "outputs": [],
   "source": [
    "print(standard_api[:5])\n",
    "print(fund_standard_name[:5])\n",
    "print(stock_standard_name[:5])"
   ]
  },
  {
   "cell_type": "code",
   "execution_count": null,
   "metadata": {},
   "outputs": [],
   "source": [
    "from random import random\n",
    "\n",
    "top_p=0.7 \n",
    "temperature=0.95\n",
    "\n",
    "total_eval_count = 0.0\n",
    "correct_count = 0.0\n",
    "\n",
    "for index, row in df.iterrows():\n",
    "    if random() <= 0.9:\n",
    "        continue\n",
    "    \n",
    "    single_user_row = row[\"conversations\"][0]\n",
    "    single_assis_row = row[\"conversations\"][1]\n",
    "    \n",
    "    input = single_user_row[\"content\"]\n",
    "    output = single_assis_row[\"content\"]\n",
    "    \n",
    "    \n",
    "    response, history = model.chat(tokenizer=tokenizer, query=input, history=[], top_p=top_p, temperature=temperature)\n",
    "    \n",
    "    # optimized_resp = optimize_api_chain(response, standard_api)\n",
    "    # optimized_resp = optimize_parameters(response, fund_standard_name, stock_standard_name)\n",
    "    optimized_resp = response\n",
    "    \n",
    "    total_eval_count += 1\n",
    "    if optimized_resp == output:\n",
    "        correct_count += 1\n",
    "    else:\n",
    "        print(\"-----data index-----\")\n",
    "        print(index)\n",
    "        print(\"-----query input-----\")\n",
    "        print(input)\n",
    "        print(\"-----output diff-----\")\n",
    "        print(highlight_diff(output, optimized_resp))\n",
    "        print(optimized_resp)\n",
    "        print()\n",
    "    \n",
    "    if total_eval_count == 20:\n",
    "        break\n",
    "    \n",
    "print(\"预测正确的比例：\" + f\"{correct_count / total_eval_count :.2%}\")"
   ]
  },
  {
   "cell_type": "markdown",
   "metadata": {},
   "source": [
    "#### 输出新的提交文件"
   ]
  },
  {
   "cell_type": "code",
   "execution_count": 8,
   "metadata": {},
   "outputs": [
    {
     "data": {
      "text/html": [
       "<div>\n",
       "<style scoped>\n",
       "    .dataframe tbody tr th:only-of-type {\n",
       "        vertical-align: middle;\n",
       "    }\n",
       "\n",
       "    .dataframe tbody tr th {\n",
       "        vertical-align: top;\n",
       "    }\n",
       "\n",
       "    .dataframe thead th {\n",
       "        text-align: right;\n",
       "    }\n",
       "</style>\n",
       "<table border=\"1\" class=\"dataframe\">\n",
       "  <thead>\n",
       "    <tr style=\"text-align: right;\">\n",
       "      <th></th>\n",
       "      <th>conversations</th>\n",
       "    </tr>\n",
       "  </thead>\n",
       "  <tbody>\n",
       "    <tr>\n",
       "      <th>0</th>\n",
       "      <td>[{'role': 'user', 'content': '你现在是一个金融领域专家，你需要...</td>\n",
       "    </tr>\n",
       "    <tr>\n",
       "      <th>1</th>\n",
       "      <td>[{'role': 'user', 'content': '你现在是一个金融领域专家，你需要...</td>\n",
       "    </tr>\n",
       "    <tr>\n",
       "      <th>2</th>\n",
       "      <td>[{'role': 'user', 'content': '你现在是一个金融领域专家，你需要...</td>\n",
       "    </tr>\n",
       "    <tr>\n",
       "      <th>3</th>\n",
       "      <td>[{'role': 'user', 'content': '你现在是一个金融领域专家，你需要...</td>\n",
       "    </tr>\n",
       "    <tr>\n",
       "      <th>4</th>\n",
       "      <td>[{'role': 'user', 'content': '你现在是一个金融领域专家，你需要...</td>\n",
       "    </tr>\n",
       "  </tbody>\n",
       "</table>\n",
       "</div>"
      ],
      "text/plain": [
       "                                       conversations\n",
       "0  [{'role': 'user', 'content': '你现在是一个金融领域专家，你需要...\n",
       "1  [{'role': 'user', 'content': '你现在是一个金融领域专家，你需要...\n",
       "2  [{'role': 'user', 'content': '你现在是一个金融领域专家，你需要...\n",
       "3  [{'role': 'user', 'content': '你现在是一个金融领域专家，你需要...\n",
       "4  [{'role': 'user', 'content': '你现在是一个金融领域专家，你需要..."
      ]
     },
     "execution_count": 8,
     "metadata": {},
     "output_type": "execute_result"
    }
   ],
   "source": [
    "test_json_file_path = 'data/test_a.json'\n",
    "test_data_list = read_jsonl(test_json_file_path)\n",
    "\n",
    "test_df = pd.DataFrame(test_data_list)\n",
    "test_df.head()"
   ]
  },
  {
   "cell_type": "code",
   "execution_count": null,
   "metadata": {},
   "outputs": [],
   "source": [
    "total_eval_count = 0\n",
    "\n",
    "with open('data/submit.txt','w', encoding=\"utf-8\") as n:\n",
    "    for index, row in test_df.iterrows():    \n",
    "        single_user_row = row[\"conversations\"][0]\n",
    "        single_assis_row = row[\"conversations\"][1]\n",
    "    \n",
    "        input = single_user_row[\"content\"]\n",
    "        output = single_assis_row[\"content\"]\n",
    "        \n",
    "        response, history = model.chat(tokenizer=tokenizer, query=input, history=[], top_p=top_p, temperature=temperature)\n",
    "        \n",
    "        optimized_resp = optimize_parameters(response, fund_standard_name, stock_standard_name)\n",
    "        \n",
    "        total_eval_count += 1\n",
    "        n.write(optimized_resp+'\\n')\n",
    "        if total_eval_count % 10 == 0:\n",
    "            print(\"现在是第\" + f\"{total_eval_count}\" + \"条数据\")"
   ]
  }
 ],
 "metadata": {
  "kernelspec": {
   "display_name": "afac2024",
   "language": "python",
   "name": "python3"
  },
  "language_info": {
   "codemirror_mode": {
    "name": "ipython",
    "version": 3
   },
   "file_extension": ".py",
   "mimetype": "text/x-python",
   "name": "python",
   "nbconvert_exporter": "python",
   "pygments_lexer": "ipython3",
   "version": "3.10.14"
  }
 },
 "nbformat": 4,
 "nbformat_minor": 2
}
