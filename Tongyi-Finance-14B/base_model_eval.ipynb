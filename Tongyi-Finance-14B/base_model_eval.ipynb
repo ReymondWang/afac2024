{
 "cells": [
  {
   "cell_type": "code",
   "execution_count": 1,
   "metadata": {},
   "outputs": [
    {
     "name": "stderr",
     "output_type": "stream",
     "text": [
      "2024-06-25 23:12:23,178 - modelscope - INFO - PyTorch version 2.0.1 Found.\n",
      "2024-06-25 23:12:23,190 - modelscope - INFO - Loading ast index from /home/reymond/.cache/modelscope/ast_indexer\n",
      "2024-06-25 23:12:23,348 - modelscope - INFO - Loading done! Current index file version is 1.12.0, with md5 6945ff3254923b9dba42c58c1812e5f2 and a total number of 964 components indexed\n",
      "/home/reymond/anaconda3/envs/modelscope/lib/python3.9/site-packages/tqdm/auto.py:21: TqdmWarning: IProgress not found. Please update jupyter and ipywidgets. See https://ipywidgets.readthedocs.io/en/stable/user_install.html\n",
      "  from .autonotebook import tqdm as notebook_tqdm\n",
      "/home/reymond/anaconda3/envs/modelscope/lib/python3.9/site-packages/torch/_utils.py:776: UserWarning: TypedStorage is deprecated. It will be removed in the future and UntypedStorage will be the only storage class. This should only matter to you if you are using storages directly.  To access UntypedStorage directly, use tensor.untyped_storage() instead of tensor.storage()\n",
      "  return self.fget.__get__(instance, owner)()\n",
      "Warning: please make sure that you are using the latest codes and checkpoints, especially if you used Qwen-7B before 09.25.2023.请使用最新模型和代码，尤其如果你在9月25日前已经开始使用Qwen-7B，千万注意不要使用错误代码和模型。\n",
      "WARNING:root:Some parameters are on the meta device device because they were offloaded to the cpu.\n"
     ]
    }
   ],
   "source": [
    "from modelscope import AutoModelForCausalLM, AutoTokenizer\n",
    "from modelscope import GenerationConfig\n",
    "\n",
    "model_dir = \"../../../Model/Tongyi-Finance-14B\"\n",
    "\n",
    "tokenizer = AutoTokenizer.from_pretrained(model_dir, trust_remote_code=True)\n",
    "model = AutoModelForCausalLM.from_pretrained(model_dir, device_map=\"auto\", trust_remote_code=True).eval()\n",
    "model.generation_config = GenerationConfig.from_pretrained(model_dir, trust_remote_code=True)"
   ]
  },
  {
   "cell_type": "code",
   "execution_count": 2,
   "metadata": {},
   "outputs": [
    {
     "name": "stdout",
     "output_type": "stream",
     "text": [
      "市盈率是最常用来评估股价水平是否合理的指标之一，是指股票价格除以每股盈利的比率，也是股票每股市价与每股盈利的比率。一般来说，如果一家公司的股票市盈率过高，那么该股票的价格可能有泡沫，价值被高估；而如果一家公司股票的市盈率过低，那么该公司的股票可能没有被市场发现，价值低估。 通常用来评估股价水平是否合理的指标之一，也是股市最常用的参考指标之一。计算方法是该公司股价与每股盈利的比率。例如某公司，其股票每股收益是1元，股票的市场价格为20元，则其市盈率为20/1=20倍。20倍市盈率意味着投资者通过购买该公司股票以目前的价格水平需要20年时间才能通过公司的盈利将最初的投资收回。市盈率越高，收回本金的时间就越长。但在评估市盈率时，应更多地结合公司未来盈利的预期增长。一般来说，盈利较好的公司市盈率高于每股收益低的公司，而没有盈利的公司市盈率反而为负。市盈率指标的合理运用，能帮助投资者较好地评估一只股票的价值。 注意：计算市盈率时，净利润是用全年净利润除以全年股本。市盈率指在一个考察期（通常为12个月的时间）内，股票的价格和每股收益的比例。投资者通常利用该比例值估量某股票的投资价值，或者用该指标在不同公司的股票之间进行比较。计算方法是：市盈率=普通股每股市场价格÷普通股每年每股盈利。  在评估股票是否值得购买时，投资者还应考虑以下几点： （1）市盈率高，通常表明市场对公司的增长前景较为看好，愿意给公司较高估值。 （2）市盈率高，表明投资回收期较长，市场风险较大，一般会被认为存在泡沫。市盈率低，表明投资回收期较短，市场风险较小，一般被认为股票价值被低估。在泡沫产生时，PE会迅速上升。而在泡沫破灭时，则会骤然下降。 （3）周期性行业适合用市盈率做对比分析。非周期性行业可以用市盈率对比分析，但其说服力往往不够强。 以钢铁行业为例，平均市盈率水平为10倍左右。而以民生银行为例子，市盈率水平为7倍左右。民生银行则更具投资价值。\n"
     ]
    }
   ],
   "source": [
    "inputs = tokenizer('市盈率是最常用来评估股价水平是否合理的指标之一，是指', return_tensors='pt')\n",
    "inputs = inputs.to(model.device)\n",
    "pred = model.generate(**inputs)\n",
    "print(tokenizer.decode(pred.cpu()[0], skip_special_tokens=True))"
   ]
  }
 ],
 "metadata": {
  "kernelspec": {
   "display_name": "modelscope",
   "language": "python",
   "name": "python3"
  },
  "language_info": {
   "codemirror_mode": {
    "name": "ipython",
    "version": 3
   },
   "file_extension": ".py",
   "mimetype": "text/x-python",
   "name": "python",
   "nbconvert_exporter": "python",
   "pygments_lexer": "ipython3",
   "version": "3.9.undefined"
  }
 },
 "nbformat": 4,
 "nbformat_minor": 2
}
