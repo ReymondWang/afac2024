{
 "cells": [
  {
   "cell_type": "code",
   "execution_count": 1,
   "metadata": {},
   "outputs": [
    {
     "name": "stderr",
     "output_type": "stream",
     "text": [
      "/home/reymond/anaconda3/envs/afac2024/lib/python3.10/site-packages/tqdm/auto.py:21: TqdmWarning: IProgress not found. Please update jupyter and ipywidgets. See https://ipywidgets.readthedocs.io/en/stable/user_install.html\n",
      "  from .autonotebook import tqdm as notebook_tqdm\n"
     ]
    }
   ],
   "source": [
    "import torch\n",
    "import pandas as pd\n",
    "from transformers import AutoTokenizer, AutoModel\n",
    "from tools.standard_name_utils import optimize_parameters\n",
    "from tools.common_utils import highlight_diff, read_jsonl\n",
    "\n",
    "# model_path = \"../ChatGLM2-6B/ptuning/output/checkpoint-100\"\n",
    "model_path = \"../../train-result/2024-06-17/checkpoint-500\"\n",
    "top_p=0.7 \n",
    "temperature=0.95"
   ]
  },
  {
   "cell_type": "code",
   "execution_count": 2,
   "metadata": {},
   "outputs": [
    {
     "name": "stderr",
     "output_type": "stream",
     "text": [
      "Setting eos_token is not supported, use the default one.\n",
      "Setting pad_token is not supported, use the default one.\n",
      "Setting unk_token is not supported, use the default one.\n",
      "Loading checkpoint shards: 100%|██████████| 6/6 [01:46<00:00, 17.80s/it]\n"
     ]
    }
   ],
   "source": [
    "tokenizer = AutoTokenizer.from_pretrained(model_path, trust_remote_code=True)\n",
    "model = AutoModel.from_pretrained(model_path, trust_remote_code=True).half().cuda()\n",
    "model = model.eval()"
   ]
  },
  {
   "cell_type": "code",
   "execution_count": 3,
   "metadata": {},
   "outputs": [
    {
     "name": "stderr",
     "output_type": "stream",
     "text": [
      "Both `max_new_tokens` (=1024) and `max_length`(=8192) seem to have been set. `max_new_tokens` will take precedence. Please refer to the documentation for more information. (https://huggingface.co/docs/transformers/main/en/main_classes/text_generation)\n"
     ]
    },
    {
     "name": "stdout",
     "output_type": "stream",
     "text": [
      "你好👋！我是人工智能助手 ChatGLM3-6B，很高兴见到你，欢迎问我任何问题。\n"
     ]
    }
   ],
   "source": [
    "response, history = model.chat(tokenizer, \"你好\", history=[], top_p=top_p, temperature=temperature)\n",
    "print(response)"
   ]
  },
  {
   "cell_type": "markdown",
   "metadata": {},
   "source": [
    "### 评估一下训练数据的情况"
   ]
  },
  {
   "cell_type": "code",
   "execution_count": null,
   "metadata": {},
   "outputs": [],
   "source": [
    "json_file_path = 'data/train.json'\n",
    "data_list = read_jsonl(json_file_path)\n",
    "\n",
    "df = pd.DataFrame(data_list)\n",
    "df.head()"
   ]
  },
  {
   "cell_type": "code",
   "execution_count": null,
   "metadata": {},
   "outputs": [],
   "source": [
    "from random import random\n",
    "\n",
    "total_eval_count = 0.0\n",
    "correct_count = 0.0\n",
    "\n",
    "for index, row in df.iterrows():\n",
    "    if random() <= 0.9:\n",
    "        continue\n",
    "    \n",
    "    input = row[\"input\"]\n",
    "    output = row[\"output\"]\n",
    "    response, history = model.chat(tokenizer=tokenizer, query=input, history=[], top_p=top_p, temperature=temperature)\n",
    "    \n",
    "    total_eval_count += 1\n",
    "    if response == output:\n",
    "        correct_count += 1\n",
    "    else:\n",
    "        print(\"-----data index-----\")\n",
    "        print(index)\n",
    "        print(\"-----query input-----\")\n",
    "        print(input)\n",
    "        print(\"-----output diff-----\")\n",
    "        print(highlight_diff(output, response))\n",
    "        print(response)\n",
    "        print()\n",
    "    \n",
    "    if total_eval_count == 100:\n",
    "        break\n",
    "    \n",
    "print(\"预测正确的比例：\" + f\"{correct_count / total_eval_count :.2%}\")"
   ]
  },
  {
   "cell_type": "code",
   "execution_count": 4,
   "metadata": {},
   "outputs": [
    {
     "data": {
      "text/html": [
       "<div>\n",
       "<style scoped>\n",
       "    .dataframe tbody tr th:only-of-type {\n",
       "        vertical-align: middle;\n",
       "    }\n",
       "\n",
       "    .dataframe tbody tr th {\n",
       "        vertical-align: top;\n",
       "    }\n",
       "\n",
       "    .dataframe thead th {\n",
       "        text-align: right;\n",
       "    }\n",
       "</style>\n",
       "<table border=\"1\" class=\"dataframe\">\n",
       "  <thead>\n",
       "    <tr style=\"text-align: right;\">\n",
       "      <th></th>\n",
       "      <th>input</th>\n",
       "      <th>output</th>\n",
       "    </tr>\n",
       "  </thead>\n",
       "  <tbody>\n",
       "    <tr>\n",
       "      <th>0</th>\n",
       "      <td>你现在是一个金融领域专家，你需要通过编排api来得到用户query的答案，输出json格式。...</td>\n",
       "      <td>{\"relevant APIs\": [{\"api_id\": \"0\", \"api_name\":...</td>\n",
       "    </tr>\n",
       "    <tr>\n",
       "      <th>1</th>\n",
       "      <td>你现在是一个金融领域专家，你需要通过编排api来得到用户query的答案，输出json格式。...</td>\n",
       "      <td>{\"relevant APIs\": [{\"api_id\": \"0\", \"api_name\":...</td>\n",
       "    </tr>\n",
       "    <tr>\n",
       "      <th>2</th>\n",
       "      <td>你现在是一个金融领域专家，你需要通过编排api来得到用户query的答案，输出json格式。...</td>\n",
       "      <td>{\"relevant APIs\": [{\"api_id\": \"0\", \"api_name\":...</td>\n",
       "    </tr>\n",
       "    <tr>\n",
       "      <th>3</th>\n",
       "      <td>你现在是一个金融领域专家，你需要通过编排api来得到用户query的答案，输出json格式。...</td>\n",
       "      <td>{\"relevant APIs\": [{\"api_id\": \"0\", \"api_name\":...</td>\n",
       "    </tr>\n",
       "    <tr>\n",
       "      <th>4</th>\n",
       "      <td>你现在是一个金融领域专家，你需要通过编排api来得到用户query的答案，输出json格式。...</td>\n",
       "      <td>{\"relevant APIs\": [{\"api_id\": \"0\", \"api_name\":...</td>\n",
       "    </tr>\n",
       "  </tbody>\n",
       "</table>\n",
       "</div>"
      ],
      "text/plain": [
       "                                               input  \\\n",
       "0  你现在是一个金融领域专家，你需要通过编排api来得到用户query的答案，输出json格式。...   \n",
       "1  你现在是一个金融领域专家，你需要通过编排api来得到用户query的答案，输出json格式。...   \n",
       "2  你现在是一个金融领域专家，你需要通过编排api来得到用户query的答案，输出json格式。...   \n",
       "3  你现在是一个金融领域专家，你需要通过编排api来得到用户query的答案，输出json格式。...   \n",
       "4  你现在是一个金融领域专家，你需要通过编排api来得到用户query的答案，输出json格式。...   \n",
       "\n",
       "                                              output  \n",
       "0  {\"relevant APIs\": [{\"api_id\": \"0\", \"api_name\":...  \n",
       "1  {\"relevant APIs\": [{\"api_id\": \"0\", \"api_name\":...  \n",
       "2  {\"relevant APIs\": [{\"api_id\": \"0\", \"api_name\":...  \n",
       "3  {\"relevant APIs\": [{\"api_id\": \"0\", \"api_name\":...  \n",
       "4  {\"relevant APIs\": [{\"api_id\": \"0\", \"api_name\":...  "
      ]
     },
     "execution_count": 4,
     "metadata": {},
     "output_type": "execute_result"
    }
   ],
   "source": [
    "json_file_path = 'data/dev.json'\n",
    "data_list = read_jsonl(json_file_path)\n",
    "\n",
    "df = pd.DataFrame(data_list)\n",
    "df.head()"
   ]
  },
  {
   "cell_type": "code",
   "execution_count": 5,
   "metadata": {},
   "outputs": [],
   "source": [
    "data_stock = pd.read_excel('data/标准名.xlsx',sheet_name='股票标准名')\n",
    "data_fund = pd.read_excel('data/标准名.xlsx',sheet_name='基金标准名')\n",
    "\n",
    "fund_standard_name = data_fund['标准基金名称'].to_list()\n",
    "stock_standard_name = data_stock['标准股票名称'].to_list()"
   ]
  },
  {
   "cell_type": "code",
   "execution_count": null,
   "metadata": {},
   "outputs": [],
   "source": [
    "stock_standard_name[:5]"
   ]
  },
  {
   "cell_type": "code",
   "execution_count": 7,
   "metadata": {},
   "outputs": [
    {
     "name": "stderr",
     "output_type": "stream",
     "text": [
      "Both `max_new_tokens` (=1024) and `max_length`(=8192) seem to have been set. `max_new_tokens` will take precedence. Please refer to the documentation for more information. (https://huggingface.co/docs/transformers/main/en/main_classes/text_generation)\n",
      "Both `max_new_tokens` (=1024) and `max_length`(=8192) seem to have been set. `max_new_tokens` will take precedence. Please refer to the documentation for more information. (https://huggingface.co/docs/transformers/main/en/main_classes/text_generation)\n"
     ]
    },
    {
     "name": "stdout",
     "output_type": "stream",
     "text": [
      "-----data index-----\n",
      "5\n",
      "-----query input-----\n",
      "你现在是一个金融领域专家，你需要通过编排api来得到用户query的答案，输出json格式。query是：昨天成交量是70万8300股，而上个月最低价是5.71元的股票有哪些？ \n",
      " query中提到的产品标准名可能是：兴全中证800六个月持有期指数增强型证券投资基金C类、兴全中证800六个月持有期指数增强型证券投资基金A类、富国医药成长30股票型证券投资基金、申万菱信沪深300价值指数证券投资基金C类、申万菱信沪深300价值指数证券投资基金A类、大成睿裕六个月持有期股票型证券投资基金C类、大成睿裕六个月持有期股票型证券投资基金A类、富国沪深300基本面精选股票型证券投资基金C类、富国沪深300基本面精选股票型证券投资基金A类、招商科技动力3个月滚动持有股票型证券投资基金C类、招商科技动力3个月滚动持有股票型证券投资基金A类、安信均衡成长18个月持有期混合型证券投资基金C类、安信均衡成长18个月持有期混合型证券投资基金A类、中航量化阿尔法六个月持有期股票型证券投资基金C类、中航量化阿尔法六个月持有期股票型证券投资基金A类、中庚港股通价值18个月封闭运作股票型证券投资基金、申万菱信沪深300价值交易型开放式指数证券投资基金、大成尊享18个月持有期混合型发起式证券投资基金C类、大成尊享18个月持有期混合型发起式证券投资基金A类、国投瑞银港股通6个月定期开放股票型发起式证券投资基金、浙商汇金卓越优选3个月持有期股票型基金中基金(FOF)、新华精选成长主题3个月持有期混合型基金中基金(FOF)、同泰积极配置3个月持有期股票型基金中基金(FOF)C类、同泰积极配置3个月持有期股票型基金中基金(FOF)A类、大成沪深300指数证券投资基金、嘉实低价策略股票型证券投资基金、申万宏源季季优选3个月滚动持有债券型集合资产管理计划C类、申万宏源季季优选3个月滚动持有债券型集合资产管理计划A类、工银瑞信中证500六个月持有期指数增强型证券投资基金C类、工银瑞信中证500六个月持有期指数增强型证券投资基金A类、天弘睿享3个月持有期混合型发起式基金中基金(FOF)C类、天弘睿享3个月持有期混合型发起式基金中基金(FOF)A类、银华中国梦30股票型证券投资基金、南方天元新产业股票型证券投资基金、长江量化科技精选一个月滚动持有股票型发起式证券投资基金C类、长江量化科技精选一个月滚动持有股票型发起式证券投资基金A类、长城消费30股票型证券投资基金C类、长城消费30股票型证券投资基金A类、工银瑞信聚焦30股票型证券投资基金、富国消费精选30股票型证券投资基金、天弘旗舰精选3个月持有期混合型发起式基金中基金(FOF)C类、天弘旗舰精选3个月持有期混合型发起式基金中基金(FOF)A类、天元股份、大成沪深300指数证券投资基金C类、博时量化价值股票型证券投资基金C类、博时量化价值股票型证券投资基金A类、交银施罗德深证300价值交易型开放式指数证券投资基金联接基金、交银施罗德深证300价值交易型开放式指数证券投资基金联接基金、九泰天利量化股票型证券投资基金C类、九泰天利量化股票型证券投资基金A类\n",
      "-----output diff-----\n",
      "{\"relevant APIs\": [{\"api_id\": \"0\", \"tool_name\": \"条件选股\", \"api_name\": \"查询成交量\", \"required_parameters\": [\"等于\", \"708300.0\", \"昨日\"], \"rely_apis\": []}, {\"api_id\": \"1\", \"tool_name\": \"条件选股\", \"api_name\": \"查询最低价\", \"required_parameters\": [\"等于\", \"5.71\", \"\u001b[31m上\u001b[0m\u001b[31m月\u001b[0m\u001b[31m\"\u001b[0m\u001b[31m]\u001b[0m\u001b[31m,\u001b[0m\u001b[31m \u001b[0m\u001b[31m\"\u001b[0m\u001b[31mr\u001b[0m\u001b[31me\u001b[0m\u001b[31ml\u001b[0m\u001b[31my\u001b[0m\u001b[31m_\u001b[0m\u001b[31ma\u001b[0m\u001b[31mp\u001b[0m\u001b[31mi\u001b[0m\u001b[31ms\u001b[0m\u001b[31m\"\u001b[0m\u001b[31m:\u001b[0m\u001b[31m \u001b[0m\u001b[31m[\u001b[0m\u001b[31m]\u001b[0m\u001b[31m}\u001b[0m\u001b[31m,\u001b[0m\u001b[31m \u001b[0m\u001b[31m{\u001b[0m\u001b[31m\"\u001b[0m\u001b[31ma\u001b[0m\u001b[31mp\u001b[0m\u001b[31mi\u001b[0m\u001b[31m_\u001b[0m\u001b[31mi\u001b[0m\u001b[31md\u001b[0m\u001b[31m\"\u001b[0m\u001b[31m:\u001b[0m\u001b[31m \u001b[0m\u001b[31m\"\u001b[0m\u001b[31m2\u001b[0m\u001b[31m\"\u001b[0m\u001b[31m,\u001b[0m\u001b[31m \u001b[0m\u001b[31m\"\u001b[0m\u001b[31mt\u001b[0m\u001b[31mo\u001b[0mo\u001b[31ml\u001b[0m\u001b[31m_\u001b[0m\u001b[31mn\u001b[0m\u001b[31ma\u001b[0m\u001b[31mm\u001b[0m\u001b[31me\u001b[0m\u001b[31m\"\u001b[0m\u001b[31m:\u001b[0m\u001b[31m \u001b[0m\u001b[31m\"\u001b[0m\u001b[31m逻\u001b[0m\u001b[31m辑\u001b[0m\u001b[31m运\u001b[0m\u001b[31m算\u001b[0m\u001b[31m\"\u001b[0m\u001b[31m,\u001b[0m\u001b[31m \u001b[0m\u001b[31m\"\u001b[0m\u001b[31ma\u001b[0m\u001b[31mp\u001b[0m\u001b[31mi\u001b[0m\u001b[31m_\u001b[0m\u001b[31mn\u001b[0m\u001b[31ma\u001b[0m\u001b[31mm\u001b[0m\u001b[31me\u001b[0m\u001b[31m\"\u001b[0m\u001b[31m:\u001b[0m\u001b[31m \u001b[0m\u001b[31m\"\u001b[0m\u001b[31m与\u001b[0m\u001b[31m运\u001b[0m\u001b[31m算\u001b[0m\u001b[31m\"\u001b[0m\u001b[31m,\u001b[0m\u001b[31m \u001b[0m\u001b[31m\"\u001b[0m\u001b[31mr\u001b[0m\u001b[31me\u001b[0m\u001b[31mq\u001b[0m\u001b[31mu\u001b[0m\u001b[31mi\u001b[0m\u001b[31mr\u001b[0m\u001b[31me\u001b[0m\u001b[31md\u001b[0m\u001b[31m_\u001b[0m\u001b[31mp\u001b[0m\u001b[31ma\u001b[0m\u001b[31mr\u001b[0m\u001b[31ma\u001b[0m\u001b[31mm\u001b[0m\u001b[31me\u001b[0m\u001b[31mt\u001b[0m\u001b[31me\u001b[0m\u001b[31mr\u001b[0m\u001b[31ms\u001b[0m\u001b[31m\"\u001b[0m\u001b[31m:\u001b[0m\u001b[31m \u001b[0m\u001b[31m[\u001b[0m\u001b[31m\"\u001b[0m\u001b[31ma\u001b[0m\u001b[31mp\u001b[0m\u001b[31mi\u001b[0m\u001b[31m_\u001b[0m\u001b[31m0\u001b[0m\u001b[31m的\u001b[0m\u001b[31m结\u001b[0m\u001b[31m果\u001b[0m\u001b[31m\"\u001b[0m\u001b[31m,\u001b[0m\u001b[31m \u001b[0m\u001b[31m\"\u001b[0m\u001b[31ma\u001b[0m\u001b[31mp\u001b[0m\u001b[31mi\u001b[0m\u001b[31m_\u001b[0m\u001b[31m1\u001b[0m\u001b[31m的\u001b[0m\u001b[31m结\u001b[0m\u001b[31m果\u001b[0m\u001b[31m\"\u001b[0m\u001b[31m]\u001b[0m\u001b[31m,\u001b[0m\u001b[31m \u001b[0m\u001b[31m\"\u001b[0m\u001b[31mr\u001b[0m\u001b[31me\u001b[0m\u001b[31ml\u001b[0m\u001b[31my\u001b[0m\u001b[31m_\u001b[0m\u001b[31ma\u001b[0m\u001b[31mp\u001b[0m\u001b[31mi\u001b[0m\u001b[31ms\u001b[0m\u001b[31m\"\u001b[0m\u001b[31m:\u001b[0m\u001b[31m \u001b[0m\u001b[31m[\u001b[0m\u001b[31m\"\u001b[0m\u001b[31m0\u001b[0m\u001b[31m\"\u001b[0m\u001b[31m,\u001b[0m\u001b[31m \u001b[0m\u001b[31m\"\u001b[0m\u001b[31m1\u001b[0m\u001b[31m\"\u001b[0m\u001b[31m]\u001b[0m\u001b[31m}\u001b[0m\u001b[31m]\u001b[0m\u001b[31m,\u001b[0m\u001b[31m \u001b[0m\u001b[31m\"\u001b[0m\u001b[31mr\u001b[0m\u001b[31me\u001b[0m\u001b[31ms\u001b[0m\u001b[31mu\u001b[0m\u001b[31ml\u001b[0m\u001b[31mt\u001b[0m\u001b[31m\"\u001b[0m\u001b[31m:\u001b[0m\u001b[31m \u001b[0m\u001b[31m[\u001b[0m\u001b[31m\"\u001b[0m\u001b[31ma\u001b[0m\u001b[31mp\u001b[0m\u001b[31mi\u001b[0m\u001b[31m_\u001b[0m\u001b[31m2\u001b[0m\u001b[31m的\u001b[0m\u001b[31m结\u001b[0m\u001b[31m果\u001b[0m\u001b[31m\"\u001b[0m\u001b[31m]\u001b[0m\u001b[31m}\u001b[0m\u001b[31m}\u001b[0m\n",
      "{\"relevant APIs\": [{\"api_id\": \"0\", \"tool_name\": \"条件选股\", \"api_name\": \"查询成交量\", \"required_parameters\": [\"等于\", \"708300.0\", \"昨日\"], \"rely_apis\": []}, {\"api_id\": \"1\", \"tool_name\": \"条件选股\", \"api_name\": \"查询最低价\", \"required_parameters\": [\"等于\", \"5.71\", \"1个月\"], \"rely_apis\": []}, {\"api_id\": \"2\", \"tool_name\": \"逻辑运算\", \"api_name\": \"与运算\", \"required_parameters\": [\"api_0的结果\", \"api_1的结果\"], \"rely_apis\": [\"0\", \"1\"]}], \"result\": [\"api_2的结果\"]}\n",
      "\n"
     ]
    },
    {
     "name": "stderr",
     "output_type": "stream",
     "text": [
      "Both `max_new_tokens` (=1024) and `max_length`(=8192) seem to have been set. `max_new_tokens` will take precedence. Please refer to the documentation for more information. (https://huggingface.co/docs/transformers/main/en/main_classes/text_generation)\n"
     ]
    },
    {
     "name": "stdout",
     "output_type": "stream",
     "text": [
      "-----data index-----\n",
      "7\n",
      "-----query input-----\n",
      "你现在是一个金融领域专家，你需要通过编排api来得到用户query的答案，输出json格式。query是：我5000块要全投鹏华一带一路(LOF)A，扣除认购费用后真正可以投入的金额是多少 \n",
      " query中提到的产品标准名可能是：鹏华中证一带一路主题指数型证券投资基金(LOF)A类、鹏华中证一带一路主题指数型证券投资基金(LOF)C类、鹏华中证500指数证券投资基金(LOF)A类、易方达标普500指数证券投资基金(LOF)A类、富国中证500指数增强型证券投资基金(LOF)A类、中信保诚中证500指数型证券投资基金(LOF)A类、富国中证1000指数增强型证券投资基金(LOF)A类、财通资管中证500指数增强型证券投资基金(LOF)A类、西部利得中证500指数增强型证券投资基金(LOF)A类、汇添富中证500指数型发起式证券投资基金(LOF)A类、易方达标普500指数证券投资基金(LOF)(美元)A类、鹏华中证500指数证券投资基金(LOF)C类、易方达上证50指数证券投资基金(LOF)A类、广发深证100指数证券投资基金(LOF)A类、海富通中证100指数证券投资基金(LOF)A类、易方达标普500指数证券投资基金(LOF)C类、富国中证500指数增强型证券投资基金(LOF)、宏利中证500指数增强型证券投资基金(LOF)、融通巨潮100指数证券投资基金(LOF)A/B类、中金中证优选300指数证券投资基金(LOF)A类、广发中证500交易型开放式指数证券投资基金联接基金(LOF)A类、南方中证500交易型开放式指数证券投资基金联接基金(LOF)A类、鹏华中证空天一体军工指数证券投资基金(LOF)A类、长盛中证申万一带一路主题指数证券投资基金(LOF)、浙商沪深300指数增强型证券投资基金(LOF)A类、易方达中小企业100指数证券投资基金(LOF)A类、建信沪深300指数增强型证券投资基金(LOF)A类、富国中证500指数增强型证券投资基金(LOF)C类、大成中华沪深港300指数证券投资基金(LOF)A类、兴全沪深300指数增强型证券投资基金(LOF)A类、中信保诚沪深300指数型证券投资基金(LOF)A类、中信保诚中证500指数型证券投资基金(LOF)C类、银华中证中票50指数债券型证券投资基金(LOF)A类、申万菱信中小企业100指数证券投资基金(LOF)A类、富国中证1000指数增强型证券投资基金(LOF)C类、嘉实中证锐联基本面50指数证券投资基金(LOF)A类、长盛上证50指数证券投资基金(LOF)、财通资管中证500指数增强型证券投资基金(LOF)C类、西部利得中证500指数增强型证券投资基金(LOF)C类、汇添富沪深300指数型发起式证券投资基金(LOF)A类、汇添富中证500指数型发起式证券投资基金(LOF)C类、招商富时中国A-H50指数型证券投资基金(LOF)A类、中信保诚中证800金融指数型证券投资基金(LOF)A类、中信保诚中证800有色指数型证券投资基金(LOF)A类、中信保诚中证800医药指数型证券投资基金(LOF)A类、鹏华丰和债券型证券投资基金(LOF)A类、鹏华丰利债券型证券投资基金(LOF)A类、长盛沪深300指数证券投资基金(LOF)、银华深证100指数证券投资基金(LOF)、银华沪深300指数证券投资基金(LOF)\n",
      "-----output diff-----\n",
      "{\"relevant APIs\": [{\"api_id\": \"0\", \"api_name\": \"查询代码\", \"required_parameters\": [[\"鹏华中证一带一路主题指数型证券投资基金(LOF)A类\"]], \"rely_apis\": [], \"tool_name\": \"基金查询\"}, {\"api_id\": \"1\", \"api_name\": \"查询\u001b[31m认\u001b[0m\u001b[31m购\u001b[0m\u001b[31m费\u001b[0m\u001b[31m率\u001b[0m\", \"required_parameters\": [\"api_0的结果\"], \"rely_apis\": [\"0\"], \"tool_name\": \"基金查询\"}, {\"api_id\": \"2\", \"api_name\": \"乘法计算\", \"required_parameters\": [\"\u001b[31m5\u001b[0m\u001b[31m0\u001b[0m\u001b[31m0\u001b[0m\u001b[31m0\u001b[0m\u001b[31m\"\u001b[0m\u001b[31m,\u001b[0m\u001b[31m \u001b[0m\u001b[31m\"\u001b[0m\u001b[31ma\u001b[0m\u001b[31mp\u001b[0m\u001b[31mi\u001b[0m\u001b[31m_\u001b[0m\u001b[31m1\u001b[0m\u001b[31m的\u001b[0m\u001b[31m结\u001b[0m\u001b[31m果\u001b[0m\"], \"rely_apis\": [\"1\"], \"tool_name\": \"数值计算\"}, {\"api_id\": \"3\", \"api_name\": \"\u001b[31m减\u001b[0m\u001b[31m法\u001b[0m\u001b[31m计\u001b[0m\u001b[31m算\u001b[0m\u001b[31m\"\u001b[0m\u001b[31m,\u001b[0m\u001b[31m \u001b[0m\u001b[31m\"\u001b[0m\u001b[31mr\u001b[0m\u001b[31me\u001b[0m\u001b[31mq\u001b[0m\u001b[31mu\u001b[0m\u001b[31mi\u001b[0m\u001b[31mr\u001b[0m\u001b[31me\u001b[0m\u001b[31md\u001b[0m\u001b[31m_\u001b[0m\u001b[31mp\u001b[0m\u001b[31ma\u001b[0m\u001b[31mr\u001b[0ma\u001b[31mm\u001b[0m\u001b[31me\u001b[0m\u001b[31mt\u001b[0me\u001b[31mr\u001b[0m\u001b[31ms\u001b[0m\u001b[31m\"\u001b[0m\u001b[31m:\u001b[0m\u001b[31m \u001b[0m\u001b[31m[\u001b[0m\u001b[31m\"\u001b[0m\u001b[31m5\u001b[0m\u001b[31m0\u001b[0m\u001b[31m0\u001b[0m\u001b[31m0\u001b[0m\u001b[31m\"\u001b[0m\u001b[31m,\u001b[0m\u001b[31m \u001b[0m\u001b[31m\"\u001b[0m\u001b[31ma\u001b[0m\u001b[31mp\u001b[0m\u001b[31mi\u001b[0m\u001b[31m_\u001b[0m\u001b[31m2\u001b[0m\u001b[31m的\u001b[0m\u001b[31m结\u001b[0m\u001b[31m果\u001b[0m\u001b[31m\"\u001b[0m\u001b[31m]\u001b[0m\u001b[31m,\u001b[0m\u001b[31m \u001b[0m\u001b[31m\"\u001b[0m\u001b[31mr\u001b[0m\u001b[31me\u001b[0m\u001b[31ml\u001b[0m\u001b[31my\u001b[0m\u001b[31m_\u001b[0m\u001b[31ma\u001b[0m\u001b[31mp\u001b[0m\u001b[31mi\u001b[0m\u001b[31ms\u001b[0m\"\u001b[31m:\u001b[0m\u001b[31m \u001b[0m\u001b[31m[\u001b[0m\"\u001b[31m2\u001b[0m\u001b[31m\"\u001b[0m\u001b[31m]\u001b[0m\u001b[31m,\u001b[0m\u001b[31m \u001b[0m\u001b[31m\"\u001b[0m\u001b[31mt\u001b[0m\u001b[31mo\u001b[0m\u001b[31mo\u001b[0m\u001b[31ml\u001b[0m\u001b[31m_\u001b[0m\u001b[31mn\u001b[0m\u001b[31ma\u001b[0m\u001b[31mm\u001b[0m\u001b[31me\u001b[0m\u001b[31m\"\u001b[0m\u001b[31m:\u001b[0m\u001b[31m \u001b[0m\u001b[31m\"\u001b[0m\u001b[31m数\u001b[0m\u001b[31m值\u001b[0m\u001b[31m计\u001b[0m\u001b[31m算\u001b[0m\u001b[31m\"\u001b[0m\u001b[31m}\u001b[0m\u001b[31m]\u001b[0m\u001b[31m,\u001b[0m\u001b[31m \u001b[0m\u001b[31m\"\u001b[0m\u001b[31mr\u001b[0m\u001b[31me\u001b[0m\u001b[31ms\u001b[0m\u001b[31mu\u001b[0m\u001b[31ml\u001b[0m\u001b[31mt\u001b[0m\u001b[31m\"\u001b[0m\u001b[31m:\u001b[0m\u001b[31m \u001b[0m\u001b[31m[\u001b[0m\u001b[31m\"\u001b[0m\u001b[31ma\u001b[0m\u001b[31mp\u001b[0m\u001b[31mi\u001b[0m\u001b[31m_\u001b[0m\u001b[31m3\u001b[0m\u001b[31m的\u001b[0m\u001b[31m结\u001b[0m\u001b[31m果\u001b[0m\u001b[31m\"\u001b[0m\u001b[31m]\u001b[0m\u001b[31m}\u001b[0m\u001b[31m法计算\", \"required_parameters\": [\"api_2的结果\", \"api_3的结果\"], \"rely_apis\": [\"2\", \"3\"], \"tool_name\": \"数值计算\"}, {\"api_id\": \"5\", \"api_name\": \"减法计算\", \"required_parameters\": [\"api_2的结果\", \"api_4的结果\"], \"rely_apis\": [\"2\", \"4\"], \"tool_name\": \"数值计算\"}], \"result\": [\"api_5的结果\"]}\u001b[0m\n",
      "{\"relevant APIs\": [{\"api_id\": \"0\", \"api_name\": \"查询代码\", \"required_parameters\": [[\"鹏华中证一带一路主题指数型证券投资基金(LOF)A类\"]], \"rely_apis\": [], \"tool_name\": \"基金查询\"}, {\"api_id\": \"1\", \"api_name\": \"查询单位净值\", \"required_parameters\": [\"api_0的结果\"], \"rely_apis\": [\"0\"], \"tool_name\": \"基金查询\"}, {\"api_id\": \"2\", \"api_name\": \"乘法计算\", \"required_parameters\": [\"api_1的结果\", \"5000\"], \"rely_apis\": [\"1\"], \"tool_name\": \"数值计算\"}, {\"api_id\": \"3\", \"api_name\": \"查询赎回费率\", \"required_parameters\": [\"api_0的结果\"], \"rely_apis\": [\"0\"], \"tool_name\": \"基金查询\"}, {\"api_id\": \"4\", \"api_name\": \"乘法计算\", \"required_parameters\": [\"api_2的结果\", \"api_3的结果\"], \"rely_apis\": [\"2\", \"3\"], \"tool_name\": \"数值计算\"}, {\"api_id\": \"5\", \"api_name\": \"减法计算\", \"required_parameters\": [\"api_2的结果\", \"api_4的结果\"], \"rely_apis\": [\"2\", \"4\"], \"tool_name\": \"数值计算\"}], \"result\": [\"api_5的结果\"]}\n",
      "\n"
     ]
    },
    {
     "name": "stderr",
     "output_type": "stream",
     "text": [
      "Both `max_new_tokens` (=1024) and `max_length`(=8192) seem to have been set. `max_new_tokens` will take precedence. Please refer to the documentation for more information. (https://huggingface.co/docs/transformers/main/en/main_classes/text_generation)\n"
     ]
    },
    {
     "name": "stdout",
     "output_type": "stream",
     "text": [
      "-----data index-----\n",
      "16\n",
      "-----query input-----\n",
      "你现在是一个金融领域专家，你需要通过编排api来得到用户query的答案，输出json格式。query是：我想知道我昨天和今天一共买了200股川金诺，现在总共的市值是多少 \n",
      " query中提到的产品标准名可能是：天弘国证2000指数增强型证券投资基金C类、天弘国证2000指数增强型证券投资基金A类、前海开源强势共识100强等权重股票型证券投资基金、川金诺、泰信中证200指数证券投资基金、长盛同瑞中证200指数分级证券投资基金、天弘养老目标日期2030一年持有期混合型发起式基金中基金(FOF)、天弘中证500指数增强型证券投资基金C类、天弘中证500指数增强型证券投资基金A类、大成财富管理2020生命周期证券投资基金、博道沪深300指数增强型证券投资基金C类、博道沪深300指数增强型证券投资基金A类、博道中证500指数增强型证券投资基金C类、博道中证500指数增强型证券投资基金A类、招商和惠养老目标日期2040三年持有期混合型基金中基金(FOF)Y类、招商和惠养老目标日期2040三年持有期混合型基金中基金(FOF)A类、鹏华国证2000指数增强型证券投资基金C类、鹏华国证2000指数增强型证券投资基金A类、长盛同瑞中证200指数分级证券投资基金B类、长盛同瑞中证200指数分级证券投资基金A类、鑫元国证2000指数增强型证券投资基金C类、鑫元国证2000指数增强型证券投资基金A类、招商国证2000指数增强型证券投资基金C类、招商国证2000指数增强型证券投资基金A类、招商中证2000指数增强型证券投资基金C类、招商中证2000指数增强型证券投资基金A类、建信中国制造2025股票型证券投资基金C类、建信中国制造2025股票型证券投资基金A类、工银瑞信中国制造2025股票型证券投资基金、富国中证1000优选股票型证券投资基金C类、富国中证1000优选股票型证券投资基金A类、天弘沪深300交易型开放式指数证券投资基金、天弘中证800指数型发起式证券投资基金C类、天弘中证800指数型发起式证券投资基金A类、天弘中证500交易型开放式指数证券投资基金、天弘中证100指数型发起式证券投资基金C类、天弘中证100指数型发起式证券投资基金A类、天弘中证1000指数增强型证券投资基金C类、天弘中证1000指数增强型证券投资基金A类、国投瑞银瑞和沪深300指数分级证券投资基金、博道中证1000指数增强型证券投资基金C类、博道中证1000指数增强型证券投资基金A类、中欧国证2000指数增强型证券投资基金C类、中欧国证2000指数增强型证券投资基金A类、万家国证2000指数增强型证券投资基金C类、万家国证2000指数增强型证券投资基金A类、汇添富国证2000指数增强型证券投资基金C类、汇添富国证2000指数增强型证券投资基金A类、广发国证2000交易型开放式指数证券投资基金、广发中证2000交易型开放式指数证券投资基金\n",
      "-----output diff-----\n",
      "{\"relevant APIs\": [{\"api_id\": \"0\", \"api_name\": \"查询代码\", \"required_parameters\": [[\"川金诺\"]], \"rely_apis\": [], \"tool_name\": \"股票查询\"}, {\"api_id\": \"1\", \"api_name\": \"查询\u001b[31m当\u001b[0m\u001b[31m前\u001b[0m\u001b[31m价\u001b[0m\", \"required_parameters\": [\"api_0的结果\"], \"rely_apis\": [\"0\"], \"tool_name\": \"股票查询\"}, {\"api_id\": \"2\", \"api_name\": \"乘法计算\", \"required_parameters\": [\"api_1的结果\", \"200\"], \"rely_apis\": [\"1\"], \"tool_name\": \"数值计算\"}\u001b[31m]\u001b[0m\u001b[31m,\u001b[0m\u001b[31m \u001b[0m\"\u001b[31mr\u001b[0m\u001b[31me\u001b[0m\u001b[31ms\u001b[0m\u001b[31mu\u001b[0m\u001b[31ml\u001b[0m\u001b[31mt\u001b[0m\": \u001b[31m[\u001b[0m\u001b[31m\"\u001b[0m\u001b[31ma\u001b[0m\u001b[31mp\u001b[0m\u001b[31mi\u001b[0m\u001b[31m_\u001b[0m\u001b[31m2\u001b[0m\u001b[31m的\u001b[0m\u001b[31m结\u001b[0m\u001b[31m果\u001b[0m\u001b[31m\"\u001b[0m\u001b[31m]\u001b[0m\u001b[31m}\u001b[0m\u001b[31me\": \"查询当前价\", \"required_parameters\": [\"api_0的结果\"], \"rely_apis\": [\"0\"], \"tool_name\": \"股票查询\"}, {\"api_id\": \"4\", \"api_name\": \"乘法计算\", \"required_parameters\": [\"api_2的结果\", \"api_3的结果\"], \"rely_apis\": [\"2\", \"3\"], \"tool_name\": \"数值计算\"}, {\"api_id\": \"5\", \"api_name\": \"减法计算\", \"required_parameters\": [\"api_2的结果\", \"api_4的结果\"], \"rely_apis\": [\"2\", \"4\"], \"tool_name\": \"数值计算\"}], \"result\": [\"api_5的结果\"]}\u001b[0m\n",
      "{\"relevant APIs\": [{\"api_id\": \"0\", \"api_name\": \"查询代码\", \"required_parameters\": [[\"川金诺\"]], \"rely_apis\": [], \"tool_name\": \"股票查询\"}, {\"api_id\": \"1\", \"api_name\": \"查询总市值\", \"required_parameters\": [\"api_0的结果\"], \"rely_apis\": [\"0\"], \"tool_name\": \"股票查询\"}, {\"api_id\": \"2\", \"api_name\": \"乘法计算\", \"required_parameters\": [\"api_1的结果\", \"200\"], \"rely_apis\": [\"1\"], \"tool_name\": \"数值计算\"}, {\"api_id\": \"3\", \"api_name\": \"查询当前价\", \"required_parameters\": [\"api_0的结果\"], \"rely_apis\": [\"0\"], \"tool_name\": \"股票查询\"}, {\"api_id\": \"4\", \"api_name\": \"乘法计算\", \"required_parameters\": [\"api_2的结果\", \"api_3的结果\"], \"rely_apis\": [\"2\", \"3\"], \"tool_name\": \"数值计算\"}, {\"api_id\": \"5\", \"api_name\": \"减法计算\", \"required_parameters\": [\"api_2的结果\", \"api_4的结果\"], \"rely_apis\": [\"2\", \"4\"], \"tool_name\": \"数值计算\"}], \"result\": [\"api_5的结果\"]}\n",
      "\n"
     ]
    },
    {
     "name": "stderr",
     "output_type": "stream",
     "text": [
      "Both `max_new_tokens` (=1024) and `max_length`(=8192) seem to have been set. `max_new_tokens` will take precedence. Please refer to the documentation for more information. (https://huggingface.co/docs/transformers/main/en/main_classes/text_generation)\n"
     ]
    },
    {
     "name": "stdout",
     "output_type": "stream",
     "text": [
      "-----data index-----\n",
      "33\n",
      "-----query input-----\n",
      "你现在是一个金融领域专家，你需要通过编排api来得到用户query的答案，输出json格式。query是：我想知道我在誉辰上个月的最低价买入1000股，卖出在今日的最高价，我会赚多少钱？ \n",
      " query中提到的产品标准名可能是：富国中证1000优选股票型证券投资基金C类、富国中证1000优选股票型证券投资基金A类、博道中证1000指数增强型证券投资基金C类、博道中证1000指数增强型证券投资基金A类、国泰君安中证1000优选股票型发起式证券投资基金C类、国泰君安中证1000优选股票型发起式证券投资基金A类、银河定投宝中证腾讯济安价值100A股指数型发起式证券投资基金、华夏中证智选1000价值稳健策略交易型开放式指数证券投资基金、华宝中证1000指数证券投资基金C类、华宝中证1000指数证券投资基金A类、鹏华中证1000指数增强型证券投资基金C类、鹏华中证1000指数增强型证券投资基金A类、长信中证1000指数增强型证券投资基金C类、长信中证1000指数增强型证券投资基金A类、财通中证1000指数增强型证券投资基金C类、财通中证1000指数增强型证券投资基金A类、浙商中证1000指数增强型证券投资基金C类、浙商中证1000指数增强型证券投资基金A类、明亚中证1000指数增强型证券投资基金C类、明亚中证1000指数增强型证券投资基金A类、招商中证1000指数增强型证券投资基金C类、招商中证1000指数增强型证券投资基金A类、太平中证1000指数增强型证券投资基金C类、太平中证1000指数增强型证券投资基金A类、天弘中证1000指数增强型证券投资基金C类、天弘中证1000指数增强型证券投资基金A类、国金中证1000指数增强型证券投资基金C类、国金中证1000指数增强型证券投资基金A类、博时中证1000指数增强型证券投资基金C类、博时中证1000指数增强型证券投资基金A类、华安中证1000指数增强型证券投资基金C类、华安中证1000指数增强型证券投资基金A类、华夏中证1000指数增强型证券投资基金C类、华夏中证1000指数增强型证券投资基金A类、兴银中证1000指数增强型证券投资基金C类、兴银中证1000指数增强型证券投资基金A类、中银中证1000指数增强型证券投资基金C类、中银中证1000指数增强型证券投资基金A类、中欧中证1000指数增强型证券投资基金C类、中欧中证1000指数增强型证券投资基金A类、上证180价值交易型开放式指数证券投资基金、汇添富中证1000指数增强型证券投资基金C类、汇添富中证1000指数增强型证券投资基金A类、建信中证1000交易型开放式指数证券投资基金、广发中证1000交易型开放式指数证券投资基金、富国中证1000交易型开放式指数证券投资基金、国联安中证1000指数增强型证券投资基金C类、国联安中证1000指数增强型证券投资基金A类、南方中证1000交易型开放式指数证券投资基金、华夏中证1000交易型开放式指数证券投资基金\n",
      "-----output diff-----\n",
      "{\"relevant APIs\": [{\"api_id\": \"0\", \"api_name\": \"查询代码\", \"required_parameters\": [[\"\u001b[31m誉\u001b[0m辰\u001b[31m智\u001b[0m\u001b[31m能\u001b[0m\"]], \"rely_apis\": [], \"tool_name\": \"股票查询\"}, {\"api_id\": \"1\", \"api_name\": \"查询最低价\", \"required_parameters\": [\"api_0的结果\", \"上月\"], \"rely_apis\": [\"0\"], \"tool_name\": \"股票查询\"}, {\"api_id\": \"2\", \"api_name\": \"查询最高价\", \"required_parameters\": [\"api_0的结果\", \"今日\"], \"rely_apis\": [\"0\"], \"tool_name\": \"股票查询\"}, {\"api_id\": \"3\", \"api_name\": \"乘法计算\", \"required_parameters\": [\"api_1的结果\", \"1000\"], \"rely_apis\": [\"1\"], \"tool_name\": \"数值计算\"}, {\"api_id\": \"4\", \"api_name\": \"乘法计算\", \"required_parameters\": [\"api_2的结果\", \"1000\"], \"rely_apis\": [\"2\"], \"tool_name\": \"数值计算\"}, {\"api_id\": \"5\", \"api_name\": \"减法计算\", \"required_parameters\": [\"api_4的结果\", \"api_3的结果\"], \"rely_apis\": [\"3\", \"4\"], \"tool_name\": \"数值计算\"}\u001b[31m]\u001b[0m\u001b[31m,\u001b[0m\u001b[31m \u001b[0m\"\u001b[31mr\u001b[0m\u001b[31me\u001b[0m\u001b[31ms\u001b[0m\u001b[31mu\u001b[0m\u001b[31ml\u001b[0m\u001b[31mt\u001b[0m\": \u001b[31m[\u001b[0m\u001b[31m\"\u001b[0m\u001b[31ma\u001b[0m\u001b[31mp\u001b[0m\u001b[31mi\u001b[0m\u001b[31m_\u001b[0m\u001b[31m5\u001b[0m\u001b[31m的\u001b[0m\u001b[31m结\u001b[0m\u001b[31m果\u001b[0m\u001b[31m\"\u001b[0m\u001b[31m]\u001b[0m\u001b[31m}\u001b[0m\u001b[31me\": \"减法计算\", \"required_parameters\": [\"api_2的结果\", \"api_5的结果\"], \"rely_apis\": [\"2\", \"5\"], \"tool_name\": \"数值计算\"}, {\"api_id\": \"7\", \"api_name\": \"减法计算\", \"required_parameters\": [\"api_2的结果\", \"api_6的结果\"], \"rely_apis\": [\"2\", \"6\"], \"tool_name\": \"数值计算\"}], \"result\": [\"api_7的结果\"]}\u001b[0m\n",
      "{\"relevant APIs\": [{\"api_id\": \"0\", \"api_name\": \"查询代码\", \"required_parameters\": [[\"金辰股份\"]], \"rely_apis\": [], \"tool_name\": \"股票查询\"}, {\"api_id\": \"1\", \"api_name\": \"查询最低价\", \"required_parameters\": [\"api_0的结果\", \"上月\"], \"rely_apis\": [\"0\"], \"tool_name\": \"股票查询\"}, {\"api_id\": \"2\", \"api_name\": \"查询最高价\", \"required_parameters\": [\"api_0的结果\", \"今日\"], \"rely_apis\": [\"0\"], \"tool_name\": \"股票查询\"}, {\"api_id\": \"3\", \"api_name\": \"乘法计算\", \"required_parameters\": [\"api_1的结果\", \"1000\"], \"rely_apis\": [\"1\"], \"tool_name\": \"数值计算\"}, {\"api_id\": \"4\", \"api_name\": \"乘法计算\", \"required_parameters\": [\"api_2的结果\", \"1000\"], \"rely_apis\": [\"2\"], \"tool_name\": \"数值计算\"}, {\"api_id\": \"5\", \"api_name\": \"减法计算\", \"required_parameters\": [\"api_4的结果\", \"api_3的结果\"], \"rely_apis\": [\"3\", \"4\"], \"tool_name\": \"数值计算\"}, {\"api_id\": \"6\", \"api_name\": \"减法计算\", \"required_parameters\": [\"api_2的结果\", \"api_5的结果\"], \"rely_apis\": [\"2\", \"5\"], \"tool_name\": \"数值计算\"}, {\"api_id\": \"7\", \"api_name\": \"减法计算\", \"required_parameters\": [\"api_2的结果\", \"api_6的结果\"], \"rely_apis\": [\"2\", \"6\"], \"tool_name\": \"数值计算\"}], \"result\": [\"api_7的结果\"]}\n",
      "\n"
     ]
    },
    {
     "name": "stderr",
     "output_type": "stream",
     "text": [
      "Both `max_new_tokens` (=1024) and `max_length`(=8192) seem to have been set. `max_new_tokens` will take precedence. Please refer to the documentation for more information. (https://huggingface.co/docs/transformers/main/en/main_classes/text_generation)\n",
      "Both `max_new_tokens` (=1024) and `max_length`(=8192) seem to have been set. `max_new_tokens` will take precedence. Please refer to the documentation for more information. (https://huggingface.co/docs/transformers/main/en/main_classes/text_generation)\n"
     ]
    },
    {
     "name": "stdout",
     "output_type": "stream",
     "text": [
      "-----data index-----\n",
      "58\n",
      "-----query input-----\n",
      "你现在是一个金融领域专家，你需要通过编排api来得到用户query的答案，输出json格式。query是：如果我3年前用5000元购买了财通恒利基金而且在1年前卖出，那么我会获得多少利润呢？ \n",
      " query中提到的产品标准名可能是：财通恒利纯债债券型证券投资基金、建信沪深300红利交易型开放式指数证券投资基金、嘉实沪深300红利低波动交易型开放式指数证券投资基金、前海开源中证500等权重交易型开放式指数证券投资基金、财通景利纯债债券型证券投资基金、财通弘利纯债债券型证券投资基金、大成沪深300指数证券投资基金、鹏华沪深300交易型开放式指数证券投资基金(2013)、人保沪深300指数型证券投资基金、人保中证500指数型证券投资基金、财通多利纯债债券型证券投资基金E类、财通多利纯债债券型证券投资基金C类、财通多利纯债债券型证券投资基金A类、诺德深证300指数分级证券投资基金、富国沪深300增强证券投资基金C类、富国沪深300增强证券投资基金A类、大成沪深300指数证券投资基金C类、国泰沪深300指数证券投资基金C类、国泰沪深300指数证券投资基金A类、华安沪深300指数分级证券投资基金、农银汇理中证500指数证券投资基金、万家信用恒利债券型证券投资基金D类、万家信用恒利债券型证券投资基金C类、万家信用恒利债券型证券投资基金A类、易方达沪深300量化增强证券投资基金、招商沪深300高贝塔指数证券投资基金、平安深证300指数增强型证券投资基金、南方大数据300指数证券投资基金C类、南方大数据300指数证券投资基金A类、华宝中证1000指数证券投资基金C类、华宝中证1000指数证券投资基金A类、华商300智选混合型证券投资基金C类、华商300智选混合型证券投资基金A类、东吴沪深300指数型证券投资基金A类、长城久泰沪深300指数证券投资基金C类、长城久泰沪深300指数证券投资基金A类、银河沪深300价值指数证券投资基金C类、银河沪深300价值指数证券投资基金A类、诺德深证300指数分级证券投资基金B类、诺德深证300指数分级证券投资基金A类、深证300交易型开放式指数证券投资基金、工银瑞信沪深300指数证券投资基金C类、工银瑞信沪深300指数证券投资基金A类、大成沪深300指数证券投资基金A/B类、国金沪深300指数增强证券投资基金C类、国金沪深300指数增强证券投资基金A类、博时裕富沪深300指数证券投资基金C类、博时裕富沪深300指数证券投资基金A类、华安沪深300量化增强证券投资基金C类、华安沪深300量化增强证券投资基金A类\n",
      "-----output diff-----\n",
      "{\"relevant APIs\": [{\"api_id\": \"0\", \"api_name\": \"查询代码\", \"required_parameters\": [[\"财通恒利纯债债券型证券投资基金\"]], \"rely_apis\": [], \"tool_name\": \"基金查询\"}, {\"api_id\": \"1\", \"api_name\": \"查询近期收益率\", \"required_parameters\": [\"api_0的结果\", \"3年\"], \"rely_apis\": [\"0\"], \"tool_name\": \"基金查询\"}, {\"api_id\": \"2\", \"api_name\": \"乘法计算\", \"required_parameters\": [\"api_1的结果\", \"5000\"], \"rely_apis\": [\"1\"], \"tool_name\": \"数值计算\"}, {\"api_id\": \"3\", \"api_name\": \"查询近期收益率\", \"required_parameters\": [\"api_0的结果\", \"1年\"], \"rely_apis\": [\"0\"], \"tool_name\": \"基金查询\"}, {\"api_id\": \"4\", \"api_name\": \"乘法计算\", \"required_parameters\": [\"api_3的结果\", \"\u001b[31ma\u001b[0m\u001b[31mp\u001b[0m\u001b[31mi\u001b[0m\u001b[31m_\u001b[0m\u001b[31m2\u001b[0m\u001b[31m的\u001b[0m\u001b[31m结\u001b[0m\u001b[31m果\u001b[0m\"\u001b[31m]\u001b[0m\u001b[31m,\u001b[0m\u001b[31m \u001b[0m\u001b[31m\"\u001b[0m\u001b[31mr\u001b[0m\u001b[31me\u001b[0m\u001b[31ml\u001b[0m\u001b[31my\u001b[0m\u001b[31m_\u001b[0m\u001b[31ma\u001b[0m\u001b[31mp\u001b[0m\u001b[31mi\u001b[0m\u001b[31ms\u001b[0m\"\u001b[31m:\u001b[0m\u001b[31m \u001b[0m\u001b[31m[\u001b[0m\u001b[31m\"\u001b[0m\u001b[31m3\u001b[0m\"\u001b[31m,\u001b[0m\u001b[31m \u001b[0m\u001b[31m\"\u001b[0m\u001b[31m2\u001b[0m\u001b[31m\"\u001b[0m\u001b[31m]\u001b[0m\u001b[31m,\u001b[0m\u001b[31m \u001b[0m\u001b[31m\"\u001b[0m\u001b[31mt\u001b[0m\u001b[31mo\u001b[0m\u001b[31mo\u001b[0m\u001b[31ml\u001b[0m\u001b[31m_\u001b[0m\u001b[31mn\u001b[0m\u001b[31ma\u001b[0m\u001b[31mm\u001b[0m\u001b[31me\u001b[0m\u001b[31m\"\u001b[0m\u001b[31m:\u001b[0m \u001b[31m\"\u001b[0m\u001b[31m数\u001b[0m\u001b[31m值\u001b[0m\u001b[31m计\u001b[0m\u001b[31m算\u001b[0m\u001b[31m\"\u001b[0m\u001b[31m}\u001b[0m\u001b[31m,\u001b[0m\u001b[31m \u001b[0m\u001b[31m{\u001b[0m\u001b[31m\"\u001b[0m\u001b[31ma\u001b[0m\u001b[31mp\u001b[0m\u001b[31mi\u001b[0m\u001b[31m_\u001b[0m\u001b[31mi\u001b[0m\u001b[31md\u001b[0m\u001b[31m\"\u001b[0m\u001b[31m:\u001b[0m\u001b[31m \u001b[0m\u001b[31m\"\u001b[0m\u001b[31m5\u001b[0m\u001b[31m\"\u001b[0m\u001b[31m,\u001b[0m\u001b[31m \u001b[0m\"\u001b[31ma\u001b[0m\u001b[31mp\u001b[0m\u001b[31mi\u001b[0m\u001b[31m_\u001b[0m\u001b[31mn\u001b[0m\u001b[31ma\u001b[0m\u001b[31mm\u001b[0m\u001b[31me\u001b[0m\u001b[31m\"\u001b[0m\u001b[31m:\u001b[0m\u001b[31m \u001b[0m\u001b[31m\"\u001b[0m\u001b[31m减\u001b[0m\u001b[31m法\u001b[0m\u001b[31m计\u001b[0m\u001b[31m算\u001b[0m\u001b[31m\"\u001b[0m\u001b[31m,\u001b[0m\u001b[31m \u001b[0m\u001b[31m\"\u001b[0m\u001b[31mr\u001b[0m\u001b[31me\u001b[0m\u001b[31mq\u001b[0m\u001b[31mu\u001b[0m\u001b[31mi\u001b[0m\u001b[31mr\u001b[0m\u001b[31me\u001b[0m\u001b[31md\u001b[0m\u001b[31m_\u001b[0m\u001b[31mp\u001b[0m\u001b[31ma\u001b[0m\u001b[31mr\u001b[0m\u001b[31ma\u001b[0m\u001b[31mm\u001b[0m\u001b[31me\u001b[0m\u001b[31mt\u001b[0m\u001b[31me\u001b[0m\u001b[31mr\u001b[0m\u001b[31ms\u001b[0m\u001b[31m\"\u001b[0m\u001b[31m:\u001b[0m\u001b[31m \u001b[0m\u001b[31m[\u001b[0m\"\u001b[31m5\u001b[0m\u001b[31m0\u001b[0m\u001b[31m0\u001b[0m\u001b[31m0\u001b[0m\u001b[31m\"\u001b[0m\u001b[31m,\u001b[0m\u001b[31m \u001b[0m\u001b[31m\"\u001b[0m\u001b[31ma\u001b[0m\u001b[31mp\u001b[0m\u001b[31mi\u001b[0m\u001b[31m_\u001b[0m\u001b[31m4\u001b[0m\u001b[31m的\u001b[0m\u001b[31m结\u001b[0m\u001b[31m果\u001b[0m\u001b[31m\"\u001b[0m\u001b[31m]\u001b[0m\u001b[31m,\u001b[0m\u001b[31m \u001b[0m\u001b[31m\"\u001b[0m\u001b[31mr\u001b[0m\u001b[31me\u001b[0m\u001b[31ml\u001b[0m\u001b[31my\u001b[0m\u001b[31m_\u001b[0m\u001b[31ma\u001b[0m\u001b[31mp\u001b[0m\u001b[31mi\u001b[0m\u001b[31ms\u001b[0m\u001b[31m\"\u001b[0m\u001b[31m:\u001b[0m\u001b[31m \u001b[0m\u001b[31m[\u001b[0m\"4\"], \"tool_name\": \"数值计算\"}\u001b[31m]\u001b[0m\u001b[31m,\u001b[0m\u001b[31m \u001b[0m\"\u001b[31mr\u001b[0m\u001b[31me\u001b[0m\u001b[31ms\u001b[0m\u001b[31mu\u001b[0m\u001b[31ml\u001b[0m\u001b[31mt\u001b[0m\": \u001b[31m[\u001b[0m\u001b[31m\"\u001b[0m\u001b[31ma\u001b[0m\u001b[31mp\u001b[0m\u001b[31mi\u001b[0m\u001b[31m_\u001b[0m\u001b[31m5\u001b[0m\u001b[31m的\u001b[0m\u001b[31m结\u001b[0m\u001b[31m果\u001b[0m\u001b[31m\"\u001b[0m\u001b[31m]\u001b[0m\u001b[31m}\u001b[0m\u001b[31me\": \"减法计算\", \"required_parameters\": [\"api_5的结果\", \"5000\"], \"rely_apis\": [\"5\"], \"tool_name\": \"数值计算\"}, {\"api_id\": \"7\", \"api_name\": \"减法计算\", \"required_parameters\": [\"api_4的结果\", \"5000\"], \"rely_apis\": [\"4\"], \"tool_name\": \"数值计算\"}, {\"api_id\": \"8\", \"api_name\": \"乘法计算\", \"required_parameters\": [\"api_6的结果\", \"api_7的结果\"], \"rely_apis\": [\"6\", \"7\"], \"tool_name\": \"数值计算\"}], \"result\": [\"api_8的结果\"]}\u001b[0m\n",
      "{\"relevant APIs\": [{\"api_id\": \"0\", \"api_name\": \"查询代码\", \"required_parameters\": [[\"财通恒利纯债债券型证券投资基金\"]], \"rely_apis\": [], \"tool_name\": \"基金查询\"}, {\"api_id\": \"1\", \"api_name\": \"查询近期收益率\", \"required_parameters\": [\"api_0的结果\", \"3年\"], \"rely_apis\": [\"0\"], \"tool_name\": \"基金查询\"}, {\"api_id\": \"2\", \"api_name\": \"乘法计算\", \"required_parameters\": [\"api_1的结果\", \"5000\"], \"rely_apis\": [\"1\"], \"tool_name\": \"数值计算\"}, {\"api_id\": \"3\", \"api_name\": \"查询近期收益率\", \"required_parameters\": [\"api_0的结果\", \"1年\"], \"rely_apis\": [\"0\"], \"tool_name\": \"基金查询\"}, {\"api_id\": \"4\", \"api_name\": \"乘法计算\", \"required_parameters\": [\"api_3的结果\", \"5000\"], \"rely_apis\": [\"3\"], \"tool_name\": \"数值计算\"}, {\"api_id\": \"5\", \"api_name\": \"加法计算\", \"required_parameters\": [\"api_2的结果\", \"api_4的结果\"], \"rely_apis\": [\"2\", \"4\"], \"tool_name\": \"数值计算\"}, {\"api_id\": \"6\", \"api_name\": \"减法计算\", \"required_parameters\": [\"api_5的结果\", \"5000\"], \"rely_apis\": [\"5\"], \"tool_name\": \"数值计算\"}, {\"api_id\": \"7\", \"api_name\": \"减法计算\", \"required_parameters\": [\"api_4的结果\", \"5000\"], \"rely_apis\": [\"4\"], \"tool_name\": \"数值计算\"}, {\"api_id\": \"8\", \"api_name\": \"乘法计算\", \"required_parameters\": [\"api_6的结果\", \"api_7的结果\"], \"rely_apis\": [\"6\", \"7\"], \"tool_name\": \"数值计算\"}], \"result\": [\"api_8的结果\"]}\n",
      "\n"
     ]
    },
    {
     "name": "stderr",
     "output_type": "stream",
     "text": [
      "Both `max_new_tokens` (=1024) and `max_length`(=8192) seem to have been set. `max_new_tokens` will take precedence. Please refer to the documentation for more information. (https://huggingface.co/docs/transformers/main/en/main_classes/text_generation)\n"
     ]
    },
    {
     "name": "stdout",
     "output_type": "stream",
     "text": [
      "-----data index-----\n",
      "67\n",
      "-----query input-----\n",
      "你现在是一个金融领域专家，你需要通过编排api来得到用户query的答案，输出json格式。query是：如果我五年前用5000块买的国联安科创板50C基金，在过去一年里，我每个月要支付的管理费是多少？ \n",
      " query中提到的产品标准名可能是：国联安上证科创板50成份交易型开放式指数证券投资基金、国联安上证科创板50成份交易型开放式指数证券投资基金联接基金C类、国联安上证科创板50成份交易型开放式指数证券投资基金联接基金A类、华安上证科创板50成份交易型开放式指数证券投资基金、华安创业板50指数型证券投资基金C类、华安创业板50指数型证券投资基金A类、国联安科技创新混合型证券投资基金(LOF)、华安创业板50交易型开放式指数证券投资基金、国联安创业板科技交易型开放式指数证券投资基金、国联安中证消费50交易型开放式指数证券投资基金、华安上证科创板50成份交易型开放式指数证券投资基金发起式联接基金C类、华安上证科创板50成份交易型开放式指数证券投资基金发起式联接基金A类、富国中证科创创业50交易型开放式指数证券投资基金、国泰中证科创创业50交易型开放式指数证券投资基金、国泰上证科创板100交易型开放式指数证券投资基金、广发上证科创板50成份交易型开放式指数证券投资基金、天弘上证科创板50成份指数型发起式证券投资基金C类、天弘上证科创板50成份指数型发起式证券投资基金A类、国联金如意双利一年持有期债券型集合资产管理计划C类、国联金如意双利一年持有期债券型集合资产管理计划A类、国联金如意3个月滚动持有债券型集合资产管理计划C类、国联金如意3个月滚动持有债券型集合资产管理计划A类、国泰君安科创板量化选股股票型发起式证券投资基金C类、国泰君安科创板量化选股股票型发起式证券投资基金A类、博时上证科创板50成份指数型发起式证券投资基金C类、博时上证科创板50成份指数型发起式证券投资基金A类、南方上证科创板50成份交易型开放式指数证券投资基金、华安创业板50指数分级证券投资基金之稳健收益类份额、华安创业板50指数分级证券投资基金之积极收益类份额、华夏上证科创板50成份交易型开放式指数证券投资基金、国联安新科技混合型证券投资基金、景顺长城上证科创板50成份指数增强型证券投资基金C类、景顺长城上证科创板50成份指数增强型证券投资基金A类、易方达上证科创板50成份交易型开放式指数证券投资基金、国联安科技动力股票型证券投资基金、西藏东财上证科创板50成份指数型发起式证券投资基金C类、西藏东财上证科创板50成份指数型发起式证券投资基金A类、工银瑞信上证科创板50成份交易型开放式指数证券投资基金、嘉实上证科创板50成份指数增强型发起式证券投资基金C类、嘉实上证科创板50成份指数增强型发起式证券投资基金A类、华泰柏瑞上证科创板50成份交易型开放式指数证券投资基金、华安创业板50交易型开放式指数证券投资基金联接基金C类、华安创业板50交易型开放式指数证券投资基金联接基金A类、华夏上证科创板50成份指数增强型发起式证券投资基金C类、华夏上证科创板50成份指数增强型发起式证券投资基金A类、鹏华上证科创板50成份增强策略交易型开放式指数证券投资基金、招商上证科创板50成份增强策略交易型开放式指数证券投资基金、南方上证科创板50成份增强策略交易型开放式指数证券投资基金、富国中证科创创业50交易型开放式指数证券投资基金联接基金C类、富国中证科创创业50交易型开放式指数证券投资基金联接基金A类\n",
      "-----output diff-----\n",
      "{\"relevant APIs\": [{\"api_id\": \"0\", \"api_name\": \"查询代码\", \"required_parameters\": [[\"国联安上证科创板50成份交易型开放式指数证券投资基金联接基金C类\"]], \"rely_apis\": [], \"tool_name\": \"基金查询\"}, {\"api_id\": \"1\", \"api_name\": \"查询管理费率\", \"required_parameters\": [\"api_0的结果\"], \"rely_apis\": [\"0\"], \"tool_name\": \"基金查询\"}, {\"api_id\": \"2\", \"api_name\": \"乘法计算\", \"required_parameters\": [\"\u001b[31m5\u001b[0m\u001b[31m0\u001b[0m\u001b[31m0\u001b[0m\u001b[31m0\u001b[0m\u001b[31m\"\u001b[0m\u001b[31m,\u001b[0m\u001b[31m \u001b[0m\u001b[31m\"\u001b[0m\u001b[31ma\u001b[0m\u001b[31mp\u001b[0m\u001b[31mi\u001b[0m\u001b[31m_\u001b[0m\u001b[31m1\u001b[0m\u001b[31m的\u001b[0m\u001b[31m结\u001b[0m\u001b[31m果\u001b[0m\"], \"rely_apis\": [\"1\"], \"tool_name\": \"数值计算\"}, {\"api_id\": \"3\", \"api_name\": \"\u001b[31m除\u001b[0m法计算\", \"required_parameters\": [\"api_2的结果\", \"\u001b[31m1\u001b[0m\u001b[31m2\u001b[0m\u001b[31m\"\u001b[0m\u001b[31m]\u001b[0m\u001b[31m,\u001b[0m\u001b[31m \u001b[0m\u001b[31m\"\u001b[0m\u001b[31mr\u001b[0m\u001b[31me\u001b[0m\u001b[31ml\u001b[0m\u001b[31my\u001b[0m\u001b[31m_\u001b[0m\u001b[31ma\u001b[0m\u001b[31mp\u001b[0m\u001b[31mi\u001b[0m\u001b[31ms\u001b[0m\u001b[31m\"\u001b[0m\u001b[31m:\u001b[0m\u001b[31m \u001b[0m\u001b[31m[\u001b[0m\u001b[31m\"\u001b[0m\u001b[31m2\u001b[0m\"\u001b[31m]\u001b[0m\u001b[31m,\u001b[0m\u001b[31m \u001b[0m\u001b[31m\"\u001b[0m\u001b[31mt\u001b[0m\u001b[31mo\u001b[0m\u001b[31mo\u001b[0m\u001b[31ml\u001b[0m\u001b[31m_\u001b[0m\u001b[31mn\u001b[0m\u001b[31ma\u001b[0m\u001b[31mm\u001b[0m\u001b[31me\u001b[0m\u001b[31m\"\u001b[0m\u001b[31m:\u001b[0m\u001b[31m \u001b[0m\u001b[31m\"\u001b[0m\u001b[31m数\u001b[0m\u001b[31m值\u001b[0m\u001b[31m计\u001b[0m\u001b[31m算\u001b[0m\u001b[31m\"\u001b[0m\u001b[31m}\u001b[0m\u001b[31m]\u001b[0m\u001b[31m,\u001b[0m\u001b[31m \u001b[0m\u001b[31m\"\u001b[0m\u001b[31mr\u001b[0m\u001b[31me\u001b[0m\u001b[31ms\u001b[0m\u001b[31mu\u001b[0m\u001b[31ml\u001b[0m\u001b[31mt\u001b[0m\u001b[31m\"\u001b[0m\u001b[31m:\u001b[0m\u001b[31m \u001b[0m\u001b[31m[\u001b[0m\u001b[31m\"\u001b[0m\u001b[31ma\u001b[0m\u001b[31mp\u001b[0m\u001b[31mi\u001b[0m\u001b[31m_\u001b[0m\u001b[31m3\u001b[0m\u001b[31m的\u001b[0m\u001b[31m结\u001b[0m\u001b[31m果\u001b[0m\u001b[31m\"\u001b[0m\u001b[31m]\u001b[0m\u001b[31m}\u001b[0m\u001b[31m]}\u001b[0m\n",
      "{\"relevant APIs\": [{\"api_id\": \"0\", \"api_name\": \"查询代码\", \"required_parameters\": [[\"国联安上证科创板50成份交易型开放式指数证券投资基金联接基金C类\"]], \"rely_apis\": [], \"tool_name\": \"基金查询\"}, {\"api_id\": \"1\", \"api_name\": \"查询管理费率\", \"required_parameters\": [\"api_0的结果\"], \"rely_apis\": [\"0\"], \"tool_name\": \"基金查询\"}, {\"api_id\": \"2\", \"api_name\": \"乘法计算\", \"required_parameters\": [\"api_1的结果\", \"5000\"], \"rely_apis\": [\"1\"], \"tool_name\": \"数值计算\"}, {\"api_id\": \"3\", \"api_name\": \"加法计算\", \"required_parameters\": [\"api_2的结果\", \"5000\"], \"rely_apis\": [\"2\"], \"tool_name\": \"数值计算\"}], \"result\": [\"api_3的结果\"]}\n",
      "\n"
     ]
    },
    {
     "name": "stderr",
     "output_type": "stream",
     "text": [
      "Both `max_new_tokens` (=1024) and `max_length`(=8192) seem to have been set. `max_new_tokens` will take precedence. Please refer to the documentation for more information. (https://huggingface.co/docs/transformers/main/en/main_classes/text_generation)\n",
      "Both `max_new_tokens` (=1024) and `max_length`(=8192) seem to have been set. `max_new_tokens` will take precedence. Please refer to the documentation for more information. (https://huggingface.co/docs/transformers/main/en/main_classes/text_generation)\n"
     ]
    },
    {
     "name": "stdout",
     "output_type": "stream",
     "text": [
      "-----data index-----\n",
      "86\n",
      "-----query input-----\n",
      "你现在是一个金融领域专家，你需要通过编排api来得到用户query的答案，输出json格式。query是：昨天有没有股票涨幅是1.82%呢，或者你知道上个月开盘价格正好是10块94的是哪些股票吗？ \n",
      " query中提到的产品标准名可能是：中庚港股通价值18个月封闭运作股票型证券投资基金、中欧天添18个月定期开放债券型证券投资基金C类、中欧天添18个月定期开放债券型证券投资基金A类、中欧天尚18个月定期开放债券型证券投资基金C类、中欧天尚18个月定期开放债券型证券投资基金A类、中欧天启18个月定期开放债券型证券投资基金C类、中欧天启18个月定期开放债券型证券投资基金A类、财通鼎欣量化选股18个月定期开放混合型证券投资基金、国投瑞银港股通6个月定期开放股票型发起式证券投资基金、鹏华永泽18个月定期开放债券型证券投资基金、鹏华永泰18个月定期开放债券型证券投资基金、鹏华永安18个月定期开放债券型证券投资基金、招商招盈18个月定期开放债券型证券投资基金、广发鑫盛18个月定期开放混合型证券投资基金、博时安誉18个月定期开放债券型证券投资基金、博时安荣18个月定期开放债券型证券投资基金、华夏恒益18个月定期开放债券型证券投资基金、九泰锐和18个月定期开放混合型证券投资基金、鹏华尊惠18个月定期开放混合型证券投资基金C类、鹏华尊惠18个月定期开放混合型证券投资基金A类、银华信用精选18个月定期开放债券型证券投资基金、财通内需增长12个月定期开放混合型证券投资基金、德邦纯债18个月定期开放债券型证券投资基金C类、德邦纯债18个月定期开放债券型证券投资基金A类、广发汇安18个月定期开放债券型证券投资基金C类、广发汇安18个月定期开放债券型证券投资基金A类、工银瑞信瑞盈18个月定期开放债券型证券投资基金、富国融享18个月定期开放混合型证券投资基金C类、富国融享18个月定期开放混合型证券投资基金A类、博时弘裕18个月定期开放债券型证券投资基金C类、博时弘裕18个月定期开放债券型证券投资基金A类、博时弘康18个月定期开放债券型证券投资基金C类、博时弘康18个月定期开放债券型证券投资基金A类、博时安瑞18个月定期开放债券型证券投资基金C类、博时安瑞18个月定期开放债券型证券投资基金A类、博时安源18个月定期开放债券型证券投资基金C类、博时安源18个月定期开放债券型证券投资基金A类、博时安润18个月定期开放债券型证券投资基金C类、博时安润18个月定期开放债券型证券投资基金A类、博时安泰18个月定期开放债券型证券投资基金C类、博时安泰18个月定期开放债券型证券投资基金A类、博时安慧18个月定期开放债券型证券投资基金C类、博时安慧18个月定期开放债券型证券投资基金A类、博时安恒18个月定期开放债券型证券投资基金C类、博时安恒18个月定期开放债券型证券投资基金A类、博时安和18个月定期开放债券型证券投资基金C类、博时安和18个月定期开放债券型证券投资基金A类、华富恒富18个月定期开放债券型证券投资基金C类、华富恒富18个月定期开放债券型证券投资基金A类、华安聚利18个月定期开放债券型证券投资基金C类\n",
      "-----output diff-----\n",
      "{\"relevant APIs\": [{\"api_id\": \"0\", \"tool_name\": \"条件选股\", \"api_name\": \"查询涨跌幅\", \"required_parameters\": [\"等于\", \"0.0182\", \"昨日\"], \"rely_apis\": []}, {\"api_id\": \"1\", \"tool_name\": \"条件选股\", \"api_name\": \"查询开盘价\", \"required_parameters\": [\"等于\", \"10.94\", \"\u001b[31m上\u001b[0m\u001b[31m月\u001b[0m\u001b[31m\"\u001b[0m\u001b[31m]\u001b[0m\u001b[31m,\u001b[0m\u001b[31m \u001b[0m\u001b[31m\"\u001b[0m\u001b[31mr\u001b[0m\u001b[31me\u001b[0m\u001b[31ml\u001b[0m\u001b[31my\u001b[0m\u001b[31m_\u001b[0m\u001b[31ma\u001b[0m\u001b[31mp\u001b[0m\u001b[31mi\u001b[0m\u001b[31ms\u001b[0m\u001b[31m\"\u001b[0m\u001b[31m:\u001b[0m\u001b[31m \u001b[0m\u001b[31m[\u001b[0m\u001b[31m]\u001b[0m\u001b[31m}\u001b[0m\u001b[31m,\u001b[0m\u001b[31m \u001b[0m\u001b[31m{\u001b[0m\u001b[31m\"\u001b[0m\u001b[31ma\u001b[0m\u001b[31mp\u001b[0m\u001b[31mi\u001b[0m\u001b[31m_\u001b[0m\u001b[31mi\u001b[0m\u001b[31md\u001b[0m\u001b[31m\"\u001b[0m\u001b[31m:\u001b[0m\u001b[31m \u001b[0m\u001b[31m\"\u001b[0m\u001b[31m2\u001b[0m\u001b[31m\"\u001b[0m\u001b[31m,\u001b[0m\u001b[31m \u001b[0m\u001b[31m\"\u001b[0m\u001b[31mt\u001b[0m\u001b[31mo\u001b[0mo\u001b[31ml\u001b[0m\u001b[31m_\u001b[0m\u001b[31mn\u001b[0m\u001b[31ma\u001b[0m\u001b[31mm\u001b[0m\u001b[31me\u001b[0m\u001b[31m\"\u001b[0m\u001b[31m:\u001b[0m\u001b[31m \u001b[0m\u001b[31m\"\u001b[0m\u001b[31m逻\u001b[0m\u001b[31m辑\u001b[0m\u001b[31m运\u001b[0m\u001b[31m算\u001b[0m\u001b[31m\"\u001b[0m\u001b[31m,\u001b[0m\u001b[31m \u001b[0m\u001b[31m\"\u001b[0m\u001b[31ma\u001b[0m\u001b[31mp\u001b[0m\u001b[31mi\u001b[0m\u001b[31m_\u001b[0m\u001b[31mn\u001b[0m\u001b[31ma\u001b[0m\u001b[31mm\u001b[0m\u001b[31me\u001b[0m\u001b[31m\"\u001b[0m\u001b[31m:\u001b[0m\u001b[31m \u001b[0m\u001b[31m\"\u001b[0m\u001b[31m或\u001b[0m\u001b[31m运\u001b[0m\u001b[31m算\u001b[0m\u001b[31m\"\u001b[0m\u001b[31m,\u001b[0m\u001b[31m \u001b[0m\u001b[31m\"\u001b[0m\u001b[31mr\u001b[0m\u001b[31me\u001b[0m\u001b[31mq\u001b[0m\u001b[31mu\u001b[0m\u001b[31mi\u001b[0m\u001b[31mr\u001b[0m\u001b[31me\u001b[0m\u001b[31md\u001b[0m\u001b[31m_\u001b[0m\u001b[31mp\u001b[0m\u001b[31ma\u001b[0m\u001b[31mr\u001b[0m\u001b[31ma\u001b[0m\u001b[31mm\u001b[0m\u001b[31me\u001b[0m\u001b[31mt\u001b[0m\u001b[31me\u001b[0m\u001b[31mr\u001b[0m\u001b[31ms\u001b[0m\u001b[31m\"\u001b[0m\u001b[31m:\u001b[0m\u001b[31m \u001b[0m\u001b[31m[\u001b[0m\u001b[31m\"\u001b[0m\u001b[31ma\u001b[0m\u001b[31mp\u001b[0m\u001b[31mi\u001b[0m\u001b[31m_\u001b[0m\u001b[31m0\u001b[0m\u001b[31m的\u001b[0m\u001b[31m结\u001b[0m\u001b[31m果\u001b[0m\u001b[31m\"\u001b[0m\u001b[31m,\u001b[0m\u001b[31m \u001b[0m\u001b[31m\"\u001b[0m\u001b[31ma\u001b[0m\u001b[31mp\u001b[0m\u001b[31mi\u001b[0m\u001b[31m_\u001b[0m\u001b[31m1\u001b[0m\u001b[31m的\u001b[0m\u001b[31m结\u001b[0m\u001b[31m果\u001b[0m\u001b[31m\"\u001b[0m\u001b[31m]\u001b[0m\u001b[31m,\u001b[0m\u001b[31m \u001b[0m\u001b[31m\"\u001b[0m\u001b[31mr\u001b[0m\u001b[31me\u001b[0m\u001b[31ml\u001b[0m\u001b[31my\u001b[0m\u001b[31m_\u001b[0m\u001b[31ma\u001b[0m\u001b[31mp\u001b[0m\u001b[31mi\u001b[0m\u001b[31ms\u001b[0m\u001b[31m\"\u001b[0m\u001b[31m:\u001b[0m\u001b[31m \u001b[0m\u001b[31m[\u001b[0m\u001b[31m\"\u001b[0m\u001b[31m0\u001b[0m\u001b[31m\"\u001b[0m\u001b[31m,\u001b[0m\u001b[31m \u001b[0m\u001b[31m\"\u001b[0m\u001b[31m1\u001b[0m\u001b[31m\"\u001b[0m\u001b[31m]\u001b[0m\u001b[31m}\u001b[0m\u001b[31m]\u001b[0m\u001b[31m,\u001b[0m\u001b[31m \u001b[0m\u001b[31m\"\u001b[0m\u001b[31mr\u001b[0m\u001b[31me\u001b[0m\u001b[31ms\u001b[0m\u001b[31mu\u001b[0m\u001b[31ml\u001b[0m\u001b[31mt\u001b[0m\u001b[31m\"\u001b[0m\u001b[31m:\u001b[0m\u001b[31m \u001b[0m\u001b[31m[\u001b[0m\u001b[31m\"\u001b[0m\u001b[31ma\u001b[0m\u001b[31mp\u001b[0m\u001b[31mi\u001b[0m\u001b[31m_\u001b[0m\u001b[31m2\u001b[0m\u001b[31m的\u001b[0m\u001b[31m结\u001b[0m\u001b[31m果\u001b[0m\u001b[31m\"\u001b[0m\u001b[31m]\u001b[0m\u001b[31m}\u001b[0m\u001b[31m}\u001b[0m\n",
      "{\"relevant APIs\": [{\"api_id\": \"0\", \"tool_name\": \"条件选股\", \"api_name\": \"查询涨跌幅\", \"required_parameters\": [\"等于\", \"0.0182\", \"昨日\"], \"rely_apis\": []}, {\"api_id\": \"1\", \"tool_name\": \"条件选股\", \"api_name\": \"查询开盘价\", \"required_parameters\": [\"等于\", \"10.94\", \"1个月\"], \"rely_apis\": []}, {\"api_id\": \"2\", \"tool_name\": \"逻辑运算\", \"api_name\": \"或运算\", \"required_parameters\": [\"api_0的结果\", \"api_1的结果\"], \"rely_apis\": [\"0\", \"1\"]}], \"result\": [\"api_2的结果\"]}\n",
      "\n"
     ]
    },
    {
     "name": "stderr",
     "output_type": "stream",
     "text": [
      "Both `max_new_tokens` (=1024) and `max_length`(=8192) seem to have been set. `max_new_tokens` will take precedence. Please refer to the documentation for more information. (https://huggingface.co/docs/transformers/main/en/main_classes/text_generation)\n"
     ]
    },
    {
     "name": "stdout",
     "output_type": "stream",
     "text": [
      "-----data index-----\n",
      "98\n",
      "-----query input-----\n",
      "你现在是一个金融领域专家，你需要通过编排api来得到用户query的答案，输出json格式。query是：我购买2次新能源80，第一次是1000块3年前，第二次是2000块1年前，现在卖出了，会赚多少钱？ \n",
      " query中提到的产品标准名可能是：同泰新能源优选1年持有期股票型证券投资基金C类、同泰新能源优选1年持有期股票型证券投资基金A类、银河中债-1-3年久期央企20债券指数证券投资基金、鹏华沪深300交易型开放式指数证券投资基金(2013)、中邮中债-1-3年久期央企20债券指数证券投资基金C类、中邮中债-1-3年久期央企20债券指数证券投资基金A类、华宝中证1000指数证券投资基金C类、华宝中证1000指数证券投资基金A类、诺德中证研发创新100指数型证券投资基金、鹏华国证2000指数增强型证券投资基金C类、鹏华国证2000指数增强型证券投资基金A类、鹏华中证1000指数增强型证券投资基金C类、鹏华中证1000指数增强型证券投资基金A类、长信中证1000指数增强型证券投资基金C类、长信中证1000指数增强型证券投资基金A类、鑫元国证2000指数增强型证券投资基金C类、鑫元国证2000指数增强型证券投资基金A类、财通中证1000指数增强型证券投资基金C类、财通中证1000指数增强型证券投资基金A类、浙商中证1000指数增强型证券投资基金C类、浙商中证1000指数增强型证券投资基金A类、明亚中证1000指数增强型证券投资基金C类、明亚中证1000指数增强型证券投资基金A类、招商国证2000指数增强型证券投资基金C类、招商国证2000指数增强型证券投资基金A类、招商中证2000指数增强型证券投资基金C类、招商中证2000指数增强型证券投资基金A类、招商中证1000指数增强型证券投资基金C类、招商中证1000指数增强型证券投资基金A类、富国中证1000优选股票型证券投资基金C类、富国中证1000优选股票型证券投资基金A类、太平中证1000指数增强型证券投资基金C类、太平中证1000指数增强型证券投资基金A类、天弘国证2000指数增强型证券投资基金C类、天弘国证2000指数增强型证券投资基金A类、天弘中证1000指数增强型证券投资基金C类、天弘中证1000指数增强型证券投资基金A类、国金中证1000指数增强型证券投资基金C类、国金中证1000指数增强型证券投资基金A类、博道中证1000指数增强型证券投资基金C类、博道中证1000指数增强型证券投资基金A类、博时中证1000指数增强型证券投资基金C类、博时中证1000指数增强型证券投资基金A类、华安中证1000指数增强型证券投资基金C类、华安中证1000指数增强型证券投资基金A类、华夏中证1000指数增强型证券投资基金C类、华夏中证1000指数增强型证券投资基金A类、兴银中证1000指数增强型证券投资基金C类、兴银中证1000指数增强型证券投资基金A类、中银中证1000指数增强型证券投资基金C类\n",
      "-----output diff-----\n",
      "{\"relevant APIs\": [{\"api_id\": \"0\", \"api_name\": \"查询代码\", \"required_parameters\": [[\"\u001b[31m华\u001b[0m\u001b[31m夏\u001b[0m\u001b[31m中\u001b[0m\u001b[31m证\u001b[0m\u001b[31m新\u001b[0m\u001b[31m能\u001b[0m\u001b[31m源\u001b[0m\u001b[31m交\u001b[0m\u001b[31m易\u001b[0m\u001b[31m型\u001b[0m\u001b[31m开\u001b[0m\u001b[31m放\u001b[0m\u001b[31m式\u001b[0m\u001b[31m指\u001b[0m\u001b[31m数\u001b[0m\u001b[31m证\u001b[0m\u001b[31m券\u001b[0m\u001b[31m投\u001b[0m\u001b[31m资\u001b[0m\u001b[31m基\u001b[0m\u001b[31m金\u001b[0m\u001b[31m\"\u001b[0m\u001b[31m]\u001b[0m], \"\u001b[31mr\u001b[0m\u001b[31me\u001b[0m\u001b[31ml\u001b[0m\u001b[31my\u001b[0m_\u001b[31ma\u001b[0m\u001b[31mp\u001b[0m\u001b[31mi\u001b[0m\u001b[31ms\u001b[0m\": \u001b[31m[\u001b[0m\u001b[31m]\u001b[0m\u001b[31m,\u001b[0m\u001b[31m \u001b[0m\u001b[31m\"\u001b[0m\u001b[31mt\u001b[0m\u001b[31mo\u001b[0m\u001b[31mo\u001b[0m\u001b[31ml\u001b[0m\u001b[31m_\u001b[0m\u001b[31mn\u001b[0ma\u001b[31mm\u001b[0m\u001b[31me\u001b[0m\u001b[31m\"\u001b[0m\u001b[31m:\u001b[0m\u001b[31m \u001b[0m\"\u001b[31m基\u001b[0m\u001b[31m金\u001b[0m\u001b[31m查\u001b[0m\u001b[31m询\u001b[0m\"\u001b[31m}\u001b[0m\u001b[31m,\u001b[0m\u001b[31m \u001b[0m\u001b[31m{\u001b[0m\u001b[31m\"\u001b[0m\u001b[31ma\u001b[0m\u001b[31mp\u001b[0m\u001b[31mi\u001b[0m\u001b[31m_\u001b[0m\u001b[31mi\u001b[0m\u001b[31md\u001b[0m\": \"\u001b[31m1\u001b[0m\u001b[31m\"\u001b[0m\u001b[31m,\u001b[0m\u001b[31m \u001b[0m\u001b[31m\"\u001b[0m\u001b[31ma\u001b[0m\u001b[31mp\u001b[0m\u001b[31mi\u001b[0m\u001b[31m_\u001b[0m\u001b[31mn\u001b[0m\u001b[31ma\u001b[0m\u001b[31mm\u001b[0m\u001b[31me\u001b[0m\u001b[31m\"\u001b[0m\u001b[31m:\u001b[0m\u001b[31m \u001b[0m\u001b[31m\"\u001b[0m\u001b[31m查\u001b[0m\u001b[31m询\u001b[0m\u001b[31m近\u001b[0m\u001b[31m期\u001b[0m\u001b[31m收\u001b[0m\u001b[31m益\u001b[0m\u001b[31m率\u001b[0m\u001b[31m\"\u001b[0m\u001b[31m,\u001b[0m\u001b[31m \u001b[0m\u001b[31m\"\u001b[0m\u001b[31mr\u001b[0m\u001b[31me\u001b[0m\u001b[31mq\u001b[0m\u001b[31mu\u001b[0m\u001b[31mi\u001b[0m\u001b[31mr\u001b[0m\u001b[31me\u001b[0m\u001b[31md\u001b[0m_\u001b[31mp\u001b[0m\u001b[31ma\u001b[0m\u001b[31mr\u001b[0m\u001b[31ma\u001b[0m\u001b[31mm\u001b[0m\u001b[31me\u001b[0m\u001b[31mt\u001b[0m\u001b[31me\u001b[0m\u001b[31mr\u001b[0m\u001b[31ms\u001b[0m\"\u001b[31m:\u001b[0m\u001b[31m \u001b[0m\u001b[31m[\u001b[0m\"\u001b[31ma\u001b[0m\u001b[31mp\u001b[0m\u001b[31mi\u001b[0m\u001b[31m_\u001b[0m\u001b[31m0\u001b[0m\u001b[31m的\u001b[0m\u001b[31m结\u001b[0m\u001b[31m果\u001b[0m\u001b[31m\"\u001b[0m\u001b[31m,\u001b[0m\u001b[31m \u001b[0m\u001b[31m\"\u001b[0m\u001b[31m3\u001b[0m\u001b[31m年\u001b[0m\u001b[31m\"\u001b[0m\u001b[31m]\u001b[0m\u001b[31m,\u001b[0m\u001b[31m \u001b[0m\u001b[31m\"\u001b[0m\u001b[31mr\u001b[0m\u001b[31me\u001b[0m\u001b[31ml\u001b[0m\u001b[31my\u001b[0m\u001b[31m_\u001b[0m\u001b[31ma\u001b[0m\u001b[31mp\u001b[0m\u001b[31mi\u001b[0m\u001b[31ms\u001b[0m\u001b[31m\"\u001b[0m\u001b[31m:\u001b[0m\u001b[31m \u001b[0m\u001b[31m[\u001b[0m\"\u001b[31m0\u001b[0m\u001b[31m\"\u001b[0m\u001b[31m]\u001b[0m\u001b[31m,\u001b[0m\u001b[31m \u001b[0m\u001b[31m\"\u001b[0m\u001b[31mt\u001b[0m\u001b[31mo\u001b[0m\u001b[31mo\u001b[0m\u001b[31ml\u001b[0m\u001b[31m_\u001b[0m\u001b[31mn\u001b[0m\u001b[31ma\u001b[0m\u001b[31mm\u001b[0m\u001b[31me\u001b[0m\u001b[31m\"\u001b[0m\u001b[31m:\u001b[0m\u001b[31m \u001b[0m\u001b[31m\"\u001b[0m\u001b[31m基\u001b[0m\u001b[31m金\u001b[0m\u001b[31m查\u001b[0m\u001b[31m询\u001b[0m\u001b[31m\"\u001b[0m\u001b[31m}\u001b[0m\u001b[31m,\u001b[0m\u001b[31m \u001b[0m\u001b[31m{\u001b[0m\u001b[31m\"\u001b[0m\u001b[31ma\u001b[0m\u001b[31mp\u001b[0m\u001b[31mi\u001b[0m\u001b[31m_\u001b[0m\u001b[31mi\u001b[0m\u001b[31md\u001b[0m\u001b[31m\"\u001b[0m\u001b[31m:\u001b[0m\u001b[31m \u001b[0m\u001b[31m\"\u001b[0m\u001b[31m2\u001b[0m\u001b[31m\"\u001b[0m\u001b[31m,\u001b[0m\u001b[31m \u001b[0m\u001b[31m\"\u001b[0m\u001b[31ma\u001b[0m\u001b[31mp\u001b[0m\u001b[31mi\u001b[0m\u001b[31m_\u001b[0m\u001b[31mn\u001b[0m\u001b[31ma\u001b[0m\u001b[31mm\u001b[0m\u001b[31me\u001b[0m\u001b[31m\"\u001b[0m\u001b[31m:\u001b[0m\u001b[31m \u001b[0m\u001b[31m\"\u001b[0m\u001b[31m乘\u001b[0m\u001b[31m法\u001b[0m\u001b[31m计\u001b[0m\u001b[31m算\u001b[0m\u001b[31m\"\u001b[0m\u001b[31m,\u001b[0m\u001b[31m \u001b[0m\u001b[31m\"\u001b[0m\u001b[31mr\u001b[0m\u001b[31me\u001b[0m\u001b[31mq\u001b[0m\u001b[31mu\u001b[0m\u001b[31mi\u001b[0m\u001b[31mr\u001b[0m\u001b[31me\u001b[0m\u001b[31md\u001b[0m\u001b[31m_\u001b[0m\u001b[31mp\u001b[0m\u001b[31ma\u001b[0m\u001b[31mr\u001b[0m\u001b[31ma\u001b[0m\u001b[31mm\u001b[0m\u001b[31me\u001b[0m\u001b[31mt\u001b[0m\u001b[31me\u001b[0m\u001b[31mr\u001b[0m\u001b[31ms\u001b[0m\u001b[31m\"\u001b[0m\u001b[31m:\u001b[0m\u001b[31m \u001b[0m\u001b[31m[\u001b[0m\u001b[31m\"\u001b[0m\u001b[31ma\u001b[0m\u001b[31mp\u001b[0m\u001b[31mi\u001b[0m\u001b[31m_\u001b[0m\u001b[31m1\u001b[0m\u001b[31m的\u001b[0m\u001b[31m结\u001b[0m\u001b[31m果\u001b[0m\u001b[31m\"\u001b[0m\u001b[31m,\u001b[0m\u001b[31m \u001b[0m\u001b[31m\"\u001b[0m\u001b[31m1\u001b[0m\u001b[31m0\u001b[0m\u001b[31m0\u001b[0m0\"], \"\u001b[31mr\u001b[0m\u001b[31me\u001b[0m\u001b[31ml\u001b[0m\u001b[31my\u001b[0m_\u001b[31ma\u001b[0m\u001b[31mp\u001b[0m\u001b[31mi\u001b[0m\u001b[31ms\u001b[0m\": \u001b[31m[\u001b[0m\u001b[31m\"\u001b[0m\u001b[31m1\u001b[0m\u001b[31m\"\u001b[0m\u001b[31m]\u001b[0m\u001b[31m,\u001b[0m\u001b[31m \u001b[0m\u001b[31m\"\u001b[0m\u001b[31mt\u001b[0m\u001b[31mo\u001b[0m\u001b[31mo\u001b[0m\u001b[31ml\u001b[0m\u001b[31m_\u001b[0m\u001b[31mn\u001b[0m\u001b[31ma\u001b[0m\u001b[31mm\u001b[0m\u001b[31me\u001b[0m\": \"\u001b[31m数\u001b[0m\u001b[31m值\u001b[0m\u001b[31m计\u001b[0m\u001b[31m算\u001b[0m\"\u001b[31m}\u001b[0m\u001b[31m,\u001b[0m\u001b[31m \u001b[0m\u001b[31m{\u001b[0m\u001b[31m\"\u001b[0ma\u001b[31mp\u001b[0m\u001b[31mi\u001b[0m\u001b[31m_\u001b[0m\u001b[31mi\u001b[0m\u001b[31md\u001b[0m\"\u001b[31m:\u001b[0m\u001b[31m \u001b[0m\u001b[31m\"\u001b[0m\u001b[31m3\u001b[0m\", \"\u001b[31ma\u001b[0m\u001b[31mp\u001b[0m\u001b[31mi\u001b[0m\u001b[31m_\u001b[0m\u001b[31mn\u001b[0m\u001b[31ma\u001b[0m\u001b[31mm\u001b[0m\u001b[31me\u001b[0m\u001b[31m\"\u001b[0m\u001b[31m:\u001b[0m\u001b[31m \u001b[0m\u001b[31m\"\u001b[0m\u001b[31m查\u001b[0m\u001b[31m询\u001b[0m\u001b[31m近\u001b[0m\u001b[31m期\u001b[0m\u001b[31m收\u001b[0m\u001b[31m益\u001b[0m\u001b[31m率\u001b[0m\"\u001b[31m,\u001b[0m \u001b[31m\"\u001b[0m\u001b[31mr\u001b[0m\u001b[31me\u001b[0m\u001b[31mq\u001b[0m\u001b[31mu\u001b[0m\u001b[31mi\u001b[0m\u001b[31mr\u001b[0m\u001b[31me\u001b[0m\u001b[31md\u001b[0m\u001b[31m_\u001b[0m\u001b[31mp\u001b[0m\u001b[31ma\u001b[0m\u001b[31mr\u001b[0m\u001b[31ma\u001b[0m\u001b[31mm\u001b[0m\u001b[31me\u001b[0m\u001b[31mt\u001b[0m\u001b[31me\u001b[0m\u001b[31mr\u001b[0m\u001b[31ms\u001b[0m\"\u001b[31m:\u001b[0m\u001b[31m \u001b[0m\u001b[31m[\u001b[0m\"\u001b[31ma\u001b[0m\u001b[31mp\u001b[0m\u001b[31mi\u001b[0m\u001b[31m_\u001b[0m\u001b[31m0\u001b[0m\u001b[31m的\u001b[0m\u001b[31m结\u001b[0m\u001b[31m果\u001b[0m\u001b[31m\"\u001b[0m\u001b[31m,\u001b[0m\u001b[31m \u001b[0m\u001b[31m\"\u001b[0m\u001b[31m1\u001b[0m\u001b[31m年\u001b[0m\u001b[31m\"\u001b[0m\u001b[31m]\u001b[0m\u001b[31m,\u001b[0m\u001b[31m \u001b[0m\u001b[31m\"\u001b[0m\u001b[31mr\u001b[0m\u001b[31me\u001b[0m\u001b[31ml\u001b[0m\u001b[31my\u001b[0m\u001b[31m_\u001b[0m\u001b[31ma\u001b[0m\u001b[31mp\u001b[0m\u001b[31mi\u001b[0m\u001b[31ms\u001b[0m\u001b[31m\"\u001b[0m\u001b[31m:\u001b[0m\u001b[31m \u001b[0m\u001b[31m[\u001b[0m\"\u001b[31m0\u001b[0m\u001b[31m\"\u001b[0m\u001b[31m]\u001b[0m\u001b[31m,\u001b[0m\u001b[31m \u001b[0m\u001b[31m\"\u001b[0m\u001b[31mt\u001b[0m\u001b[31mo\u001b[0m\u001b[31mo\u001b[0m\u001b[31ml\u001b[0m\u001b[31m_\u001b[0m\u001b[31mn\u001b[0m\u001b[31ma\u001b[0m\u001b[31mm\u001b[0m\u001b[31me\u001b[0m\u001b[31m\"\u001b[0m\u001b[31m:\u001b[0m\u001b[31m \u001b[0m\u001b[31m\"\u001b[0m\u001b[31m基\u001b[0m\u001b[31m金\u001b[0m\u001b[31m查\u001b[0m\u001b[31m询\u001b[0m\u001b[31m\"\u001b[0m\u001b[31m}\u001b[0m\u001b[31m,\u001b[0m\u001b[31m \u001b[0m\u001b[31m{\u001b[0m\u001b[31m\"\u001b[0m\u001b[31ma\u001b[0m\u001b[31mp\u001b[0m\u001b[31mi\u001b[0m\u001b[31m_\u001b[0m\u001b[31mi\u001b[0m\u001b[31md\u001b[0m\u001b[31m\"\u001b[0m\u001b[31m:\u001b[0m\u001b[31m \u001b[0m\u001b[31m\"\u001b[0m\u001b[31m4\u001b[0m\u001b[31m\"\u001b[0m\u001b[31m,\u001b[0m\u001b[31m \u001b[0m\u001b[31m\"\u001b[0m\u001b[31ma\u001b[0m\u001b[31mp\u001b[0m\u001b[31mi\u001b[0m\u001b[31m_\u001b[0m\u001b[31mn\u001b[0m\u001b[31ma\u001b[0m\u001b[31mm\u001b[0me\u001b[31m\"\u001b[0m\u001b[31m:\u001b[0m\u001b[31m \u001b[0m\u001b[31m\"\u001b[0m\u001b[31m乘\u001b[0m\u001b[31m法\u001b[0m\u001b[31m计\u001b[0m\u001b[31m算\u001b[0m\u001b[31m\"\u001b[0m\u001b[31m,\u001b[0m\u001b[31m \u001b[0m\u001b[31m\"\u001b[0m\u001b[31mr\u001b[0m\u001b[31me\u001b[0m\u001b[31mq\u001b[0m\u001b[31mu\u001b[0m\u001b[31mi\u001b[0m\u001b[31mr\u001b[0m\u001b[31me\u001b[0m\u001b[31md\u001b[0m_\u001b[31mp\u001b[0m\u001b[31ma\u001b[0m\u001b[31mr\u001b[0m\u001b[31ma\u001b[0m\u001b[31mm\u001b[0m\u001b[31me\u001b[0m\u001b[31mt\u001b[0m\u001b[31me\u001b[0m\u001b[31mr\u001b[0m\u001b[31ms\u001b[0m\u001b[31m\"\u001b[0m\u001b[31m:\u001b[0m\u001b[31m \u001b[0m\u001b[31m[\u001b[0m\"\u001b[31ma\u001b[0m\u001b[31mp\u001b[0m\u001b[31mi\u001b[0m\u001b[31m_\u001b[0m\u001b[31m3\u001b[0m\u001b[31m的\u001b[0m\u001b[31m结\u001b[0m\u001b[31m果\u001b[0m\u001b[31m\"\u001b[0m\u001b[31m,\u001b[0m\u001b[31m \u001b[0m\u001b[31m\"\u001b[0m\u001b[31m2\u001b[0m\u001b[31m0\u001b[0m\u001b[31m0\u001b[0m\u001b[31m0\u001b[0m\u001b[31m\"\u001b[0m\u001b[31m]\u001b[0m\u001b[31m,\u001b[0m\u001b[31m \u001b[0m\u001b[31m\"\u001b[0m\u001b[31mr\u001b[0m\u001b[31me\u001b[0m\u001b[31ml\u001b[0m\u001b[31my\u001b[0m\u001b[31m_\u001b[0m\u001b[31ma\u001b[0m\u001b[31mp\u001b[0m\u001b[31mi\u001b[0m\u001b[31ms\u001b[0m\u001b[31m\"\u001b[0m\u001b[31m:\u001b[0m\u001b[31m \u001b[0m\u001b[31m[\u001b[0m\u001b[31m\"\u001b[0m\u001b[31m3\u001b[0m\"\u001b[31m]\u001b[0m\u001b[31m,\u001b[0m\u001b[31m \u001b[0m\u001b[31m\"\u001b[0m\u001b[31mt\u001b[0m\u001b[31mo\u001b[0m\u001b[31mo\u001b[0m\u001b[31ml\u001b[0m\u001b[31m_\u001b[0m\u001b[31mn\u001b[0ma\u001b[31mm\u001b[0m\u001b[31me\u001b[0m\u001b[31m\"\u001b[0m\u001b[31m:\u001b[0m\u001b[31m \u001b[0m\"\u001b[31m数\u001b[0m\u001b[31m值\u001b[0m\u001b[31m计\u001b[0m\u001b[31m算\u001b[0m\"\u001b[31m}\u001b[0m\u001b[31m,\u001b[0m\u001b[31m \u001b[0m\u001b[31m{\u001b[0m\u001b[31m\"\u001b[0m\u001b[31ma\u001b[0m\u001b[31mp\u001b[0m\u001b[31mi\u001b[0m\u001b[31m_\u001b[0m\u001b[31mi\u001b[0m\u001b[31md\u001b[0m\": \"\u001b[31m5\u001b[0m\u001b[31m\"\u001b[0m\u001b[31m,\u001b[0m\u001b[31m \u001b[0m\"\u001b[31ma\u001b[0m\u001b[31mp\u001b[0m\u001b[31mi\u001b[0m\u001b[31m_\u001b[0m\u001b[31mn\u001b[0m\u001b[31ma\u001b[0m\u001b[31mm\u001b[0m\u001b[31me\u001b[0m\u001b[31m\"\u001b[0m\u001b[31m:\u001b[0m\u001b[31m \u001b[0m\u001b[31m\"\u001b[0m\u001b[31m加\u001b[0m\u001b[31m法\u001b[0m\u001b[31m计\u001b[0m\u001b[31m算\u001b[0m\u001b[31m\"\u001b[0m\u001b[31m,\u001b[0m\u001b[31m \u001b[0m\u001b[31m\"\u001b[0mr\u001b[31me\u001b[0m\u001b[31mq\u001b[0m\u001b[31mu\u001b[0m\u001b[31mi\u001b[0m\u001b[31mr\u001b[0m\u001b[31me\u001b[0m\u001b[31md\u001b[0m\u001b[31m_\u001b[0m\u001b[31mp\u001b[0m\u001b[31ma\u001b[0m\u001b[31mr\u001b[0m\u001b[31ma\u001b[0m\u001b[31mm\u001b[0m\u001b[31me\u001b[0m\u001b[31mt\u001b[0m\u001b[31me\u001b[0m\u001b[31mr\u001b[0m\u001b[31ms\u001b[0m\u001b[31m\"\u001b[0m\u001b[31m:\u001b[0m\u001b[31m \u001b[0m\u001b[31m[\u001b[0m\u001b[31m\"\u001b[0m\u001b[31ma\u001b[0m\u001b[31mp\u001b[0m\u001b[31mi\u001b[0m\u001b[31m_\u001b[0m\u001b[31m2\u001b[0m\u001b[31m的\u001b[0m\u001b[31m结\u001b[0m\u001b[31m果\u001b[0m\u001b[31m\"\u001b[0m\u001b[31m,\u001b[0m\u001b[31m \u001b[0m\u001b[31m\"\u001b[0m\u001b[31ma\u001b[0m\u001b[31mp\u001b[0m\u001b[31mi\u001b[0m\u001b[31m_\u001b[0m\u001b[31m4\u001b[0m\u001b[31m的\u001b[0m\u001b[31m结\u001b[0m\u001b[31m果\u001b[0m\u001b[31m\"\u001b[0m\u001b[31m]\u001b[0m\u001b[31m,\u001b[0m\u001b[31m \u001b[0m\u001b[31m\"\u001b[0m\u001b[31mr\u001b[0m\u001b[31me\u001b[0m\u001b[31ml\u001b[0m\u001b[31my\u001b[0m\u001b[31m_\u001b[0m\u001b[31ma\u001b[0m\u001b[31mp\u001b[0m\u001b[31mi\u001b[0m\u001b[31ms\u001b[0m\u001b[31m\"\u001b[0m\u001b[31m:\u001b[0m\u001b[31m \u001b[0m\u001b[31m[\u001b[0m\u001b[31m\"\u001b[0m\u001b[31m2\u001b[0m\u001b[31m\"\u001b[0m\u001b[31m,\u001b[0m\u001b[31m \u001b[0m\u001b[31m\"\u001b[0m\u001b[31m4\u001b[0m\"\u001b[31m]\u001b[0m\u001b[31m,\u001b[0m\u001b[31m \u001b[0m\u001b[31m\"\u001b[0m\u001b[31mt\u001b[0m\u001b[31mo\u001b[0m\u001b[31mo\u001b[0m\u001b[31ml\u001b[0m\u001b[31m_\u001b[0m\u001b[31mn\u001b[0ma\u001b[31mm\u001b[0m\u001b[31me\u001b[0m\u001b[31m\"\u001b[0m\u001b[31m:\u001b[0m\u001b[31m \u001b[0m\"\u001b[31m数\u001b[0m\u001b[31m值\u001b[0m\u001b[31m计\u001b[0m\u001b[31m算\u001b[0m\"\u001b[31m}\u001b[0m\u001b[31m]\u001b[0m\u001b[31m,\u001b[0m\u001b[31m \u001b[0m\u001b[31m\"\u001b[0m\u001b[31mr\u001b[0m\u001b[31me\u001b[0m\u001b[31ms\u001b[0m\u001b[31mu\u001b[0m\u001b[31ml\u001b[0m\u001b[31mt\u001b[0m\": \u001b[31m[\u001b[0m\u001b[31m\"\u001b[0m\u001b[31ma\u001b[0m\u001b[31mp\u001b[0m\u001b[31mi\u001b[0m\u001b[31m_\u001b[0m\u001b[31m5\u001b[0m\u001b[31m的\u001b[0m\u001b[31m结\u001b[0m\u001b[31m果\u001b[0m\u001b[31m\"\u001b[0m\u001b[31m]\u001b[0m\u001b[31m}\u001b[0m\u001b[31mired_parameters\": [\"api_2的结果\", \"api_5的结果\"], \"rely_apis\": [\"2\", \"5\"], \"tool_name\": \"数值计算\"}, {\"api_id\": \"7\", \"api_name\": \"减法计算\", \"required_parameters\": [\"api_4的结果\", \"api_6的结果\"], \"rely_apis\": [\"4\", \"6\"], \"tool_name\": \"数值计算\"}], \"result\": [\"api_7的结果\"]}\u001b[0m\n",
      "{\"relevant APIs\": [{\"api_id\": \"0\", \"api_name\": \"查询代码\", \"required_parameters\": [[\"立新能源\"]], \"rely_apis\": [], \"tool_name\": \"股票查询\"}, {\"api_id\": \"1\", \"api_name\": \"查询涨跌幅\", \"required_parameters\": [\"api_0的结果\", \"3年\"], \"rely_apis\": [\"0\"], \"tool_name\": \"股票查询\"}, {\"api_id\": \"2\", \"api_name\": \"查询涨跌幅\", \"required_parameters\": [\"api_0的结果\", \"1年\"], \"rely_apis\": [\"0\"], \"tool_name\": \"股票查询\"}, {\"api_id\": \"3\", \"api_name\": \"乘法计算\", \"required_parameters\": [\"api_1的结果\", \"1000.3\"], \"rely_apis\": [\"1\"], \"tool_name\": \"数值计算\"}, {\"api_id\": \"4\", \"api_name\": \"乘法计算\", \"required_parameters\": [\"api_2的结果\", \"2000.1\"], \"rely_apis\": [\"2\"], \"tool_name\": \"数值计算\"}, {\"api_id\": \"5\", \"api_name\": \"加法计算\", \"required_parameters\": [\"api_3的结果\", \"api_4的结果\"], \"rely_apis\": [\"3\", \"4\"], \"tool_name\": \"数值计算\"}, {\"api_id\": \"6\", \"api_name\": \"减法计算\", \"required_parameters\": [\"api_2的结果\", \"api_5的结果\"], \"rely_apis\": [\"2\", \"5\"], \"tool_name\": \"数值计算\"}, {\"api_id\": \"7\", \"api_name\": \"减法计算\", \"required_parameters\": [\"api_4的结果\", \"api_6的结果\"], \"rely_apis\": [\"4\", \"6\"], \"tool_name\": \"数值计算\"}], \"result\": [\"api_7的结果\"]}\n",
      "\n"
     ]
    },
    {
     "name": "stderr",
     "output_type": "stream",
     "text": [
      "Both `max_new_tokens` (=1024) and `max_length`(=8192) seem to have been set. `max_new_tokens` will take precedence. Please refer to the documentation for more information. (https://huggingface.co/docs/transformers/main/en/main_classes/text_generation)\n",
      "Both `max_new_tokens` (=1024) and `max_length`(=8192) seem to have been set. `max_new_tokens` will take precedence. Please refer to the documentation for more information. (https://huggingface.co/docs/transformers/main/en/main_classes/text_generation)\n"
     ]
    },
    {
     "name": "stdout",
     "output_type": "stream",
     "text": [
      "-----data index-----\n",
      "115\n",
      "-----query input-----\n",
      "你现在是一个金融领域专家，你需要通过编排api来得到用户query的答案，输出json格式。query是：我想知道哪些股票的总市值正好是39亿零340万4151元46分，或者最近三天主力资金的净流出了大约394.9万元。 \n",
      " query中提到的产品标准名可能是：合煦智远诚正30天持有期债券型证券投资基金C类、合煦智远诚正30天持有期债券型证券投资基金A类、诺德深证300指数分级证券投资基金、博道红利智航股票型证券投资基金C类、博道红利智航股票型证券投资基金A类、博道消费智航股票型证券投资基金C类、博道消费智航股票型证券投资基金A类、博道成长智航股票型证券投资基金C类、博道成长智航股票型证券投资基金A类、博道叁佰智航股票型证券投资基金C类、博道叁佰智航股票型证券投资基金A类、博道伍佰智航股票型证券投资基金C类、博道伍佰智航股票型证券投资基金A类、华安沪深300指数分级证券投资基金、广发理财30天债券型证券投资基金B类、博时理财30天债券型证券投资基金B类、南方理财14天债券型证券投资基金B类、南方理财14天债券型证券投资基金A类、华夏理财30天债券型证券投资基金B类、华夏理财30天债券型证券投资基金A类、中银理财14天债券型证券投资基金B类、中银理财14天债券型证券投资基金A类、长江90天持有期债券型证券投资基金C类、长江90天持有期债券型证券投资基金A类、诺德深证300指数分级证券投资基金B类、诺德深证300指数分级证券投资基金A类、汇添富理财30天债券型证券投资基金B类、汇添富理财14天债券型证券投资基金B类、汇添富理财14天债券型证券投资基金A类、富达90天持有期债券型证券投资基金C类、富达90天持有期债券型证券投资基金A类、长盛添利30天理财债券型证券投资基金B类、长盛添利30天理财债券型证券投资基金A类、长城久兆中小板300指数分级证券投资基金、长信90天滚动持有债券型证券投资基金C类、长信90天滚动持有债券型证券投资基金A类、鑫元长三角区域主题混合型证券投资基金C类、鑫元长三角区域主题混合型证券投资基金A类、安信90天滚动持有债券型证券投资基金C类、安信90天滚动持有债券型证券投资基金A类、博道沪深300指数增强型证券投资基金C类、博道沪深300指数增强型证券投资基金A类、农银汇理14天理财债券型证券投资基金B类、鹏扬永利90天持有期债券型证券投资基金C类、鹏扬永利90天持有期债券型证券投资基金A类、银河沪深300成长增强指数分级证券投资基金、银河星汇30天持有期债券型证券投资基金C类、银河星汇30天持有期债券型证券投资基金A类、泰康悦享90天持有期债券型证券投资基金C类、泰康悦享90天持有期债券型证券投资基金A类\n",
      "-----output diff-----\n",
      "{\"relevant APIs\": [{\"api_id\": \"0\", \"tool_name\": \"条件选股\", \"api_name\": \"查询总市值\", \"required_parameters\": [\"等于\", \"3903404151.46\"], \"rely_apis\": []}, {\"api_id\": \"1\", \"tool_name\": \"条件选股\", \"api_name\": \"查询主力资金净流入\", \"required_parameters\": [\"等于\", \"-394\u001b[31m8\u001b[0m\u001b[31m9\u001b[0m\u001b[31m9\u001b[0m\u001b[31m2\u001b[0m\u001b[31m.\u001b[0m7\u001b[31m4\u001b[0m\u001b[31m\"\u001b[0m\u001b[31m,\u001b[0m\u001b[31m \u001b[0m\u001b[31m\"\u001b[0m\u001b[31m3\u001b[0m\u001b[31m日\u001b[0m\u001b[31m\"\u001b[0m\u001b[31m]\u001b[0m\u001b[31m,\u001b[0m\u001b[31m \u001b[0m\u001b[31m\"\u001b[0m\u001b[31mr\u001b[0m\u001b[31me\u001b[0m\u001b[31ml\u001b[0m\u001b[31my\u001b[0m\u001b[31m_\u001b[0m\u001b[31ma\u001b[0m\u001b[31mp\u001b[0m\u001b[31mi\u001b[0m\u001b[31ms\u001b[0m\u001b[31m\"\u001b[0m\u001b[31m:\u001b[0m\u001b[31m \u001b[0m\u001b[31m[\u001b[0m\u001b[31m]\u001b[0m\u001b[31m}\u001b[0m\u001b[31m,\u001b[0m\u001b[31m \u001b[0m\u001b[31m{\u001b[0m\u001b[31m\"\u001b[0m\u001b[31ma\u001b[0m\u001b[31mp\u001b[0m\u001b[31mi\u001b[0m\u001b[31m_\u001b[0m\u001b[31mi\u001b[0m\u001b[31md\u001b[0m\u001b[31m\"\u001b[0m\u001b[31m:\u001b[0m\u001b[31m \u001b[0m\u001b[31m\"\u001b[0m\u001b[31m2\u001b[0m\u001b[31m\"\u001b[0m\u001b[31m,\u001b[0m\u001b[31m \u001b[0m\u001b[31m\"\u001b[0m\u001b[31mt\u001b[0mo\u001b[31mo\u001b[0m\u001b[31ml\u001b[0m\u001b[31m_\u001b[0m\u001b[31mn\u001b[0m\u001b[31ma\u001b[0m\u001b[31mm\u001b[0m\u001b[31me\u001b[0m\u001b[31m\"\u001b[0m\u001b[31m:\u001b[0m\u001b[31m \u001b[0m\u001b[31m\"\u001b[0m\u001b[31m逻\u001b[0m\u001b[31m辑\u001b[0m\u001b[31m运\u001b[0m\u001b[31m算\u001b[0m\u001b[31m\"\u001b[0m\u001b[31m,\u001b[0m\u001b[31m \u001b[0m\u001b[31m\"\u001b[0m\u001b[31ma\u001b[0m\u001b[31mp\u001b[0m\u001b[31mi\u001b[0m\u001b[31m_\u001b[0m\u001b[31mn\u001b[0m\u001b[31ma\u001b[0m\u001b[31mm\u001b[0m\u001b[31me\u001b[0m\u001b[31m\"\u001b[0m\u001b[31m:\u001b[0m\u001b[31m \u001b[0m\u001b[31m\"\u001b[0m\u001b[31m或\u001b[0m\u001b[31m运\u001b[0m\u001b[31m算\u001b[0m\u001b[31m\"\u001b[0m\u001b[31m,\u001b[0m\u001b[31m \u001b[0m\u001b[31m\"\u001b[0m\u001b[31mr\u001b[0m\u001b[31me\u001b[0m\u001b[31mq\u001b[0m\u001b[31mu\u001b[0m\u001b[31mi\u001b[0m\u001b[31mr\u001b[0m\u001b[31me\u001b[0m\u001b[31md\u001b[0m\u001b[31m_\u001b[0m\u001b[31mp\u001b[0m\u001b[31ma\u001b[0m\u001b[31mr\u001b[0m\u001b[31ma\u001b[0m\u001b[31mm\u001b[0m\u001b[31me\u001b[0m\u001b[31mt\u001b[0m\u001b[31me\u001b[0m\u001b[31mr\u001b[0m\u001b[31ms\u001b[0m\u001b[31m\"\u001b[0m\u001b[31m:\u001b[0m\u001b[31m \u001b[0m\u001b[31m[\u001b[0m\u001b[31m\"\u001b[0m\u001b[31ma\u001b[0m\u001b[31mp\u001b[0m\u001b[31mi\u001b[0m\u001b[31m_\u001b[0m\u001b[31m0\u001b[0m\u001b[31m的\u001b[0m\u001b[31m结\u001b[0m\u001b[31m果\u001b[0m\u001b[31m\"\u001b[0m\u001b[31m,\u001b[0m\u001b[31m \u001b[0m\u001b[31m\"\u001b[0m\u001b[31ma\u001b[0m\u001b[31mp\u001b[0m\u001b[31mi\u001b[0m\u001b[31m_\u001b[0m\u001b[31m1\u001b[0m\u001b[31m的\u001b[0m\u001b[31m结\u001b[0m\u001b[31m果\u001b[0m\u001b[31m\"\u001b[0m\u001b[31m]\u001b[0m\u001b[31m,\u001b[0m\u001b[31m \u001b[0m\u001b[31m\"\u001b[0m\u001b[31mr\u001b[0m\u001b[31me\u001b[0m\u001b[31ml\u001b[0m\u001b[31my\u001b[0m\u001b[31m_\u001b[0m\u001b[31ma\u001b[0m\u001b[31mp\u001b[0m\u001b[31mi\u001b[0m\u001b[31ms\u001b[0m\u001b[31m\"\u001b[0m\u001b[31m:\u001b[0m\u001b[31m \u001b[0m\u001b[31m[\u001b[0m\u001b[31m\"\u001b[0m\u001b[31m0\u001b[0m\u001b[31m\"\u001b[0m\u001b[31m,\u001b[0m\u001b[31m \u001b[0m\u001b[31m\"\u001b[0m\u001b[31m1\u001b[0m\u001b[31m\"\u001b[0m\u001b[31m]\u001b[0m\u001b[31m}\u001b[0m\u001b[31m]\u001b[0m\u001b[31m,\u001b[0m\u001b[31m \u001b[0m\u001b[31m\"\u001b[0m\u001b[31mr\u001b[0m\u001b[31me\u001b[0m\u001b[31ms\u001b[0m\u001b[31mu\u001b[0m\u001b[31ml\u001b[0m\u001b[31mt\u001b[0m\u001b[31m\"\u001b[0m\u001b[31m:\u001b[0m\u001b[31m \u001b[0m\u001b[31m[\u001b[0m\u001b[31m\"\u001b[0m\u001b[31ma\u001b[0m\u001b[31mp\u001b[0m\u001b[31mi\u001b[0m\u001b[31m_\u001b[0m\u001b[31m2\u001b[0m\u001b[31m的\u001b[0m\u001b[31m结\u001b[0m\u001b[31m果\u001b[0m\u001b[31m\"\u001b[0m\u001b[31m]\u001b[0m\u001b[31m}\u001b[0m\n",
      "{\"relevant APIs\": [{\"api_id\": \"0\", \"tool_name\": \"条件选股\", \"api_name\": \"查询总市值\", \"required_parameters\": [\"等于\", \"3903404151.46\"], \"rely_apis\": []}, {\"api_id\": \"1\", \"tool_name\": \"条件选股\", \"api_name\": \"查询主力资金净流入\", \"required_parameters\": [\"等于\", \"-394904837\", \"3日\"], \"rely_apis\": []}, {\"api_id\": \"2\", \"tool_name\": \"逻辑运算\", \"api_name\": \"或运算\", \"required_parameters\": [\"api_0的结果\", \"api_1的结果\"], \"rely_apis\": [\"0\", \"1\"]}], \"result\": [\"api_2的结果\"]}\n",
      "\n"
     ]
    },
    {
     "name": "stderr",
     "output_type": "stream",
     "text": [
      "Both `max_new_tokens` (=1024) and `max_length`(=8192) seem to have been set. `max_new_tokens` will take precedence. Please refer to the documentation for more information. (https://huggingface.co/docs/transformers/main/en/main_classes/text_generation)\n",
      "Both `max_new_tokens` (=1024) and `max_length`(=8192) seem to have been set. `max_new_tokens` will take precedence. Please refer to the documentation for more information. (https://huggingface.co/docs/transformers/main/en/main_classes/text_generation)\n"
     ]
    },
    {
     "name": "stdout",
     "output_type": "stream",
     "text": [
      "-----data index-----\n",
      "125\n",
      "-----query input-----\n",
      "你现在是一个金融领域专家，你需要通过编排api来得到用户query的答案，输出json格式。query是：有没有夏普率过去三个月是负137.35%或者在过去三年里创下新高是614次的基金？ \n",
      " query中提到的产品标准名可能是：华夏上证3-5年期中高评级可质押信用债交易型开放式指数证券投资基金、东海鑫宁利率债三个月定期开放债券型证券投资基金、华夏中债3-5年政策性金融债指数证券投资基金C类、华夏中债3-5年政策性金融债指数证券投资基金A类、华夏中债1-3年政策性金融债指数证券投资基金C类、华夏中债1-3年政策性金融债指数证券投资基金A类、华夏养老目标日期2035三年持有期混合型发起式基金中基金(FOF)Y类、华夏养老目标日期2035三年持有期混合型发起式基金中基金(FOF)C类、华夏养老目标日期2035三年持有期混合型发起式基金中基金(FOF)A类、建信裕丰利率债三个月定期开放债券型证券投资基金C类、建信裕丰利率债三个月定期开放债券型证券投资基金A类、华夏鼎诺三个月定期开放债券型发起式证券投资基金C类、华夏鼎诺三个月定期开放债券型发起式证券投资基金A类、华夏鼎祥三个月定期开放债券型发起式证券投资基金C类、华夏鼎祥三个月定期开放债券型发起式证券投资基金A类、华夏鼎瑞三个月定期开放债券型发起式证券投资基金C类、华夏鼎瑞三个月定期开放债券型发起式证券投资基金A类、中航瑞安利率债三个月定期开放债券型证券投资基金C类、中航瑞安利率债三个月定期开放债券型证券投资基金A类、华夏福泽养老目标日期2035三年持有期混合型发起式基金中基金(FOF)Y类、华夏福泽养老目标日期2035三年持有期混合型发起式基金中基金(FOF)A类、华夏创新前沿股票型证券投资基金、华夏聚锐优选三个月持有期混合型基金中基金(FOF)C类、华夏聚锐优选三个月持有期混合型基金中基金(FOF)A类、华夏聚源优选三个月持有期混合型基金中基金(FOF)C类、华夏聚源优选三个月持有期混合型基金中基金(FOF)A类、华夏聚恒优选三个月持有期混合型基金中基金(FOF)C类、华夏聚恒优选三个月持有期混合型基金中基金(FOF)A类、华夏聚安优选三个月持有期混合型基金中基金(FOF)C类、华夏聚安优选三个月持有期混合型基金中基金(FOF)A类、华夏聚嘉优选三个月持有期混合型基金中基金(FOF)C类、华夏聚嘉优选三个月持有期混合型基金中基金(FOF)A类、华夏粤港澳大湾区创新100交易型开放式指数证券投资基金、华夏彭博中国政策性银行债券1-5年指数证券投资基金C类、华夏彭博中国政策性银行债券1-5年指数证券投资基金A类、华夏科技创新混合型证券投资基金C类、华夏科技创新混合型证券投资基金A类、华夏创新驱动混合型证券投资基金C类、华夏创新驱动混合型证券投资基金A类、华夏创新研选混合型证券投资基金C类、华夏创新研选混合型证券投资基金A类、华夏中证智选500成长创新策略交易型开放式指数证券投资基金、华夏中证智选300成长创新策略交易型开放式指数证券投资基金、华夏聚盈优选三个月持有期混合型发起式基金中基金(FOF)C类、华夏聚盈优选三个月持有期混合型发起式基金中基金(FOF)A类、华夏中证智选1000成长创新策略交易型开放式指数证券投资基金、兴银上海清算所3-5年中高等级优选信用债指数证券投资基金C类、兴银上海清算所3-5年中高等级优选信用债指数证券投资基金A类、华夏上证3-5年期中高评级可质押信用债交易型开放式指数证券投资基金发起式联接基金C类、华夏上证3-5年期中高评级可质押信用债交易型开放式指数证券投资基金发起式联接基金A类\n",
      "-----output diff-----\n",
      "{\"relevant APIs\": [{\"api_id\": \"0\", \"tool_name\": \"条件选基\", \"api_name\": \"查询近期夏普\u001b[31m率\u001b[0m\u001b[31m\"\u001b[0m\u001b[31m,\u001b[0m\u001b[31m \u001b[0m\u001b[31m\"\u001b[0m\u001b[31mr\u001b[0m\u001b[31me\u001b[0m\u001b[31mq\u001b[0m\u001b[31mu\u001b[0m\u001b[31mi\u001b[0m\u001b[31mr\u001b[0m\u001b[31me\u001b[0m\u001b[31md\u001b[0m\u001b[31m_\u001b[0m\u001b[31mp\u001b[0m\u001b[31ma\u001b[0m\u001b[31mr\u001b[0m\u001b[31ma\u001b[0m\u001b[31mm\u001b[0m\u001b[31me\u001b[0m\u001b[31mt\u001b[0m\u001b[31me\u001b[0m\u001b[31mr\u001b[0m\u001b[31ms\u001b[0m\u001b[31m\"\u001b[0m\u001b[31m:\u001b[0m\u001b[31m \u001b[0m\u001b[31m[\u001b[0m\u001b[31m\"\u001b[0m\u001b[31m等\u001b[0m\u001b[31m于\u001b[0m\u001b[31m\"\u001b[0m\u001b[31m,\u001b[0m\u001b[31m \u001b[0m\u001b[31m\"\u001b[0m\u001b[31m-\u001b[0m\u001b[31m1\u001b[0m\u001b[31m.\u001b[0m\u001b[31m3\u001b[0m\u001b[31m7\u001b[0m3\u001b[31m5\u001b[0m\u001b[31m\"\u001b[0m\u001b[31m,\u001b[0m\u001b[31m \u001b[0m\u001b[31m\"\u001b[0m\u001b[31m3\u001b[0m\u001b[31m个\u001b[0m\u001b[31m月\u001b[0m\u001b[31m\"\u001b[0m\u001b[31m]\u001b[0m\u001b[31m,\u001b[0m\u001b[31m \u001b[0m\u001b[31m\"\u001b[0m\u001b[31mr\u001b[0m\u001b[31me\u001b[0m\u001b[31ml\u001b[0m\u001b[31my\u001b[0m\u001b[31m_\u001b[0m\u001b[31ma\u001b[0m\u001b[31mp\u001b[0m\u001b[31mi\u001b[0m\u001b[31ms\u001b[0m\u001b[31m\"\u001b[0m\u001b[31m:\u001b[0m\u001b[31m \u001b[0m\u001b[31m[\u001b[0m\u001b[31m]\u001b[0m\u001b[31m}\u001b[0m\u001b[31m,\u001b[0m\u001b[31m \u001b[0m\u001b[31m{\u001b[0m\u001b[31m\"\u001b[0m\u001b[31ma\u001b[0m\u001b[31mp\u001b[0m\u001b[31mi\u001b[0m\u001b[31m_\u001b[0mi\u001b[31md\u001b[0m\u001b[31m\"\u001b[0m\u001b[31m:\u001b[0m\u001b[31m \u001b[0m\u001b[31m\"\u001b[0m\u001b[31m1\u001b[0m\"\u001b[31m,\u001b[0m\u001b[31m \u001b[0m\u001b[31m\"\u001b[0m\u001b[31mt\u001b[0m\u001b[31mo\u001b[0m\u001b[31mo\u001b[0m\u001b[31ml\u001b[0m\u001b[31m_\u001b[0m\u001b[31mn\u001b[0m\u001b[31ma\u001b[0m\u001b[31mm\u001b[0m\u001b[31me\u001b[0m\u001b[31m\"\u001b[0m\u001b[31m:\u001b[0m\u001b[31m \u001b[0m\u001b[31m\"\u001b[0m\u001b[31m条\u001b[0m\u001b[31m件\u001b[0m\u001b[31m选\u001b[0m\u001b[31m基\u001b[0m\u001b[31m\"\u001b[0m\u001b[31m,\u001b[0m\u001b[31m \u001b[0m\u001b[31m\"\u001b[0m\u001b[31ma\u001b[0m\u001b[31mp\u001b[0m\u001b[31mi\u001b[0m\u001b[31m_\u001b[0m\u001b[31mn\u001b[0m\u001b[31ma\u001b[0m\u001b[31mm\u001b[0m\u001b[31me\u001b[0m\u001b[31m\"\u001b[0m\u001b[31m:\u001b[0m\u001b[31m \u001b[0m\u001b[31m\"\u001b[0m\u001b[31m查\u001b[0m\u001b[31m询\u001b[0m\u001b[31m近\u001b[0m\u001b[31m期\u001b[0m\u001b[31m创\u001b[0m\u001b[31m新\u001b[0m\u001b[31m高\u001b[0m\u001b[31m次\u001b[0m\u001b[31m数\u001b[0m\u001b[31m\"\u001b[0m\u001b[31m,\u001b[0m\u001b[31m \u001b[0m\u001b[31m\"\u001b[0m\u001b[31mr\u001b[0m\u001b[31me\u001b[0m\u001b[31mq\u001b[0m\u001b[31mu\u001b[0m\u001b[31mi\u001b[0m\u001b[31mr\u001b[0m\u001b[31me\u001b[0m\u001b[31md\u001b[0m\u001b[31m_\u001b[0m\u001b[31mp\u001b[0m\u001b[31ma\u001b[0m\u001b[31mr\u001b[0ma\u001b[31mm\u001b[0m\u001b[31me\u001b[0m\u001b[31mt\u001b[0me\u001b[31mr\u001b[0m\u001b[31ms\u001b[0m\u001b[31m\"\u001b[0m\u001b[31m:\u001b[0m\u001b[31m \u001b[0m\u001b[31m[\u001b[0m\u001b[31m\"\u001b[0m\u001b[31m等\u001b[0m\u001b[31m于\u001b[0m\u001b[31m\"\u001b[0m\u001b[31m,\u001b[0m\u001b[31m \u001b[0m\u001b[31m\"\u001b[0m\u001b[31m6\u001b[0m\u001b[31m1\u001b[0m\u001b[31m4\u001b[0m\u001b[31m.\u001b[0m\u001b[31m0\u001b[0m\u001b[31m\"\u001b[0m\u001b[31m,\u001b[0m\u001b[31m \u001b[0m\u001b[31m\"\u001b[0m\u001b[31m3\u001b[0m\u001b[31m年\u001b[0m\u001b[31m\"\u001b[0m\u001b[31m]\u001b[0m\u001b[31m,\u001b[0m\u001b[31m \u001b[0m\u001b[31m\"\u001b[0m\u001b[31mr\u001b[0m\u001b[31me\u001b[0m\u001b[31ml\u001b[0m\u001b[31my\u001b[0m\u001b[31m_\u001b[0m\u001b[31ma\u001b[0m\u001b[31mp\u001b[0m\u001b[31mi\u001b[0m\u001b[31ms\u001b[0m\u001b[31m\"\u001b[0m\u001b[31m:\u001b[0m\u001b[31m \u001b[0m\u001b[31m[\u001b[0m\u001b[31m]\u001b[0m\u001b[31m}\u001b[0m\u001b[31m,\u001b[0m\u001b[31m \u001b[0m\u001b[31m{\u001b[0m\u001b[31m\"\u001b[0m\u001b[31ma\u001b[0m\u001b[31mp\u001b[0m\u001b[31mi\u001b[0m\u001b[31m_\u001b[0mi\u001b[31md\u001b[0m\u001b[31m\"\u001b[0m\u001b[31m:\u001b[0m\u001b[31m \u001b[0m\u001b[31m\"\u001b[0m\u001b[31m2\u001b[0m\"\u001b[31m,\u001b[0m\u001b[31m \u001b[0m\u001b[31m\"\u001b[0m\u001b[31mt\u001b[0m\u001b[31mo\u001b[0m\u001b[31mo\u001b[0m\u001b[31ml\u001b[0m\u001b[31m_\u001b[0m\u001b[31mn\u001b[0m\u001b[31ma\u001b[0m\u001b[31mm\u001b[0m\u001b[31me\u001b[0m\u001b[31m\"\u001b[0m\u001b[31m:\u001b[0m\u001b[31m \u001b[0m\u001b[31m\"\u001b[0m\u001b[31m逻\u001b[0m\u001b[31m辑\u001b[0m\u001b[31m运\u001b[0m\u001b[31m算\u001b[0m\u001b[31m\"\u001b[0m\u001b[31m,\u001b[0m\u001b[31m \u001b[0m\u001b[31m\"\u001b[0m\u001b[31ma\u001b[0m\u001b[31mp\u001b[0m\u001b[31mi\u001b[0m\u001b[31m_\u001b[0m\u001b[31mn\u001b[0m\u001b[31ma\u001b[0m\u001b[31mm\u001b[0m\u001b[31me\u001b[0m\u001b[31m\"\u001b[0m\u001b[31m:\u001b[0m\u001b[31m \u001b[0m\u001b[31m\"\u001b[0m\u001b[31m或\u001b[0m\u001b[31m运\u001b[0m\u001b[31m算\u001b[0m\u001b[31m\"\u001b[0m\u001b[31m,\u001b[0m\u001b[31m \u001b[0m\u001b[31m\"\u001b[0m\u001b[31mr\u001b[0m\u001b[31me\u001b[0m\u001b[31mq\u001b[0m\u001b[31mu\u001b[0m\u001b[31mi\u001b[0m\u001b[31mr\u001b[0m\u001b[31me\u001b[0m\u001b[31md\u001b[0m\u001b[31m_\u001b[0m\u001b[31mp\u001b[0m\u001b[31ma\u001b[0m\u001b[31mr\u001b[0ma\u001b[31mm\u001b[0m\u001b[31me\u001b[0m\u001b[31mt\u001b[0me\u001b[31mr\u001b[0m\u001b[31ms\u001b[0m\u001b[31m\"\u001b[0m\u001b[31m:\u001b[0m\u001b[31m \u001b[0m\u001b[31m[\u001b[0m\u001b[31m\"\u001b[0m\u001b[31ma\u001b[0m\u001b[31mp\u001b[0m\u001b[31mi\u001b[0m\u001b[31m_\u001b[0m\u001b[31m0\u001b[0m\u001b[31m的\u001b[0m\u001b[31m结\u001b[0m\u001b[31m果\u001b[0m\u001b[31m\"\u001b[0m\u001b[31m,\u001b[0m\u001b[31m \u001b[0m\u001b[31m\"\u001b[0m\u001b[31ma\u001b[0m\u001b[31mp\u001b[0m\u001b[31mi\u001b[0m\u001b[31m_\u001b[0m\u001b[31m1\u001b[0m\u001b[31m的\u001b[0m\u001b[31m结\u001b[0m\u001b[31m果\u001b[0m\u001b[31m\"\u001b[0m\u001b[31m]\u001b[0m\u001b[31m,\u001b[0m\u001b[31m \u001b[0m\u001b[31m\"\u001b[0m\u001b[31mr\u001b[0m\u001b[31me\u001b[0m\u001b[31ml\u001b[0m\u001b[31my\u001b[0m\u001b[31m_\u001b[0m\u001b[31ma\u001b[0m\u001b[31mp\u001b[0m\u001b[31mi\u001b[0m\u001b[31ms\u001b[0m\u001b[31m\"\u001b[0m\u001b[31m:\u001b[0m\u001b[31m \u001b[0m\u001b[31m[\u001b[0m\u001b[31m\"\u001b[0m\u001b[31m0\u001b[0m\"\u001b[31m,\u001b[0m\u001b[31m \u001b[0m\u001b[31m\"\u001b[0m\u001b[31m1\u001b[0m\"\u001b[31m]\u001b[0m\u001b[31m}\u001b[0m]\u001b[31m,\u001b[0m\u001b[31m \u001b[0m\u001b[31m\"\u001b[0m\u001b[31mr\u001b[0m\u001b[31me\u001b[0m\u001b[31ms\u001b[0m\u001b[31mu\u001b[0m\u001b[31ml\u001b[0m\u001b[31mt\u001b[0m\u001b[31m\"\u001b[0m\u001b[31m:\u001b[0m\u001b[31m \u001b[0m\u001b[31m[\u001b[0m\u001b[31m\"\u001b[0m\u001b[31ma\u001b[0m\u001b[31mp\u001b[0m\u001b[31mi\u001b[0m\u001b[31m_\u001b[0m\u001b[31m2\u001b[0m\u001b[31m的\u001b[0m\u001b[31m结\u001b[0m\u001b[31m果\u001b[0m\u001b[31m\"\u001b[0m\u001b[31m]\u001b[0m\u001b[31m}\u001b[0m\u001b[31m]}\u001b[0m\n",
      "{\"relevant APIs\": [{\"api_id\": \"0\", \"tool_name\": \"条件选基\", \"api_name\": \"查询近期夏普比率\", \"required_parameters\": [\"等于\", \"-0.13735\", \"3个月\"], \"rely_apis\": []}, {\"api_id\": \"1\", \"tool_name\": \"条件选基\", \"api_name\": \"查询近期创新高次数\", \"required_parameters\": [\"等于\", \"614.0\", \"3年\"], \"rely_apis\": []}, {\"api_id\": \"2\", \"tool_name\": \"逻辑运算\", \"api_name\": \"或运算\", \"required_parameters\": [\"api_0的结果\", \"api_1的结果\"], \"rely_apis\": [\"0\", \"1\"]}], \"result\": [\"api_2的结果\"]}\n",
      "\n"
     ]
    },
    {
     "name": "stderr",
     "output_type": "stream",
     "text": [
      "Both `max_new_tokens` (=1024) and `max_length`(=8192) seem to have been set. `max_new_tokens` will take precedence. Please refer to the documentation for more information. (https://huggingface.co/docs/transformers/main/en/main_classes/text_generation)\n",
      "Both `max_new_tokens` (=1024) and `max_length`(=8192) seem to have been set. `max_new_tokens` will take precedence. Please refer to the documentation for more information. (https://huggingface.co/docs/transformers/main/en/main_classes/text_generation)\n"
     ]
    },
    {
     "name": "stdout",
     "output_type": "stream",
     "text": [
      "-----data index-----\n",
      "175\n",
      "-----query input-----\n",
      "你现在是一个金融领域专家，你需要通过编排api来得到用户query的答案，输出json格式。query是：我想知道如果我昨天买大化的股票，我今天卖出的话对比昨天的买入价赚了多少？ \n",
      " query中提到的产品标准名可能是：九泰天利量化股票型证券投资基金C类、九泰天利量化股票型证券投资基金A类、九泰天辰量化新动力股票型证券投资基金、天弘文化新兴产业股票型证券投资基金C类、天弘文化新兴产业股票型证券投资基金A类、光大保德信创业板量化优选股票型证券投资基金C类、光大保德信创业板量化优选股票型证券投资基金A类、创金合信上证超大盘量化精选股票型发起式证券投资基金C类、创金合信上证超大盘量化精选股票型发起式证券投资基金A类、大成优选股票型证券投资基金、大成睿鑫股票型证券投资基金C类、大成睿鑫股票型证券投资基金A类、嘉实量化精选股票型证券投资基金、南方量化成长股票型证券投资基金、九泰久信量化股票型证券投资基金、长信量化中小盘股票型证券投资基金、建信多因子量化股票型证券投资基金、国泰大农业股票型证券投资基金C类、国泰大农业股票型证券投资基金A类、国泰大健康股票型证券投资基金C类、国泰大健康股票型证券投资基金A类、南方天元新产业股票型证券投资基金、中银大健康股票型证券投资基金C类、中银大健康股票型证券投资基金A类、鹏华文化传媒娱乐股票型证券投资基金、长城量化精选股票型证券投资基金C类、长城量化精选股票型证券投资基金A类、长城量化小盘股票型证券投资基金C类、长城量化小盘股票型证券投资基金A类、英大国企改革主题股票型证券投资基金、泰达宏利量化增强股票型证券投资基金、汇丰晋信大盘股票型证券投资基金C类、汇丰晋信大盘股票型证券投资基金A类、景顺长城量化精选股票型证券投资基金、景顺长城量化小盘股票型证券投资基金、摩根大盘蓝筹股票型证券投资基金C类、摩根大盘蓝筹股票型证券投资基金A类、建信量化事件驱动股票型证券投资基金、大成科技消费股票型证券投资基金C类、大成科技消费股票型证券投资基金A类、大成消费精选股票型证券投资基金C类、大成消费精选股票型证券投资基金A类、大成品质医疗股票型证券投资基金C类、大成品质医疗股票型证券投资基金A类、大成医药健康股票型证券投资基金C类、大成医药健康股票型证券投资基金A类、博道红利智航股票型证券投资基金C类、博道红利智航股票型证券投资基金A类、博道消费智航股票型证券投资基金C类、博道消费智航股票型证券投资基金A类\n",
      "-----output diff-----\n",
      "{\"relevant APIs\": [{\"api_id\": \"0\", \"api_name\": \"查询代码\", \"required_parameters\": [[\"\u001b[31m沧\u001b[0m\u001b[31m州\u001b[0m\u001b[31m大\u001b[0m\u001b[31m化\u001b[0m\"]], \"rely_apis\": [], \"tool_name\": \"股票查询\"}, {\"api_id\": \"1\", \"api_name\": \"查询开盘价\", \"required_parameters\": [\"api_0的结果\", \"昨日\"], \"rely_apis\": [\"0\"], \"tool_name\": \"股票查询\"}, {\"api_id\": \"2\", \"api_name\": \"查询收盘价\", \"required_parameters\": [\"api_0的结果\", \"今日\"], \"rely_apis\": [\"0\"], \"tool_name\": \"股票查询\"}, {\"api_id\": \"3\", \"api_name\": \"减法计算\", \"required_parameters\": [\"api_\u001b[31m2\u001b[0m的结果\", \"api_\u001b[31m1\u001b[0m的结果\"], \"rely_apis\": [\"1\", \"2\"], \"tool_name\": \"数值计算\"}\u001b[31m]\u001b[0m\u001b[31m,\u001b[0m\u001b[31m \u001b[0m\"\u001b[31mr\u001b[0m\u001b[31me\u001b[0m\u001b[31ms\u001b[0m\u001b[31mu\u001b[0m\u001b[31ml\u001b[0m\u001b[31mt\u001b[0m\": \u001b[31m[\u001b[0m\u001b[31m\"\u001b[0m\u001b[31ma\u001b[0m\u001b[31mp\u001b[0m\u001b[31mi\u001b[0m\u001b[31m_\u001b[0m\u001b[31m3\u001b[0m\u001b[31m的\u001b[0m\u001b[31m结\u001b[0m\u001b[31m果\u001b[0m\u001b[31m\"\u001b[0m\u001b[31m]\u001b[0m\u001b[31m}\u001b[0m\u001b[31me\": \"乘法计算\", \"required_parameters\": [\"api_3的结果\", \"20000\"], \"rely_apis\": [\"3\"], \"tool_name\": \"数值计算\"}], \"result\": [\"api_4的结果\"]}\u001b[0m\n",
      "{\"relevant APIs\": [{\"api_id\": \"0\", \"api_name\": \"查询代码\", \"required_parameters\": [[\"醋化股份\"]], \"rely_apis\": [], \"tool_name\": \"股票查询\"}, {\"api_id\": \"1\", \"api_name\": \"查询开盘价\", \"required_parameters\": [\"api_0的结果\", \"昨日\"], \"rely_apis\": [\"0\"], \"tool_name\": \"股票查询\"}, {\"api_id\": \"2\", \"api_name\": \"查询收盘价\", \"required_parameters\": [\"api_0的结果\", \"今日\"], \"rely_apis\": [\"0\"], \"tool_name\": \"股票查询\"}, {\"api_id\": \"3\", \"api_name\": \"减法计算\", \"required_parameters\": [\"api_1的结果\", \"api_2的结果\"], \"rely_apis\": [\"1\", \"2\"], \"tool_name\": \"数值计算\"}, {\"api_id\": \"4\", \"api_name\": \"乘法计算\", \"required_parameters\": [\"api_3的结果\", \"20000\"], \"rely_apis\": [\"3\"], \"tool_name\": \"数值计算\"}], \"result\": [\"api_4的结果\"]}\n",
      "\n"
     ]
    },
    {
     "name": "stderr",
     "output_type": "stream",
     "text": [
      "Both `max_new_tokens` (=1024) and `max_length`(=8192) seem to have been set. `max_new_tokens` will take precedence. Please refer to the documentation for more information. (https://huggingface.co/docs/transformers/main/en/main_classes/text_generation)\n"
     ]
    },
    {
     "name": "stdout",
     "output_type": "stream",
     "text": [
      "-----data index-----\n",
      "202\n",
      "-----query input-----\n",
      "你现在是一个金融领域专家，你需要通过编排api来得到用户query的答案，输出json格式。query是：想了解下南方恒生A基金由成立至今的年化收益率是怎样的，以及其在同类型基金中的排名如何 \n",
      " query中提到的产品标准名可能是：东方强化收益债券型证券投资基金、南方恒生交易型开放式指数证券投资基金联接基金C类、南方恒生交易型开放式指数证券投资基金联接基金A类、大成强化收益定期开放债券型证券投资基金、大成强化收益定期开放债券型证券投资基金、南方亚洲美元收益债券型证券投资基金C类、南方亚洲美元收益债券型证券投资基金A类、南方恒生中国企业交易型开放式指数证券投资基金联接基金C类、南方恒生中国企业交易型开放式指数证券投资基金联接基金A类、东方成长收益灵活配置混合型证券投资基金C类、东方成长收益灵活配置混合型证券投资基金A类、南方收益宝货币市场基金B类、南方收益宝货币市场基金A类、汇添富恒生指数分级证券投资基金之稳健收益类份额、汇添富恒生指数分级证券投资基金之积极收益类份额、南方绝对收益策略定期开放混合型发起式证券投资基金、银河强化收益债券型证券投资基金、诺安优化收益债券型证券投资基金、南方宝恒混合型证券投资基金C类、南方宝恒混合型证券投资基金A类、南方亚洲美元收益债券型证券投资基金(美元现汇)C类、南方亚洲美元收益债券型证券投资基金(美元现汇)A类、易方达保证金收益货币市场基金B类、易方达保证金收益货币市场基金A类、银华恒生中国企业指数分级证券投资基金之稳健收益类份额、银华恒生中国企业指数分级证券投资基金之积极收益类份额、南方安享绝对收益策略定期开放混合型发起式证券投资基金、南方卓享绝对收益策略定期开放混合型发起式证券投资基金、金鹰民富收益混合型证券投资基金C类、金鹰民富收益混合型证券投资基金A类、富国天丰强化收益债券型证券投资基金、华安强化收益债券型证券投资基金B类、华安强化收益债券型证券投资基金A类、民生加银新收益债券型证券投资基金C类、民生加银新收益债券型证券投资基金A类、易方达稳健收益债券型证券投资基金B类、易方达稳健收益债券型证券投资基金A类、南方浩达稳健优选一年持有期混合型基金中基金(FOF)C类、南方浩达稳健优选一年持有期混合型基金中基金(FOF)A类、南方浩盈进取精选一年持有期混合型基金中基金(FOF)C类、南方浩盈进取精选一年持有期混合型基金中基金(FOF)A类、南方浩泰平衡优选一年持有期混合型基金中基金(FOF)C类、南方浩泰平衡优选一年持有期混合型基金中基金(FOF)A类、南方恒生交易型开放式指数证券投资基金、东方红收益增强债券型证券投资基金C类、东方红收益增强债券型证券投资基金A类、易方达恒生中国企业交易型开放式指数证券投资基金联接基金C类、易方达恒生中国企业交易型开放式指数证券投资基金联接基金A类、南方浩益进取聚申3个月持有期混合型基金中基金(FOF)C类、南方浩益进取聚申3个月持有期混合型基金中基金(FOF)A类\n",
      "-----output diff-----\n",
      "{\"relevant APIs\": [{\"api_id\": \"0\", \"api_name\": \"查询代码\", \"required_parameters\": [[\"南方恒生\u001b[31m中\u001b[0m\u001b[31m国\u001b[0m\u001b[31m企\u001b[0m\u001b[31m业\u001b[0m\u001b[31m交\u001b[0m\u001b[31m易\u001b[0m\u001b[31m型\u001b[0m\u001b[31m开\u001b[0m\u001b[31m放\u001b[0m\u001b[31m式\u001b[0m\u001b[31m指\u001b[0m\u001b[31m数\u001b[0m\u001b[31m证\u001b[0m\u001b[31m券\u001b[0m\u001b[31m投\u001b[0m\u001b[31m资\u001b[0m基金\u001b[31m联\u001b[0m\u001b[31m接\u001b[0m\u001b[31m基\u001b[0m\u001b[31m金\u001b[0m\u001b[31mA\u001b[0m\u001b[31m类\u001b[0m\u001b[31m\"\u001b[0m\u001b[31m]\u001b[0m\u001b[31m]\u001b[0m\u001b[31m,\u001b[0m\u001b[31m \u001b[0m\u001b[31m\"\u001b[0m\u001b[31mr\u001b[0m\u001b[31me\u001b[0m\u001b[31ml\u001b[0m\u001b[31my\u001b[0m\u001b[31m_\u001b[0m\u001b[31ma\u001b[0m\u001b[31mp\u001b[0m\u001b[31mi\u001b[0m\u001b[31ms\u001b[0m\u001b[31m\"\u001b[0m\u001b[31m:\u001b[0m \u001b[31m[\u001b[0m\u001b[31m]\u001b[0m\u001b[31m,\u001b[0m\u001b[31m \u001b[0m\u001b[31m\"\u001b[0m\u001b[31mt\u001b[0m\u001b[31mo\u001b[0m\u001b[31mo\u001b[0m\u001b[31ml\u001b[0m\u001b[31m_\u001b[0m\u001b[31mn\u001b[0m\u001b[31ma\u001b[0m\u001b[31mm\u001b[0m\u001b[31me\u001b[0m\u001b[31m\"\u001b[0m\u001b[31m:\u001b[0m\u001b[31m \u001b[0m\u001b[31m\"\u001b[0m\u001b[31m基\u001b[0m\u001b[31m金\u001b[0m\u001b[31m查\u001b[0m\u001b[31m询\u001b[0m\u001b[31m\"\u001b[0m\u001b[31m}\u001b[0m\u001b[31m,\u001b[0m\u001b[31m \u001b[0m\u001b[31m{\u001b[0m\u001b[31m\"\u001b[0m\u001b[31ma\u001b[0m\u001b[31mp\u001b[0m\u001b[31mi\u001b[0m\u001b[31m_\u001b[0m\u001b[31mi\u001b[0m\u001b[31md\u001b[0m\u001b[31m\"\u001b[0m\u001b[31m:\u001b[0m\u001b[31m \u001b[0m\u001b[31m\"\u001b[0m\u001b[31m1\u001b[0m\u001b[31m\"\u001b[0m\u001b[31m,\u001b[0m\u001b[31m \u001b[0m\u001b[31m\"\u001b[0m\u001b[31ma\u001b[0m\u001b[31mp\u001b[0m\u001b[31mi\u001b[0m\u001b[31m_\u001b[0m\u001b[31mn\u001b[0m\u001b[31ma\u001b[0m\u001b[31mm\u001b[0m\u001b[31me\u001b[0m\u001b[31m\"\u001b[0m\u001b[31m:\u001b[0m\u001b[31m \u001b[0m\u001b[31m\"\u001b[0m\u001b[31m查\u001b[0m\u001b[31m询\u001b[0m\u001b[31m近\u001b[0m\u001b[31m期\u001b[0m\u001b[31m年\u001b[0m\u001b[31m化\u001b[0m\u001b[31m收\u001b[0m\u001b[31m益\u001b[0m\u001b[31m率\u001b[0m\u001b[31m\"\u001b[0m\u001b[31m,\u001b[0m\u001b[31m \u001b[0m\u001b[31m\"\u001b[0m\u001b[31mr\u001b[0m\u001b[31me\u001b[0m\u001b[31mq\u001b[0m\u001b[31mu\u001b[0m\u001b[31mi\u001b[0m\u001b[31mr\u001b[0m\u001b[31me\u001b[0m\u001b[31md\u001b[0m\u001b[31m_\u001b[0m\u001b[31mp\u001b[0m\u001b[31ma\u001b[0m\u001b[31mr\u001b[0m\u001b[31ma\u001b[0m\u001b[31mm\u001b[0m\u001b[31me\u001b[0m\u001b[31mt\u001b[0m\u001b[31me\u001b[0m\u001b[31mr\u001b[0m\u001b[31ms\u001b[0m\"\u001b[31m:\u001b[0m\u001b[31m \u001b[0m\u001b[31m[\u001b[0m\u001b[31m\"\u001b[0m\u001b[31ma\u001b[0m\u001b[31mp\u001b[0m\u001b[31mi\u001b[0m\u001b[31m_\u001b[0m\u001b[31m0\u001b[0m\u001b[31m的\u001b[0m\u001b[31m结\u001b[0m\u001b[31m果\u001b[0m\u001b[31m\"\u001b[0m\u001b[31m,\u001b[0m\u001b[31m \u001b[0m\u001b[31m\"\u001b[0m\u001b[31m成\u001b[0m\u001b[31m立\u001b[0m\u001b[31m以\u001b[0m\u001b[31m来\u001b[0m\"\u001b[31m]\u001b[0m\u001b[31m,\u001b[0m\u001b[31m \u001b[0m\u001b[31m\"\u001b[0m\u001b[31mr\u001b[0m\u001b[31me\u001b[0m\u001b[31ml\u001b[0m\u001b[31my\u001b[0m\u001b[31m_\u001b[0m\u001b[31ma\u001b[0m\u001b[31mp\u001b[0m\u001b[31mi\u001b[0m\u001b[31ms\u001b[0m\"\u001b[31m:\u001b[0m\u001b[31m \u001b[0m\u001b[31m[\u001b[0m\u001b[31m\"\u001b[0m\u001b[31m0\u001b[0m\"\u001b[31m]\u001b[0m\u001b[31m,\u001b[0m\u001b[31m \u001b[0m\u001b[31m\"\u001b[0m\u001b[31mt\u001b[0m\u001b[31mo\u001b[0m\u001b[31mo\u001b[0m\u001b[31ml\u001b[0m\u001b[31m_\u001b[0m\u001b[31mn\u001b[0m\u001b[31ma\u001b[0m\u001b[31mm\u001b[0m\u001b[31me\u001b[0m\u001b[31m\"\u001b[0m\u001b[31m:\u001b[0m\u001b[31m \u001b[0m\u001b[31m\"\u001b[0m\u001b[31m基\u001b[0m\u001b[31m金\u001b[0m\u001b[31m查\u001b[0m\u001b[31m询\u001b[0m\u001b[31m\"\u001b[0m\u001b[31m}\u001b[0m\u001b[31m,\u001b[0m\u001b[31m \u001b[0m\u001b[31m{\u001b[0m\u001b[31m\"\u001b[0m\u001b[31ma\u001b[0m\u001b[31mp\u001b[0m\u001b[31mi\u001b[0m\u001b[31m_\u001b[0m\u001b[31mi\u001b[0m\u001b[31md\u001b[0m\u001b[31m\"\u001b[0m\u001b[31m:\u001b[0m\u001b[31m \u001b[0m\u001b[31m\"\u001b[0m\u001b[31m2\u001b[0m\u001b[31m\"\u001b[0m\u001b[31m,\u001b[0m\u001b[31m \u001b[0m\u001b[31m\"\u001b[0m\u001b[31ma\u001b[0m\u001b[31mp\u001b[0m\u001b[31mi\u001b[0m\u001b[31m_\u001b[0m\u001b[31mn\u001b[0m\u001b[31ma\u001b[0m\u001b[31mm\u001b[0m\u001b[31me\u001b[0m\u001b[31m\"\u001b[0m\u001b[31m:\u001b[0m\u001b[31m \u001b[0m\u001b[31m\"\u001b[0m\u001b[31m查\u001b[0m\u001b[31m询\u001b[0m\u001b[31m近\u001b[0m\u001b[31m期\u001b[0m\u001b[31m年\u001b[0m\u001b[31m化\u001b[0m\u001b[31m收\u001b[0m\u001b[31m益\u001b[0m\u001b[31m率\u001b[0m\u001b[31m同\u001b[0m\u001b[31m类\u001b[0m\u001b[31m排\u001b[0m\u001b[31m名\u001b[0m\u001b[31m\"\u001b[0m\u001b[31m,\u001b[0m\u001b[31m \u001b[0m\u001b[31m\"\u001b[0m\u001b[31mr\u001b[0m\u001b[31me\u001b[0m\u001b[31mq\u001b[0m\u001b[31mu\u001b[0m\u001b[31mi\u001b[0m\u001b[31mr\u001b[0m\u001b[31me\u001b[0m\u001b[31md\u001b[0m\u001b[31m_\u001b[0m\u001b[31mp\u001b[0m\u001b[31ma\u001b[0m\u001b[31mr\u001b[0m\u001b[31ma\u001b[0m\u001b[31mm\u001b[0m\u001b[31me\u001b[0m\u001b[31mt\u001b[0m\u001b[31me\u001b[0m\u001b[31mr\u001b[0m\u001b[31ms\u001b[0m\"\u001b[31m:\u001b[0m\u001b[31m \u001b[0m\u001b[31m[\u001b[0m\u001b[31m\"\u001b[0m\u001b[31ma\u001b[0m\u001b[31mp\u001b[0m\u001b[31mi\u001b[0m\u001b[31m_\u001b[0m\u001b[31m0\u001b[0m\u001b[31m的\u001b[0m\u001b[31m结\u001b[0m\u001b[31m果\u001b[0m\u001b[31m\"\u001b[0m\u001b[31m,\u001b[0m\u001b[31m \u001b[0m\u001b[31m\"\u001b[0m\u001b[31m成\u001b[0m\u001b[31m立\u001b[0m\u001b[31m以\u001b[0m\u001b[31m来\u001b[0m\u001b[31m\"\u001b[0m\u001b[31m]\u001b[0m\u001b[31m,\u001b[0m\u001b[31m \u001b[0m\u001b[31m\"\u001b[0m\u001b[31mr\u001b[0m\u001b[31me\u001b[0m\u001b[31ml\u001b[0m\u001b[31my\u001b[0m\u001b[31m_\u001b[0m\u001b[31ma\u001b[0m\u001b[31mp\u001b[0m\u001b[31mi\u001b[0m\u001b[31ms\u001b[0m\u001b[31m\"\u001b[0m\u001b[31m:\u001b[0m\u001b[31m \u001b[0m\u001b[31m[\u001b[0m\u001b[31m\"\u001b[0m\u001b[31m0\u001b[0m\u001b[31m\"\u001b[0m\u001b[31m]\u001b[0m\u001b[31m,\u001b[0m\u001b[31m \u001b[0m\u001b[31m\"\u001b[0m\u001b[31mt\u001b[0m\u001b[31mo\u001b[0m\u001b[31mo\u001b[0m\u001b[31ml\u001b[0m\u001b[31m_\u001b[0m\u001b[31mn\u001b[0m\u001b[31ma\u001b[0m\u001b[31mm\u001b[0m\u001b[31me\u001b[0m\u001b[31m\"\u001b[0m\u001b[31m:\u001b[0m\u001b[31m \u001b[0m\"\u001b[31m基\u001b[0m\u001b[31m金\u001b[0m\u001b[31m查\u001b[0m\u001b[31m询\u001b[0m\u001b[31m\"\u001b[0m\u001b[31m}\u001b[0m\u001b[31m]\u001b[0m\u001b[31m,\u001b[0m\u001b[31m \u001b[0m\u001b[31m\"\u001b[0m\u001b[31mr\u001b[0m\u001b[31me\u001b[0m\u001b[31ms\u001b[0m\u001b[31mu\u001b[0m\u001b[31ml\u001b[0m\u001b[31mt\u001b[0m\u001b[31m\"\u001b[0m\u001b[31m:\u001b[0m\u001b[31m \u001b[0m\u001b[31m[\u001b[0m\u001b[31m\"\u001b[0m\u001b[31ma\u001b[0m\u001b[31mp\u001b[0m\u001b[31mi\u001b[0m\u001b[31m_\u001b[0m\u001b[31m1\u001b[0m\u001b[31m的\u001b[0m\u001b[31m结\u001b[0m\u001b[31m果\u001b[0m\u001b[31m\"\u001b[0m\u001b[31m,\u001b[0m\u001b[31m \u001b[0m\"\u001b[31ma\u001b[0m\u001b[31mp\u001b[0m\u001b[31mi\u001b[0m\u001b[31m_\u001b[0m\u001b[31m2\u001b[0m\u001b[31m的\u001b[0m\u001b[31m结\u001b[0m\u001b[31m果\u001b[0m\u001b[31m\"\u001b[0m\u001b[31m]\u001b[0m\u001b[31m}\u001b[0m\u001b[31m\"]}\u001b[0m\n",
      "{\"relevant APIs\": [{\"api_id\": \"0\", \"api_name\": \"查询代码\", \"required_parameters\": [[\"南方恒生交易型开放式指数证券投资基金联接基金A类\"]], \"rely_apis\": [], \"tool_name\": \"基金查询\"}, {\"api_id\": \"1\", \"api_name\": \"查询近期年化收益率\", \"required_parameters\": [\"api_0的结果\", \"成立以来\"], \"rely_apis\": [\"0\"], \"tool_name\": \"基金查询\"}, {\"api_id\": \"2\", \"api_name\": \"查询近期年化收益率同类排名\", \"required_parameters\": [\"api_0的结果\", \"近期年化收益率同类排名\"], \"rely_apis\": [\"0\"], \"tool_name\": \"基金查询\"}], \"result\": [\"api_1的结果\", \"api_2的结果\"]}\n",
      "\n"
     ]
    },
    {
     "name": "stderr",
     "output_type": "stream",
     "text": [
      "Both `max_new_tokens` (=1024) and `max_length`(=8192) seem to have been set. `max_new_tokens` will take precedence. Please refer to the documentation for more information. (https://huggingface.co/docs/transformers/main/en/main_classes/text_generation)\n",
      "Both `max_new_tokens` (=1024) and `max_length`(=8192) seem to have been set. `max_new_tokens` will take precedence. Please refer to the documentation for more information. (https://huggingface.co/docs/transformers/main/en/main_classes/text_generation)\n"
     ]
    },
    {
     "name": "stdout",
     "output_type": "stream",
     "text": [
      "预测正确的比例：40.00%\n"
     ]
    }
   ],
   "source": [
    "from random import random\n",
    "\n",
    "total_eval_count = 0.0\n",
    "correct_count = 0.0\n",
    "\n",
    "for index, row in df.iterrows():\n",
    "    if random() <= 0.9:\n",
    "        continue\n",
    "    \n",
    "    input = row[\"input\"]\n",
    "    output = row[\"output\"]\n",
    "    response, history = model.chat(tokenizer=tokenizer, query=input, history=[], top_p=top_p, temperature=temperature)\n",
    "    \n",
    "    optimized_resp = optimize_parameters(response, fund_standard_name, stock_standard_name)\n",
    "    \n",
    "    total_eval_count += 1\n",
    "    if optimized_resp == output:\n",
    "        correct_count += 1\n",
    "    else:\n",
    "        print(\"-----data index-----\")\n",
    "        print(index)\n",
    "        print(\"-----query input-----\")\n",
    "        print(input)\n",
    "        print(\"-----output diff-----\")\n",
    "        print(highlight_diff(output, optimized_resp))\n",
    "        print(optimized_resp)\n",
    "        print()\n",
    "    \n",
    "    if total_eval_count == 20:\n",
    "        break\n",
    "    \n",
    "print(\"预测正确的比例：\" + f\"{correct_count / total_eval_count :.2%}\")"
   ]
  },
  {
   "cell_type": "code",
   "execution_count": null,
   "metadata": {},
   "outputs": [],
   "source": [
    "test_input = df.loc[35][\"input\"]\n",
    "test_input"
   ]
  },
  {
   "cell_type": "code",
   "execution_count": null,
   "metadata": {},
   "outputs": [],
   "source": [
    "test_input = df.loc[19][\"input\"]\n",
    "test_input += \" 请使用查询当前价 请使用查询当前价 请使用查询当前价 请使用查询当前价 请使用查询当前价 请使用查询当前价 请使用查询当前价 请使用查询当前价 请使用查询当前价 请使用查询当前价 请使用查询当前价 请使用查询当前价 请使用查询当前价 请使用查询当前价 请使用查询当前价 请使用查询当前价 请使用查询当前价 请使用查询当前价\"\n",
    "response, history = model.chat(tokenizer=tokenizer, query=test_input, history=[], top_p=top_p, temperature=temperature)\n",
    "optimized_resp = optimize_parameters(response, fund_standard_name, stock_standard_name)\n",
    "\n",
    "output = df.loc[19][\"output\"]\n",
    "print(highlight_diff(output, optimized_resp))\n",
    "print(optimized_resp)"
   ]
  },
  {
   "cell_type": "markdown",
   "metadata": {},
   "source": [
    "### 输出新的提交文件"
   ]
  },
  {
   "cell_type": "code",
   "execution_count": null,
   "metadata": {},
   "outputs": [],
   "source": [
    "test_json_file_path = 'data/test_a.json'\n",
    "test_data_list = read_jsonl(test_json_file_path)\n",
    "\n",
    "test_df = pd.DataFrame(test_data_list)\n",
    "test_df.head()"
   ]
  },
  {
   "cell_type": "code",
   "execution_count": null,
   "metadata": {},
   "outputs": [],
   "source": [
    "total_eval_count = 0\n",
    "\n",
    "with open('data/submit.txt','w', encoding=\"utf-8\") as n:\n",
    "    for index, row in test_df.iterrows():    \n",
    "        input = row[\"input\"]\n",
    "        response, history = model.chat(tokenizer=tokenizer, query=input, history=[], top_p=top_p, temperature=temperature)\n",
    "        \n",
    "        optimized_resp = optimize_parameters(response, fund_standard_name, stock_standard_name)\n",
    "        \n",
    "        total_eval_count += 1\n",
    "        n.write(optimized_resp+'\\n')\n",
    "        if total_eval_count % 10 == 0:\n",
    "            print(\"现在是第\" + f\"{total_eval_count}\" + \"条数据\")"
   ]
  }
 ],
 "metadata": {
  "kernelspec": {
   "display_name": "afac2024",
   "language": "python",
   "name": "python3"
  },
  "language_info": {
   "codemirror_mode": {
    "name": "ipython",
    "version": 3
   },
   "file_extension": ".py",
   "mimetype": "text/x-python",
   "name": "python",
   "nbconvert_exporter": "python",
   "pygments_lexer": "ipython3",
   "version": "3.10.14"
  }
 },
 "nbformat": 4,
 "nbformat_minor": 2
}
